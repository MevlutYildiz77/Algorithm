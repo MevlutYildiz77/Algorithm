{
 "cells": [
  {
   "cell_type": "markdown",
   "id": "82ce859c",
   "metadata": {},
   "source": [
    "# Maximum Edge of a Triangle\n",
    "Create a function that finds the maximum range of a triangle's third edge, where the side lengths are all integers.\n",
    "\n",
    "Examples\n",
    "next_edge(8, 10) ➞ 17\n",
    "\n",
    "next_edge(5, 7) ➞ 11\n",
    "\n",
    "next_edge(9, 2) ➞ 10\n",
    "Notes\n",
    "(side1 + side2) - 1 = maximum range of third edge.\n",
    "The side lengths of the triangle are positive integers.\n",
    "Don't forget to return the result."
   ]
  },
  {
   "cell_type": "code",
   "execution_count": 4,
   "id": "0f7c0fb3",
   "metadata": {},
   "outputs": [
    {
     "name": "stdout",
     "output_type": "stream",
     "text": [
      "enter the first_edge: 9\n",
      "enter the second_edge: 2\n"
     ]
    },
    {
     "data": {
      "text/plain": [
       "10"
      ]
     },
     "execution_count": 4,
     "metadata": {},
     "output_type": "execute_result"
    }
   ],
   "source": [
    "def third_edge(a, b):\n",
    "    first_edge = int(input(\"enter the first_edge: \"))\n",
    "    second_edge = int(input(\"enter the second_edge: \"))\n",
    "    third_edge = (first_edge + second_edge) - 1\n",
    "    return(third_edge)\n",
    "third_edge(6, 8)\n",
    "    "
   ]
  },
  {
   "cell_type": "markdown",
   "id": "ed64457c",
   "metadata": {},
   "source": [
    "# The Farm Problem\n",
    "In this challenge, a farmer is asking you to tell him how many legs can be counted among all his animals. The farmer breeds three species:\n",
    "\n",
    "chickens = 2 legs\n",
    "cows = 4 legs\n",
    "pigs = 4 legs\n",
    "The farmer has counted his animals and he gives you a subtotal for each species. You have to implement a function that returns the total number of legs of all the animals.\n",
    "\n",
    "Examples\n",
    "animals(2, 3, 5) ➞ 36\n",
    "\n",
    "animals(1, 2, 3) ➞ 22\n",
    "\n",
    "animals(5, 2, 8) ➞ 50\n",
    "Notes\n",
    "Don't forget to return the result.\n",
    "The order of animals passed is animals(chickens, cows, pigs).\n",
    "Remember that the farmer wants to know the total number of legs and not the total number of animals."
   ]
  },
  {
   "cell_type": "code",
   "execution_count": 22,
   "id": "a225d5b7",
   "metadata": {},
   "outputs": [
    {
     "name": "stdout",
     "output_type": "stream",
     "text": [
      "enter the amount of chicken: 5\n",
      "enter the amount of cows: 7\n",
      "enter the amount of pigs: 9\n"
     ]
    },
    {
     "data": {
      "text/plain": [
       "74"
      ]
     },
     "execution_count": 22,
     "metadata": {},
     "output_type": "execute_result"
    }
   ],
   "source": [
    "def legs(chickens, cows, pigs):\n",
    "    chickens = 2 \n",
    "    cows = 4 \n",
    "    pigs = 4 \n",
    "    chickens = int(input(\"enter the amount of chicken: \"))\n",
    "    cows = int(input(\"enter the amount of cows: \"))\n",
    "    pigs = int(input(\"enter the amount of pigs: \"))\n",
    "    total_leg = (chickens * 2) + (pigs * 4) + (cows * 4)\n",
    "    return(total_leg)\n",
    "legs(5, 7, 9)"
   ]
  },
  {
   "cell_type": "code",
   "execution_count": 21,
   "id": "0ba2ac09",
   "metadata": {},
   "outputs": [
    {
     "data": {
      "text/plain": [
       "74"
      ]
     },
     "execution_count": 21,
     "metadata": {},
     "output_type": "execute_result"
    }
   ],
   "source": [
    "def animals(chickens, cows, pigs):\n",
    "\tchickenlegs = chickens * 2\n",
    "\tothers = (pigs + cows) * 4\n",
    "\treturn chickenlegs+others\n",
    "animals(5, 7, 9)"
   ]
  },
  {
   "cell_type": "code",
   "execution_count": 14,
   "id": "d3b0de7b",
   "metadata": {},
   "outputs": [
    {
     "data": {
      "text/plain": [
       "104"
      ]
     },
     "execution_count": 14,
     "metadata": {},
     "output_type": "execute_result"
    }
   ],
   "source": [
    "def animals(chicken,cow,pig):\n",
    "  return chicken * 2 + (cow + pig) * 4\n",
    "animals(6, 8, 15)"
   ]
  },
  {
   "cell_type": "code",
   "execution_count": 17,
   "id": "4d16a5ec",
   "metadata": {},
   "outputs": [
    {
     "data": {
      "text/plain": [
       "74"
      ]
     },
     "execution_count": 17,
     "metadata": {},
     "output_type": "execute_result"
    }
   ],
   "source": [
    "animals = lambda c, m, p: c * 2 + m * 4 + p * 4\n",
    "animals(5, 7, 9)"
   ]
  },
  {
   "cell_type": "code",
   "execution_count": 19,
   "id": "52ef4e69",
   "metadata": {},
   "outputs": [
    {
     "data": {
      "text/plain": [
       "74"
      ]
     },
     "execution_count": 19,
     "metadata": {},
     "output_type": "execute_result"
    }
   ],
   "source": [
    "animals = lambda c, m, p: c * 2 + (m + p) * 4\n",
    "animals(5, 7, 9)"
   ]
  },
  {
   "cell_type": "code",
   "execution_count": 18,
   "id": "dfd695b8",
   "metadata": {},
   "outputs": [
    {
     "data": {
      "text/plain": [
       "86"
      ]
     },
     "execution_count": 18,
     "metadata": {},
     "output_type": "execute_result"
    }
   ],
   "source": [
    "def animals(chickens, cows, pigs):\n",
    "\treturn (2 * chickens) + (4 * cows) + (4 * pigs)\n",
    "animals(5, 7, 12)"
   ]
  },
  {
   "cell_type": "markdown",
   "id": "0a8dac8f",
   "metadata": {},
   "source": [
    "# Frames Per Second\n",
    "Create a function that returns the number of frames shown in a given number of minutes for a certain FPS.\n",
    "\n",
    "Examples\n",
    "frames(1, 1) ➞ 60\n",
    "\n",
    "frames(10, 1) ➞ 600\n",
    "\n",
    "frames(10, 25) ➞ 15000\n",
    "Notes\n",
    "FPS stands for \"frames per second\" and it's the number of frames a computer screen shows every second."
   ]
  },
  {
   "cell_type": "code",
   "execution_count": 25,
   "id": "37fbabc4",
   "metadata": {},
   "outputs": [
    {
     "name": "stdout",
     "output_type": "stream",
     "text": [
      "enter the the first frame amount: 12\n",
      "enter the the second frame amount: 13\n",
      "9360\n"
     ]
    }
   ],
   "source": [
    "def frames(a, b):\n",
    "    \n",
    "    frame1 = int(input(\"enter the the first frame amount: \"))\n",
    "    frame2 = int(input(\"enter the the second frame amount: \"))\n",
    "    frame = 60 * frame1 * frame2\n",
    "    print(frame)\n",
    "    \n",
    "frames(12, 15)"
   ]
  },
  {
   "cell_type": "code",
   "execution_count": 26,
   "id": "9eb7d269",
   "metadata": {},
   "outputs": [
    {
     "data": {
      "text/plain": [
       "9360"
      ]
     },
     "execution_count": 26,
     "metadata": {},
     "output_type": "execute_result"
    }
   ],
   "source": [
    "def frames(minutes, fps):\n",
    "    return minutes * fps * 60\n",
    "frames(12, 13)"
   ]
  },
  {
   "cell_type": "code",
   "execution_count": 27,
   "id": "5b48d379",
   "metadata": {},
   "outputs": [
    {
     "data": {
      "text/plain": [
       "9360"
      ]
     },
     "execution_count": 27,
     "metadata": {},
     "output_type": "execute_result"
    }
   ],
   "source": [
    "def frames(m, f): return m * 60 * f\n",
    "frames(12, 13)"
   ]
  },
  {
   "cell_type": "code",
   "execution_count": null,
   "id": "0a3a49c1",
   "metadata": {},
   "outputs": [],
   "source": []
  }
 ],
 "metadata": {
  "kernelspec": {
   "display_name": "Python 3",
   "language": "python",
   "name": "python3"
  },
  "language_info": {
   "codemirror_mode": {
    "name": "ipython",
    "version": 3
   },
   "file_extension": ".py",
   "mimetype": "text/x-python",
   "name": "python",
   "nbconvert_exporter": "python",
   "pygments_lexer": "ipython3",
   "version": "3.8.8"
  }
 },
 "nbformat": 4,
 "nbformat_minor": 5
}
