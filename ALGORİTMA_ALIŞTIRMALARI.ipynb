{
 "cells": [
  {
   "cell_type": "markdown",
   "source": [
    "# İki Sayının Yerlerini Değiştiren Algoritma ve Akış Şeması"
   ],
   "metadata": {}
  },
  {
   "cell_type": "code",
   "execution_count": 28,
   "source": [
    "sayı1 = 5\r\n",
    "sayı2 = 10\r\n",
    "sayı3 = sayı1\r\n",
    "sayı1 = sayı2\r\n",
    "sayı2 = sayı3\r\n",
    "print(sayı1, sayı2)"
   ],
   "outputs": [
    {
     "output_type": "stream",
     "name": "stdout",
     "text": [
      "10 5\n"
     ]
    }
   ],
   "metadata": {}
  },
  {
   "cell_type": "markdown",
   "source": [
    "# Derece Fahrenhayt Dönüştürme Algoritması"
   ],
   "metadata": {}
  },
  {
   "cell_type": "code",
   "execution_count": 29,
   "source": [
    "C = int(input(\"write the degree: \"))\r\n",
    "F = (C * (9/5)) + 32\r\n",
    "print(F)"
   ],
   "outputs": [
    {
     "output_type": "error",
     "ename": "TypeError",
     "evalue": "'float' object is not callable",
     "traceback": [
      "\u001b[1;31m---------------------------------------------------------------------------\u001b[0m",
      "\u001b[1;31mTypeError\u001b[0m                                 Traceback (most recent call last)",
      "\u001b[1;32m<ipython-input-29-c0f59ee1e4e5>\u001b[0m in \u001b[0;36m<module>\u001b[1;34m\u001b[0m\n\u001b[1;32m----> 1\u001b[1;33m \u001b[0mC\u001b[0m \u001b[1;33m=\u001b[0m \u001b[0mint\u001b[0m\u001b[1;33m(\u001b[0m\u001b[0minput\u001b[0m\u001b[1;33m(\u001b[0m\u001b[1;34m\"write the degree: \"\u001b[0m\u001b[1;33m)\u001b[0m\u001b[1;33m)\u001b[0m\u001b[1;33m\u001b[0m\u001b[1;33m\u001b[0m\u001b[0m\n\u001b[0m\u001b[0;32m      2\u001b[0m \u001b[0mF\u001b[0m \u001b[1;33m=\u001b[0m \u001b[1;33m(\u001b[0m\u001b[0mC\u001b[0m \u001b[1;33m*\u001b[0m \u001b[1;33m(\u001b[0m\u001b[1;36m9\u001b[0m\u001b[1;33m/\u001b[0m\u001b[1;36m5\u001b[0m\u001b[1;33m)\u001b[0m\u001b[1;33m)\u001b[0m \u001b[1;33m+\u001b[0m \u001b[1;36m32\u001b[0m\u001b[1;33m\u001b[0m\u001b[1;33m\u001b[0m\u001b[0m\n\u001b[0;32m      3\u001b[0m \u001b[0mprint\u001b[0m\u001b[1;33m(\u001b[0m\u001b[0mF\u001b[0m\u001b[1;33m)\u001b[0m\u001b[1;33m\u001b[0m\u001b[1;33m\u001b[0m\u001b[0m\n",
      "\u001b[1;31mTypeError\u001b[0m: 'float' object is not callable"
     ]
    }
   ],
   "metadata": {}
  },
  {
   "cell_type": "markdown",
   "source": [
    "# İki Kare Farkı Hesaplayan Algoritma ve Akış Diyagramı Örneği"
   ],
   "metadata": {}
  },
  {
   "cell_type": "code",
   "execution_count": 1,
   "source": [
    "num1 = int(input(\"write num1: \"))\r\n",
    "num2 = int(input(\"write num2: \"))\r\n",
    "a = ((num1 * num1) - (num2 * num2))\r\n",
    "print(a)"
   ],
   "outputs": [
    {
     "output_type": "stream",
     "name": "stdout",
     "text": [
      "9\n"
     ]
    }
   ],
   "metadata": {}
  },
  {
   "cell_type": "markdown",
   "source": [
    "# SAYININ ÜSSÜNÜ ALMA"
   ],
   "metadata": {}
  },
  {
   "cell_type": "code",
   "execution_count": null,
   "source": [
    "num1 = int(input(\"write num1: \"))\r\n",
    "num2 = int(input(\"write num2: \"))\r\n",
    "a = (num1 ** num2)\r\n",
    "print(a)"
   ],
   "outputs": [
    {
     "output_type": "stream",
     "name": "stdout",
     "text": [
      "write num1: 2\n",
      "write num2: 3\n",
      "8\n"
     ]
    }
   ],
   "metadata": {}
  },
  {
   "cell_type": "markdown",
   "source": [
    "# Yazılı ve Performans Notu Ortalaması Hesaplayan Algoritma ve Akış Şeması"
   ],
   "metadata": {}
  },
  {
   "cell_type": "code",
   "execution_count": null,
   "source": [
    "yazılı1 = int(input(\"write yazılı1: \"))\r\n",
    "yazılı2 = int(input(\"write yazılı: \"))\r\n",
    "perf = int(input(\"write perf: \"))\r\n",
    "ort = (yazılı1 + yazılı2 + perf) / 3\r\n",
    "print(ort)"
   ],
   "outputs": [
    {
     "output_type": "stream",
     "name": "stdout",
     "text": [
      "write yazılı1: 80\n",
      "write yazılı: 70\n",
      "write perf: 90\n",
      "80.0\n"
     ]
    }
   ],
   "metadata": {}
  },
  {
   "cell_type": "markdown",
   "source": [
    "# Personel Yılbaşı İkramiye Algoritma ve Akış Şeması"
   ],
   "metadata": {}
  },
  {
   "cell_type": "code",
   "execution_count": null,
   "source": [
    "maas = int(input(\"maaşınızı giriniz: \"))\r\n",
    "cocuk = int(input(\"çocuk sayısını giriniz: \"))\r\n",
    "#ikramiye = maas * cocuk\r\n",
    "#cocuk = [0, 1, 2, 3]\r\n",
    "if cocuk == 0:\r\n",
    "    print(\"İkramiye tutarınız: \", maas * 0.01)\r\n",
    "elif cocuk == 1:\r\n",
    "    print(\"İkramiye tutarınız: \", maas * 0.03)\r\n",
    "elif cocuk == 2:\r\n",
    "    print(\"İkramiye tutarınız: \", maas * 0.05)\r\n",
    "else:\r\n",
    "    print(\"İkramiye tutarınız: \", maas * 0.10)\r\n",
    "  "
   ],
   "outputs": [
    {
     "output_type": "stream",
     "name": "stdout",
     "text": [
      "maaşınızı giriniz: 2500\n",
      "çocuk sayısını giriniz: 2\n",
      "İkramiye tutarınız:  125.0\n"
     ]
    }
   ],
   "metadata": {}
  },
  {
   "cell_type": "markdown",
   "source": [
    "# Örnek-2: 1-20 aralığındaki sayıların toplamını ekrana yazdıran programın algoritmasını hazırlayınız."
   ],
   "metadata": {}
  },
  {
   "cell_type": "code",
   "execution_count": null,
   "source": [
    "\r\n",
    "\r\n",
    "liste = [*range(21)]\r\n",
    "toplam = 0\r\n",
    "sayaç = 0\r\n",
    "if sayac > 20:\r\n",
    "    print(toplam)\r\n",
    "    sayac = sayac + 1\r\n",
    "    toplam = toplam + sayac\r\n",
    "    print(toplam)"
   ],
   "outputs": [
    {
     "output_type": "error",
     "ename": "NameError",
     "evalue": "name 'sayac' is not defined",
     "traceback": [
      "\u001b[1;31m---------------------------------------------------------------------------\u001b[0m",
      "\u001b[1;31mNameError\u001b[0m                                 Traceback (most recent call last)",
      "\u001b[1;32m<ipython-input-52-337ef1c1cd5b>\u001b[0m in \u001b[0;36m<module>\u001b[1;34m\u001b[0m\n\u001b[0;32m      2\u001b[0m \u001b[0mtoplam\u001b[0m \u001b[1;33m=\u001b[0m \u001b[1;36m0\u001b[0m\u001b[1;33m\u001b[0m\u001b[1;33m\u001b[0m\u001b[0m\n\u001b[0;32m      3\u001b[0m \u001b[0msayaç\u001b[0m \u001b[1;33m=\u001b[0m \u001b[1;33m[\u001b[0m\u001b[1;33m]\u001b[0m\u001b[1;33m\u001b[0m\u001b[1;33m\u001b[0m\u001b[0m\n\u001b[1;32m----> 4\u001b[1;33m \u001b[1;32mif\u001b[0m \u001b[0msayac\u001b[0m \u001b[1;33m>\u001b[0m \u001b[1;36m20\u001b[0m\u001b[1;33m:\u001b[0m\u001b[1;33m\u001b[0m\u001b[1;33m\u001b[0m\u001b[0m\n\u001b[0m\u001b[0;32m      5\u001b[0m     \u001b[0mprint\u001b[0m\u001b[1;33m(\u001b[0m\u001b[0mtoplam\u001b[0m\u001b[1;33m)\u001b[0m\u001b[1;33m\u001b[0m\u001b[1;33m\u001b[0m\u001b[0m\n\u001b[0;32m      6\u001b[0m     \u001b[0msayac\u001b[0m \u001b[1;33m=\u001b[0m \u001b[0msayac\u001b[0m \u001b[1;33m+\u001b[0m \u001b[1;36m1\u001b[0m\u001b[1;33m\u001b[0m\u001b[1;33m\u001b[0m\u001b[0m\n",
      "\u001b[1;31mNameError\u001b[0m: name 'sayac' is not defined"
     ]
    }
   ],
   "metadata": {}
  },
  {
   "cell_type": "markdown",
   "source": [
    "# Örnek-5: Klavyeden girilen bir sayının Faktöryelini bulan programın algoritmasını hazırlayınız."
   ],
   "metadata": {}
  },
  {
   "cell_type": "code",
   "execution_count": null,
   "source": [
    "n = int(input(\"Bir sayı giriniz: \"))\r\n",
    "s = 0\r\n",
    "carpım= 1\r\n",
    "s = s + 1\r\n",
    "if s > n:\r\n",
    "    print(carpım)\r\n",
    "carpım = carpım * s\r\n",
    "s = s + 1\r\n",
    "print(carpım)\r\n"
   ],
   "outputs": [
    {
     "output_type": "stream",
     "name": "stdout",
     "text": [
      "Bir sayı giriniz: 5\n",
      "1\n"
     ]
    }
   ],
   "metadata": {}
  },
  {
   "cell_type": "markdown",
   "source": [
    "# Klavyeden girilen 5 adet sayının toplamının çift mi tek mi olduğunu yazdıran programın python kodlarını yazınız."
   ],
   "metadata": {}
  },
  {
   "cell_type": "code",
   "execution_count": null,
   "source": [
    "#def toplam():\r\n",
    "num1 = int(input(\"write num1: \"))\r\n",
    "num2 = int(input(\"write num2: \"))\r\n",
    "num3 = int(input(\"write num3: \"))\r\n",
    "num4 = int(input(\"write num4: \"))\r\n",
    "num5 = int(input(\"write num5: \"))\r\n",
    "toplam = num1 + num2 + num3 + num4 +num5\r\n",
    "if toplam % 2 == 0:\r\n",
    "    print(\"Sayıların toplamı : \", {toplam}, \"çifttir\")\r\n",
    "else:\r\n",
    "    print(\"Sayıların toplamı : \", {toplam}, \"tektir\")\r\n",
    "        \r\n",
    "\r\n",
    "    \r\n"
   ],
   "outputs": [
    {
     "output_type": "stream",
     "name": "stdout",
     "text": [
      "write num1: 14\n",
      "write num2: 15\n",
      "write num3: 18\n",
      "write num4: 19\n",
      "write num5: 20\n",
      "Sayıların toplamı :  {86} çifttir\n"
     ]
    }
   ],
   "metadata": {}
  },
  {
   "cell_type": "markdown",
   "source": [
    "# Kullanıcıdan doğum yılı bilgisi alınarak kaç yaşında olduğunu söyleyen programın python kodlarını yazınız"
   ],
   "metadata": {}
  },
  {
   "cell_type": "code",
   "execution_count": null,
   "source": [
    "dogum_tarihi = int(input(\"Doğum tarihini giriniz: \"))\r\n",
    "güncel_tarih = int(input(\"içinde bulunduğunuz yılı giriniz: \"))\r\n",
    "yas = güncel_tarih - dogum_tarihi\r\n",
    "print(yas)"
   ],
   "outputs": [
    {
     "output_type": "stream",
     "name": "stdout",
     "text": [
      "Doğum tarihini giriniz: 1977\n",
      "içinde bulunduğunuz yılı giriniz: 2021\n",
      "44\n"
     ]
    }
   ],
   "metadata": {}
  },
  {
   "cell_type": "markdown",
   "source": [
    "# Kullanıcının kilo bilgisi alınarak kilo 50 ve altında ise zayıfsın, 50-80 arası fitsin, 80 ve üstü ise kilo almışsın şeklinde ekranda yazdırınız"
   ],
   "metadata": {}
  },
  {
   "cell_type": "code",
   "execution_count": null,
   "source": [
    "kilo = int(input(\"Kilonuzu giriniz: \"))\r\n",
    "if kilo < 50:\r\n",
    "    if kilo < 40:\r\n",
    "        print(\"Çok ama çok zayıfsın\")\r\n",
    "    else:\r\n",
    "        print(\"Zayıfsın\")\r\n",
    "if kilo < 80:\r\n",
    "    if kilo > 65 :\r\n",
    "        print(\"Fitsin\")\r\n",
    "    else : \r\n",
    "        print(\"Çok Fitsin\")\r\n",
    "if kilo >80 :\r\n",
    "    if kilo > 95:\r\n",
    "        print(\"Çok kilo almışsın\")\r\n",
    "    else:\r\n",
    "        print(\"Kilo almışsın\")"
   ],
   "outputs": [
    {
     "output_type": "stream",
     "name": "stdout",
     "text": [
      "Kilonuzu giriniz: 35\n",
      "Çok ama çok zayıfsın\n",
      "Çok Fitsin\n"
     ]
    }
   ],
   "metadata": {}
  },
  {
   "cell_type": "markdown",
   "source": [
    "# Haftanın gün bilgisini alıp cumartesi ve pazarsa tatil, değilse çalışıyorsun şeklinde ekrana uyarı veren programın python kodlarını yazınız"
   ],
   "metadata": {}
  },
  {
   "cell_type": "code",
   "execution_count": null,
   "source": [
    "gün = input(\"günü giriniz: \")\r\n",
    "if gün == \"Cumartesi\" or gün == \"Pazar\":\r\n",
    "    print(\"Tatil\")\r\n",
    "else:\r\n",
    "    print(\"Çalışyorsun\")"
   ],
   "outputs": [
    {
     "output_type": "stream",
     "name": "stdout",
     "text": [
      "günü giriniz: SAlı\n",
      "Çalışyorsun\n"
     ]
    }
   ],
   "metadata": {}
  },
  {
   "cell_type": "markdown",
   "source": [
    "# Kullanıcının yaş bilgisi alınıp 12 yaşından küçükse çocuk 12-28 yaş arası ise genç, 28-40 yaş arası ise orta yaşlı 40 yaştan büyükse yaşlı şeklinde ekrana yazdıran programın python kodlarını yazınız."
   ],
   "metadata": {}
  },
  {
   "cell_type": "code",
   "execution_count": null,
   "source": [
    "yaş = int(input(\"Yaşınızı giriniz: \"))\r\n",
    "if yaş < 12:\r\n",
    "    print(\"Çocuk\")\r\n",
    "elif 12 <= yaş < 28:\r\n",
    "    print(\"Genç\")\r\n",
    "elif 28 <= yaş < 40 :\r\n",
    "    print(\"Orta Yaşlı\")\r\n",
    "else:\r\n",
    "    print(\"Yaşlı\")\r\n",
    "    "
   ],
   "outputs": [
    {
     "output_type": "stream",
     "name": "stdout",
     "text": [
      "Yaşınızı giriniz: 40\n",
      "Yaşlı\n"
     ]
    }
   ],
   "metadata": {}
  },
  {
   "cell_type": "markdown",
   "source": [
    "# 0 dan 100'e kadar olan sayılardan 2 ve 3 bölünenleri ekranda sıralayan programın python kodlarını yazınız."
   ],
   "metadata": {}
  },
  {
   "cell_type": "code",
   "execution_count": null,
   "source": [
    "for i in range(0, 100):\r\n",
    "    \r\n",
    "    if (i % 2 == 0):\r\n",
    "        print(i, end = ',')\r\n",
    "    if (i % 3 == 0, ):\r\n",
    "        print(i, end = ',')\r\n",
    "    else:\r\n",
    "        print(\"\", end = ',')"
   ],
   "outputs": [
    {
     "output_type": "stream",
     "name": "stdout",
     "text": [
      "0,0,1,2,2,3,4,4,5,6,6,7,8,8,9,10,10,11,12,12,13,14,14,15,16,16,17,18,18,19,20,20,21,22,22,23,24,24,25,26,26,27,28,28,29,30,30,31,32,32,33,34,34,35,36,36,37,38,38,39,40,40,41,42,42,43,44,44,45,46,46,47,48,48,49,50,50,51,52,52,53,54,54,55,56,56,57,58,58,59,60,60,61,62,62,63,64,64,65,66,66,67,68,68,69,70,70,71,72,72,73,74,74,75,76,76,77,78,78,79,80,80,81,82,82,83,84,84,85,86,86,87,88,88,89,90,90,91,92,92,93,94,94,95,96,96,97,98,98,99,"
     ]
    }
   ],
   "metadata": {}
  },
  {
   "cell_type": "code",
   "execution_count": null,
   "source": [
    "list = []\r\n",
    "for i in range(0, 100):\r\n",
    " \r\n",
    "    if (i % 2 == 0) and (i % 3 == 0):\r\n",
    "        print(i, end = ',')\r\n",
    "    else:\r\n",
    "        print(\"\", end = ',')"
   ],
   "outputs": [
    {
     "output_type": "stream",
     "name": "stdout",
     "text": [
      "0,,,,,,6,,,,,,12,,,,,,18,,,,,,24,,,,,,30,,,,,,36,,,,,,42,,,,,,48,,,,,,54,,,,,,60,,,,,,66,,,,,,72,,,,,,78,,,,,,84,,,,,,90,,,,,,96,,,,"
     ]
    }
   ],
   "metadata": {}
  },
  {
   "cell_type": "code",
   "execution_count": null,
   "source": [
    "a = 0\r\n",
    "while a < 100:\r\n",
    "    a = a + 1\r\n",
    "    if a % 2 ==0:\r\n",
    "        print(a, \"2'ye bölünür\", end = ',')\r\n",
    "    if a % 3 == 0:\r\n",
    "        print(a, \"3'e bölünür\", end = ',')\r\n",
    "    "
   ],
   "outputs": [
    {
     "output_type": "stream",
     "name": "stdout",
     "text": [
      "2 2'ye bölünür,3 3'e bölünür,4 2'ye bölünür,6 2'ye bölünür,6 3'e bölünür,8 2'ye bölünür,9 3'e bölünür,10 2'ye bölünür,12 2'ye bölünür,12 3'e bölünür,14 2'ye bölünür,15 3'e bölünür,16 2'ye bölünür,18 2'ye bölünür,18 3'e bölünür,20 2'ye bölünür,21 3'e bölünür,22 2'ye bölünür,24 2'ye bölünür,24 3'e bölünür,26 2'ye bölünür,27 3'e bölünür,28 2'ye bölünür,30 2'ye bölünür,30 3'e bölünür,32 2'ye bölünür,33 3'e bölünür,34 2'ye bölünür,36 2'ye bölünür,36 3'e bölünür,38 2'ye bölünür,39 3'e bölünür,40 2'ye bölünür,42 2'ye bölünür,42 3'e bölünür,44 2'ye bölünür,45 3'e bölünür,46 2'ye bölünür,48 2'ye bölünür,48 3'e bölünür,50 2'ye bölünür,51 3'e bölünür,52 2'ye bölünür,54 2'ye bölünür,54 3'e bölünür,56 2'ye bölünür,57 3'e bölünür,58 2'ye bölünür,60 2'ye bölünür,60 3'e bölünür,62 2'ye bölünür,63 3'e bölünür,64 2'ye bölünür,66 2'ye bölünür,66 3'e bölünür,68 2'ye bölünür,69 3'e bölünür,70 2'ye bölünür,72 2'ye bölünür,72 3'e bölünür,74 2'ye bölünür,75 3'e bölünür,76 2'ye bölünür,78 2'ye bölünür,78 3'e bölünür,80 2'ye bölünür,81 3'e bölünür,82 2'ye bölünür,84 2'ye bölünür,84 3'e bölünür,86 2'ye bölünür,87 3'e bölünür,88 2'ye bölünür,90 2'ye bölünür,90 3'e bölünür,92 2'ye bölünür,93 3'e bölünür,94 2'ye bölünür,96 2'ye bölünür,96 3'e bölünür,98 2'ye bölünür,99 3'e bölünür,100 2'ye bölünür,"
     ]
    }
   ],
   "metadata": {}
  },
  {
   "cell_type": "markdown",
   "source": [
    "# 8) 0 ile 100 sayısı arasında 4 e bölünen sayıları listeleyen programın python kodlarını yazınız"
   ],
   "metadata": {}
  },
  {
   "cell_type": "code",
   "execution_count": null,
   "source": [
    "list = []\r\n",
    "for i in range(0, 100):\r\n",
    "    if i % 4 == 0:\r\n",
    "        list.append(i)\r\n",
    "        print(i, end = ',')"
   ],
   "outputs": [
    {
     "output_type": "stream",
     "name": "stdout",
     "text": [
      "4,8,12,16,20,24,28,32,36,40,44,48,52,56,60,64,68,72,76,80,84,88,92,96,100,"
     ]
    }
   ],
   "metadata": {}
  },
  {
   "cell_type": "markdown",
   "source": [
    "# 9) 1 den 100 e kadar olan sayıları toplayan programın python kodlarını yazınız. NOT: BUNU YAPAMADIM"
   ],
   "metadata": {}
  },
  {
   "cell_type": "code",
   "execution_count": null,
   "source": [
    "for i in range(1, 101):\r\n",
    "    i.sum()\r\n",
    "    i = i + 1\r\n",
    "    print(i)"
   ],
   "outputs": [
    {
     "output_type": "error",
     "ename": "AttributeError",
     "evalue": "'int' object has no attribute 'sum'",
     "traceback": [
      "\u001b[1;31m---------------------------------------------------------------------------\u001b[0m",
      "\u001b[1;31mAttributeError\u001b[0m                            Traceback (most recent call last)",
      "\u001b[1;32m<ipython-input-10-9a89d6207620>\u001b[0m in \u001b[0;36m<module>\u001b[1;34m\u001b[0m\n\u001b[0;32m      1\u001b[0m \u001b[1;32mfor\u001b[0m \u001b[0mi\u001b[0m \u001b[1;32min\u001b[0m \u001b[0mrange\u001b[0m\u001b[1;33m(\u001b[0m\u001b[1;36m1\u001b[0m\u001b[1;33m,\u001b[0m \u001b[1;36m101\u001b[0m\u001b[1;33m)\u001b[0m\u001b[1;33m:\u001b[0m\u001b[1;33m\u001b[0m\u001b[1;33m\u001b[0m\u001b[0m\n\u001b[1;32m----> 2\u001b[1;33m     \u001b[0mi\u001b[0m\u001b[1;33m.\u001b[0m\u001b[0msum\u001b[0m\u001b[1;33m(\u001b[0m\u001b[1;33m)\u001b[0m\u001b[1;33m\u001b[0m\u001b[1;33m\u001b[0m\u001b[0m\n\u001b[0m\u001b[0;32m      3\u001b[0m     \u001b[0mi\u001b[0m \u001b[1;33m=\u001b[0m \u001b[0mi\u001b[0m \u001b[1;33m+\u001b[0m \u001b[1;36m1\u001b[0m\u001b[1;33m\u001b[0m\u001b[1;33m\u001b[0m\u001b[0m\n\u001b[0;32m      4\u001b[0m     \u001b[0mprint\u001b[0m\u001b[1;33m(\u001b[0m\u001b[0mi\u001b[0m\u001b[1;33m)\u001b[0m\u001b[1;33m\u001b[0m\u001b[1;33m\u001b[0m\u001b[0m\n",
      "\u001b[1;31mAttributeError\u001b[0m: 'int' object has no attribute 'sum'"
     ]
    }
   ],
   "metadata": {}
  },
  {
   "cell_type": "code",
   "execution_count": null,
   "source": [
    "a = 0\r\n",
    "toplam = 0\r\n",
    "while a < 100:\r\n",
    "    a = a + 1\r\n",
    "    toplam = toplam + a\r\n",
    "    print(toplam, end = ',')"
   ],
   "outputs": [
    {
     "output_type": "stream",
     "name": "stdout",
     "text": [
      "1,3,6,10,15,21,28,36,45,55,66,78,91,105,120,136,153,171,190,210,231,253,276,300,325,351,378,406,435,465,496,528,561,595,630,666,703,741,780,820,861,903,946,990,1035,1081,1128,1176,1225,1275,1326,1378,1431,1485,1540,1596,1653,1711,1770,1830,1891,1953,2016,2080,2145,2211,2278,2346,2415,2485,2556,2628,2701,2775,2850,2926,3003,3081,3160,3240,3321,3403,3486,3570,3655,3741,3828,3916,4005,4095,4186,4278,4371,4465,4560,4656,4753,4851,4950,5050,"
     ]
    }
   ],
   "metadata": {}
  },
  {
   "cell_type": "markdown",
   "source": [
    "# 10) Suyun derecesi sorulan kullanıcıdan alınan bilgiye göre su buz mu sıvı mı yoksa buhar halde mi ekranda gösteren programın python kodlarını yazınız."
   ],
   "metadata": {}
  },
  {
   "cell_type": "code",
   "execution_count": null,
   "source": [
    "derece = int(input(\"Suyun sıcaklığınını giriniz: \"))\r\n",
    "if derece  < 0:\r\n",
    "    print(\"Buz\")\r\n",
    "elif 0 < derece < 100:\r\n",
    "    print(\"Sıvı\")\r\n",
    "else:\r\n",
    "    print(\"Buhar\")"
   ],
   "outputs": [
    {
     "output_type": "stream",
     "name": "stdout",
     "text": [
      "Suyun sıcaklığınını giriniz: 102\n",
      "Buhar\n"
     ]
    }
   ],
   "metadata": {}
  },
  {
   "cell_type": "markdown",
   "source": [
    "# 11) 1 den 100 e kadar olan tek sayıları sıralayan programın python kodlarını yazınız."
   ],
   "metadata": {}
  },
  {
   "cell_type": "code",
   "execution_count": null,
   "source": [
    "for i in range(1, 101):\r\n",
    "    if i % 2 != 0:\r\n",
    "        print(i, end =',')"
   ],
   "outputs": [
    {
     "output_type": "stream",
     "name": "stdout",
     "text": [
      "1,3,5,7,9,11,13,15,17,19,21,23,25,27,29,31,33,35,37,39,41,43,45,47,49,51,53,55,57,59,61,63,65,67,69,71,73,75,77,79,81,83,85,87,89,91,93,95,97,99,"
     ]
    }
   ],
   "metadata": {}
  },
  {
   "cell_type": "code",
   "execution_count": null,
   "source": [
    "a =1 \r\n",
    "while a < 99:\r\n",
    "    a = a + 2\r\n",
    "    print(a, end =',')"
   ],
   "outputs": [
    {
     "output_type": "stream",
     "name": "stdout",
     "text": [
      "3,5,7,9,11,13,15,17,19,21,23,25,27,29,31,33,35,37,39,41,43,45,47,49,51,53,55,57,59,61,63,65,67,69,71,73,75,77,79,81,83,85,87,89,91,93,95,97,99,"
     ]
    }
   ],
   "metadata": {}
  },
  {
   "cell_type": "markdown",
   "source": [
    "# 12) 1 den 100 e kadar çift sayıları sıralayan programın python kodlarını yazınız."
   ],
   "metadata": {}
  },
  {
   "cell_type": "code",
   "execution_count": null,
   "source": [
    "a =0 \r\n",
    "while a < 100:\r\n",
    "    a = a + 2\r\n",
    "    print(a, end =',')"
   ],
   "outputs": [
    {
     "output_type": "stream",
     "name": "stdout",
     "text": [
      "2,4,6,8,10,12,14,16,18,20,22,24,26,28,30,32,34,36,38,40,42,44,46,48,50,52,54,56,58,60,62,64,66,68,70,72,74,76,78,80,82,84,86,88,90,92,94,96,98,100,"
     ]
    }
   ],
   "metadata": {}
  },
  {
   "cell_type": "code",
   "execution_count": null,
   "source": [
    "for i in range(1, 101):\r\n",
    "    if i % 2 == 0:\r\n",
    "        print(i, end =',')"
   ],
   "outputs": [
    {
     "output_type": "stream",
     "name": "stdout",
     "text": [
      "2,4,6,8,10,12,14,16,18,20,22,24,26,28,30,32,34,36,38,40,42,44,46,48,50,52,54,56,58,60,62,64,66,68,70,72,74,76,78,80,82,84,86,88,90,92,94,96,98,100,"
     ]
    }
   ],
   "metadata": {}
  },
  {
   "cell_type": "markdown",
   "source": [
    "# 13) Girilen 5 sayıdan en büyüğünü gösteren programın python kodlarını yazınız."
   ],
   "metadata": {}
  },
  {
   "cell_type": "code",
   "execution_count": null,
   "source": [
    "num1 = int(input(\"num1'i yaz: \"))\r\n",
    "num2 = int(input(\"num2'i yaz: \"))\r\n",
    "num3 = int(input(\"num3'i yaz: \"))\r\n",
    "num4 = int(input(\"num4'i yaz: \"))\r\n",
    "num5 = int(input(\"num5'i yaz: \"))\r\n",
    "if (num1 > num2) and (num1 > num3) and (num1 > num4) and (num1 > num5): \r\n",
    "    print(num1, \"is the biggest number\")\r\n",
    "\r\n",
    "elif (num2 > num1) and (num2 > num3) and (num2 > num4) and (num2 > num5): \r\n",
    "    print(num2, \"is the biggest number\")\r\n",
    "\r\n",
    "elif (num3 > num1) and (num3 > num2) and (num3 > num4) and (num3 > num5): \r\n",
    "    print(num3, \"is the biggest number\")\r\n",
    "\r\n",
    "elif (num4 > num1) and (num4 > num2) and (num4 > num3) and (num4 > num5): \r\n",
    "    print(num4, \"is the biggest number\")\r\n",
    "\r\n",
    "elif (num5 > num1) and (num5 > num2) and (num5 > num3) and (num5 > num4): \r\n",
    "    print(num5, \"is the biggest number\")\r\n"
   ],
   "outputs": [
    {
     "output_type": "stream",
     "name": "stdout",
     "text": [
      "num1'i yaz: 15\n",
      "num2'i yaz: 53\n",
      "num3'i yaz: 75\n",
      "num4'i yaz: 32\n",
      "num5'i yaz: 41\n",
      "75 is the biggest number\n"
     ]
    }
   ],
   "metadata": {}
  },
  {
   "cell_type": "markdown",
   "source": [
    "# 14) Kullanıcının girdiği ismin kaç harfli olduğunu bulan programın python kodlarını yazınız."
   ],
   "metadata": {}
  },
  {
   "cell_type": "code",
   "execution_count": null,
   "source": [
    "isim= input(\"Adınız<ı giriniz: \")\r\n",
    "print(len(isim))"
   ],
   "outputs": [
    {
     "output_type": "stream",
     "name": "stdout",
     "text": [
      "Adınız<ı giriniz: Muhammet\n",
      "8\n"
     ]
    }
   ],
   "metadata": {}
  },
  {
   "cell_type": "markdown",
   "source": [
    "# 15) Kullanıcının istediği sınıra kadar çift sayıları sıralayan programın python kodlarını yazınız ( Örneğin kullanıcı 300 e kadar olan çift sayıları sıralamak istiyorsa nasıl kod yazmalıdır?)\n",
    "## NOTE: 1 DEN SAYIYA KADAR YAPILDIĞINA DİKKAT ET."
   ],
   "metadata": {}
  },
  {
   "cell_type": "code",
   "execution_count": null,
   "source": [
    "sayı = int(input(\"Sayı giriniz: \"))\r\n",
    "for sayı in range (1, sayı):\r\n",
    "    if sayı % 2 == 0:\r\n",
    "        print(sayı, end = ',')\r\n",
    "    \r\n",
    "        "
   ],
   "outputs": [
    {
     "output_type": "stream",
     "name": "stdout",
     "text": [
      "Sayı giriniz: 300\n",
      "2,4,6,8,10,12,14,16,18,20,22,24,26,28,30,32,34,36,38,40,42,44,46,48,50,52,54,56,58,60,62,64,66,68,70,72,74,76,78,80,82,84,86,88,90,92,94,96,98,100,102,104,106,108,110,112,114,116,118,120,122,124,126,128,130,132,134,136,138,140,142,144,146,148,150,152,154,156,158,160,162,164,166,168,170,172,174,176,178,180,182,184,186,188,190,192,194,196,198,200,202,204,206,208,210,212,214,216,218,220,222,224,226,228,230,232,234,236,238,240,242,244,246,248,250,252,254,256,258,260,262,264,266,268,270,272,274,276,278,280,282,284,286,288,290,292,294,296,298,"
     ]
    }
   ],
   "metadata": {}
  },
  {
   "cell_type": "markdown",
   "source": [
    "# 16) Basit bir hesap makinesini python kodları kullanarak yapınız."
   ],
   "metadata": {}
  },
  {
   "cell_type": "code",
   "execution_count": null,
   "source": [
    "a = int(input(\" Birinci sayıyı giriniz: \"))\r\n",
    "b = int(input(\" İkinci sayıyı giriniz: \"))\r\n",
    "d = input(\"Hangi işlemi yapmak istiyorsunuz: \")\r\n",
    "if  d == '*':\r\n",
    "    print(a * b)\r\n",
    "elif d == '+':\r\n",
    "    print(a + b)\r\n",
    "elif d == '-':\r\n",
    "    print(a - b)\r\n",
    "elif d == '/':\r\n",
    "    print(a / b)\r\n",
    "else:\r\n",
    "    print('yanlış tuşa bastınız')"
   ],
   "outputs": [
    {
     "output_type": "stream",
     "name": "stdout",
     "text": [
      " Birinci sayıyı giriniz: 16\n",
      " İkinci sayıyı giriniz: 2\n",
      "Hangi işlemi yapmak istiyorsunuz: /\n",
      "8.0\n"
     ]
    }
   ],
   "metadata": {}
  },
  {
   "cell_type": "markdown",
   "source": [
    "# 17) Klavyeden girilen herhangi bir sayının mutlak değerini hesaplayan python kodlarını yazınız."
   ],
   "metadata": {}
  },
  {
   "cell_type": "code",
   "execution_count": null,
   "source": [
    "# 18. Write a Python program which accepts the radius of a circle from the user and compute the area.\r\n",
    "from math import pi\r\n",
    "r = float(input (\"Input the radius of the circle : \"))\r\n",
    "print (\"The area of the circle with radius \" + str(r) + \" is: \" + str(pi * r**2))"
   ],
   "outputs": [
    {
     "output_type": "stream",
     "name": "stdout",
     "text": [
      "The area of the circle with radius 4.0 is: 50.26548245743669\n"
     ]
    }
   ],
   "metadata": {}
  },
  {
   "cell_type": "code",
   "execution_count": null,
   "source": [
    "# Write a Python program which accepts the user's first and last name and print them in reverse order with a space between them.\r\n",
    "fname = input(\"Input your First Name : \")\r\n",
    "lname = input(\"Input your Last Name : \")\r\n",
    "print (\"Hello  \" + lname + \" \" + fname)"
   ],
   "outputs": [
    {
     "output_type": "stream",
     "name": "stdout",
     "text": [
      "Hello  dfgdfg gdfg\n"
     ]
    }
   ],
   "metadata": {}
  },
  {
   "cell_type": "code",
   "execution_count": null,
   "source": [
    "# Write a Python program which accepts a sequence of comma-separated numbers from user and generate a list and a tuple with those numbers.\r\n",
    "values = input(\"Input some comma seprated numbers : \")\r\n",
    "list = values.split(\",\")\r\n",
    "print('List : ',list)\r\n",
    "tuple = tuple(list)\r\n",
    "print('Tuple : ',tuple)"
   ],
   "outputs": [
    {
     "output_type": "stream",
     "name": "stdout",
     "text": [
      "List :  ['3', '7', '23', '16']\n",
      "Tuple :  ('3', '7', '23', '16')\n"
     ]
    }
   ],
   "metadata": {}
  },
  {
   "cell_type": "code",
   "execution_count": null,
   "source": [
    "# Write a Python program to display the first and last colors from the following list.\r\n",
    "color_list = [\"Red\",\"Green\",\"White\" ,\"Black\"]\r\n",
    "print( \"%s %s\"%(color_list[0],color_list[-1]))\r\n",
    "# Write a Python program to display the first and last colors from the following list.\r\n",
    "color_list = [\"Red\",\"Green\",\"White\" ,\"Black\"]\r\n",
    "print(color_list[0],color_list[-1])"
   ],
   "outputs": [
    {
     "output_type": "stream",
     "name": "stdout",
     "text": [
      "Red Black\n",
      "Red Black\n"
     ]
    }
   ],
   "metadata": {}
  },
  {
   "cell_type": "code",
   "execution_count": null,
   "source": [
    "from math import pi\r\n",
    "r = float(input (\"Input the radius of the circle : \"))\r\n",
    "print (\"The area of the circle with radius \" + str(r) + \" is: \" + str(pi * r**2))"
   ],
   "outputs": [
    {
     "output_type": "stream",
     "name": "stdout",
     "text": [
      "The area of the circle with radius 5.0 is: 78.53981633974483\n"
     ]
    }
   ],
   "metadata": {}
  },
  {
   "cell_type": "code",
   "execution_count": null,
   "source": [
    "# Write a Python program to display the examination schedule. (extract the date from exam_st_date).\r\n",
    "# exam_st_date = (11, 12, 2014)\r\n",
    "# Sample Output: The examination will start from : 11 / 12 / 2014\r\n",
    "\r\n",
    "exam_st_date = (11,12,2014)\r\n",
    "print( \"The examination will start from : %i / %i / %i\"%exam_st_date)"
   ],
   "outputs": [],
   "metadata": {}
  },
  {
   "cell_type": "code",
   "execution_count": null,
   "source": [
    "# Write a Python program that accepts an integer (n) and computes the value of n+nn+nnn. Sample value of n is 5, Expected Result : 615\r\n",
    "a = int(input(\"Input an integer : \"))\r\n",
    "n1 = int( \"%s\" % a )\r\n",
    "n2 = int( \"%s%s\" % (a,a) )\r\n",
    "n3 = int( \"%s%s%s\" % (a,a,a) )\r\n",
    "print (n1+n2+n3)"
   ],
   "outputs": [
    {
     "output_type": "stream",
     "name": "stdout",
     "text": [
      "615\n"
     ]
    }
   ],
   "metadata": {}
  },
  {
   "cell_type": "code",
   "execution_count": null,
   "source": [
    "# Write a Python program to print the documents (syntax, description etc.) of Python built-in function(s). Sample function: abs()\r\n",
    "print(abs.__doc__)"
   ],
   "outputs": [
    {
     "output_type": "stream",
     "name": "stdout",
     "text": [
      "Return the absolute value of the argument.\n"
     ]
    }
   ],
   "metadata": {}
  },
  {
   "cell_type": "code",
   "execution_count": null,
   "source": [
    "# Write a Python program to print the calendar of a given month and year. Note: Use 'calendar' module.\r\n",
    "import calendar\r\n",
    "y = int(input(\"Input the year : \"))\r\n",
    "m = int(input(\"Input the month : \"))\r\n",
    "print(calendar.month(y, m))"
   ],
   "outputs": [
    {
     "output_type": "stream",
     "name": "stdout",
     "text": [
      "    August 2021\n",
      "Mo Tu We Th Fr Sa Su\n",
      "                   1\n",
      " 2  3  4  5  6  7  8\n",
      " 9 10 11 12 13 14 15\n",
      "16 17 18 19 20 21 22\n",
      "23 24 25 26 27 28 29\n",
      "30 31\n",
      "\n"
     ]
    }
   ],
   "metadata": {}
  },
  {
   "cell_type": "code",
   "execution_count": null,
   "source": [
    "# Write a Python program to print the following 'here document'.\r\n",
    "\r\n",
    "# Sample string:\r\n",
    "# a string that you \"don't\" have to escape\r\n",
    "# This\r\n",
    "# is a ....... multi-line\r\n",
    "# heredoc string --------> example\r\n",
    "print(\"\"\"\r\n",
    "a string that you \"don't\" have to escape\r\n",
    "This\r\n",
    "is a  ....... multi-line\r\n",
    "heredoc string --------> example\r\n",
    "\"\"\")"
   ],
   "outputs": [
    {
     "output_type": "stream",
     "name": "stdout",
     "text": [
      "\n",
      "a string that you \"don't\" have to escape\n",
      "This\n",
      "is a  ....... multi-line\n",
      "heredoc string --------> example\n",
      "\n"
     ]
    }
   ],
   "metadata": {}
  },
  {
   "cell_type": "code",
   "execution_count": null,
   "source": [
    "# Write a Python program to calculate number of days between two dates.\r\n",
    "from datetime import date\r\n",
    "f_date = date(2014, 7, 2)\r\n",
    "l_date = date(2014, 7, 11)\r\n",
    "delta = l_date - f_date\r\n",
    "print(delta.days)"
   ],
   "outputs": [
    {
     "output_type": "stream",
     "name": "stdout",
     "text": [
      "9\n"
     ]
    }
   ],
   "metadata": {}
  },
  {
   "cell_type": "code",
   "execution_count": null,
   "source": [
    "# Get the volume of a sphere with radius 6\r\n",
    "pi = 3.1415926535897931\r\n",
    "r= 6.0\r\n",
    "V= 4.0/3.0*pi* r**3\r\n",
    "print('The volume of the sphere is: ',V)\r\n"
   ],
   "outputs": [
    {
     "output_type": "stream",
     "name": "stdout",
     "text": [
      "The volume of the sphere is:  904.7786842338603\n"
     ]
    }
   ],
   "metadata": {}
  },
  {
   "cell_type": "code",
   "execution_count": null,
   "source": [
    "# Write a Python program to get the difference between a given number and 17, if the number is greater than 17 return double the absolute difference.\r\n",
    "def difference(n):\r\n",
    "    if n <= 17:\r\n",
    "        return 17 - n\r\n",
    "    else:\r\n",
    "        return (n - 17) * 2 \r\n",
    "\r\n",
    "print(difference(22))\r\n",
    "print(difference(14))"
   ],
   "outputs": [
    {
     "output_type": "stream",
     "name": "stdout",
     "text": [
      "10\n",
      "3\n"
     ]
    }
   ],
   "metadata": {}
  },
  {
   "cell_type": "markdown",
   "source": [
    "Write a Python program to test whether a number is within 100 of 1000 or 2000. "
   ],
   "metadata": {}
  },
  {
   "cell_type": "code",
   "execution_count": null,
   "source": [
    "def near_thousand(n):\r\n",
    "\t      return ((abs(1000 - n) <= 100) or (abs(2000 - n) <= 100))\r\n",
    "print(near_thousand(1000))\r\n",
    "print(near_thousand(900))\r\n",
    "print(near_thousand(800))   \r\n",
    "print(near_thousand(2200))"
   ],
   "outputs": [
    {
     "output_type": "stream",
     "name": "stdout",
     "text": [
      "True\n",
      "True\n",
      "False\n",
      "False\n"
     ]
    }
   ],
   "metadata": {}
  },
  {
   "cell_type": "markdown",
   "source": [
    "Write a Python program to calculate the sum of three given numbers, if the values are equal then return three times of their sum."
   ],
   "metadata": {}
  },
  {
   "cell_type": "code",
   "execution_count": null,
   "source": [
    "def sum_thrice(x, y, z):\r\n",
    "\r\n",
    "     sum = x + y + z\r\n",
    "  \r\n",
    "     if x == y == z:\r\n",
    "      sum = sum * 3\r\n",
    "     return sum\r\n",
    "\r\n",
    "print(sum_thrice(1, 2, 3))\r\n",
    "print(sum_thrice(3, 3, 3))"
   ],
   "outputs": [
    {
     "output_type": "stream",
     "name": "stdout",
     "text": [
      "6\n",
      "27\n"
     ]
    }
   ],
   "metadata": {}
  },
  {
   "cell_type": "code",
   "execution_count": null,
   "source": [
    "def sum_thrice(x, y, z):\r\n",
    "\r\n",
    "     sum = x + y + z\r\n",
    "  \r\n",
    "     if x == y == z:\r\n",
    "      sum = sum * 3\r\n",
    "     else:\r\n",
    "         return sum\r\n",
    "\r\n",
    "print(sum_thrice(1, 2, 3))\r\n",
    "print(sum_thrice(3, 3, 3))"
   ],
   "outputs": [
    {
     "output_type": "stream",
     "name": "stdout",
     "text": [
      "6\n",
      "None\n"
     ]
    }
   ],
   "metadata": {}
  },
  {
   "cell_type": "code",
   "execution_count": null,
   "source": [
    "def nums(num1, num2, num3):\r\n",
    "    if num1 == num2 == num3:\r\n",
    "        return sum(num1 + num2 + num3)\r\n",
    "    else:\r\n",
    "        return print(\"nums aren't equal\")\r\n",
    "\r\n",
    "print(sum_thrice(1, 2, 3))\r\n",
    "print(sum_thrice(3, 3, 3))"
   ],
   "outputs": [
    {
     "output_type": "stream",
     "name": "stdout",
     "text": [
      "6\n",
      "None\n"
     ]
    }
   ],
   "metadata": {}
  },
  {
   "cell_type": "markdown",
   "source": [
    "Write a Python program to get a new string from a given string where \"Is\" has been added to the front. If the given string already begins with \"Is\" then return the string unchanged."
   ],
   "metadata": {}
  },
  {
   "cell_type": "markdown",
   "source": [
    "Write a Python program to get a new string from a given string where \"Is\" has been added to the front. If the given string already begins with \"Is\" then return the string unchanged."
   ],
   "metadata": {}
  },
  {
   "cell_type": "code",
   "execution_count": null,
   "source": [
    "def new_string(str):\r\n",
    "  if len(str) >= 2 and str[:2] == \"Is\":\r\n",
    "    return str\r\n",
    "  return \"Is\" + str\r\n",
    "\r\n",
    "print(new_string(\"Array\"))\r\n",
    "print(new_string(\"IsEmpty\"))"
   ],
   "outputs": [
    {
     "output_type": "stream",
     "name": "stdout",
     "text": [
      "IsArray\n",
      "IsEmpty\n"
     ]
    }
   ],
   "metadata": {}
  },
  {
   "cell_type": "markdown",
   "source": [
    "Write a Python program to get a string which is n (non-negative integer) copies of a given string."
   ],
   "metadata": {}
  },
  {
   "cell_type": "code",
   "execution_count": null,
   "source": [
    "def larger_string(str, n):\r\n",
    "   result = \"\"\r\n",
    "   for i in range(n):\r\n",
    "      result = result + str\r\n",
    "   return result\r\n",
    "\r\n",
    "print(larger_string('abc', 2))\r\n",
    "print(larger_string('.py', 3))"
   ],
   "outputs": [
    {
     "output_type": "stream",
     "name": "stdout",
     "text": [
      "abcabc\n",
      ".py.py.py\n"
     ]
    }
   ],
   "metadata": {}
  },
  {
   "cell_type": "markdown",
   "source": [
    "Write a Python program to find whether a given number (accept from the user) is even or odd, print out an appropriate message to the user."
   ],
   "metadata": {}
  },
  {
   "cell_type": "code",
   "execution_count": null,
   "source": [
    "num = int(input(\"Enter a number: \"))\r\n",
    "mod = num % 2\r\n",
    "if mod > 0:\r\n",
    "    print(\"This is an odd number.\")\r\n",
    "else:\r\n",
    "    print(\"This is an even number.\")"
   ],
   "outputs": [
    {
     "output_type": "stream",
     "name": "stdout",
     "text": [
      "This is an odd number.\n"
     ]
    }
   ],
   "metadata": {}
  },
  {
   "cell_type": "markdown",
   "source": [
    "Write a Python program to count the number 4 in a given list."
   ],
   "metadata": {}
  },
  {
   "cell_type": "code",
   "execution_count": null,
   "source": [
    "def list_count_4(nums):\r\n",
    "  count = 0  \r\n",
    "  for num in nums:\r\n",
    "    if num == 4:\r\n",
    "      count = count + 1\r\n",
    "\r\n",
    "  return count\r\n",
    "\r\n",
    "print(list_count_4([1, 4, 6, 7, 4]))\r\n",
    "print(list_count_4([1, 4, 6, 4, 7, 4]))"
   ],
   "outputs": [
    {
     "output_type": "stream",
     "name": "stdout",
     "text": [
      "2\n",
      "3\n"
     ]
    }
   ],
   "metadata": {}
  },
  {
   "cell_type": "markdown",
   "source": [
    "Write a Python program to get the n (non-negative integer) copies of the first 2 characters of a given string. Return the n copies of the whole string if the length is less than 2."
   ],
   "metadata": {}
  },
  {
   "cell_type": "code",
   "execution_count": null,
   "source": [
    "def substring_copy(str, n):\r\n",
    "  flen = 2\r\n",
    "  if flen > len(str):\r\n",
    "    flen = len(str)\r\n",
    "  substr = str[:flen]\r\n",
    "  \r\n",
    "  result = \"\"\r\n",
    "  for i in range(n):\r\n",
    "    result = result + substr\r\n",
    "  return result\r\n",
    "print(substring_copy('abcdef', 2))\r\n",
    "print(substring_copy('p', 3));"
   ],
   "outputs": [
    {
     "output_type": "stream",
     "name": "stdout",
     "text": [
      "abab\n",
      "ppp\n"
     ]
    }
   ],
   "metadata": {}
  },
  {
   "cell_type": "markdown",
   "source": [
    " Write a Python program to test whether a passed letter is a vowel or not. "
   ],
   "metadata": {}
  },
  {
   "cell_type": "code",
   "execution_count": null,
   "source": [
    "def is_vowel(char):\r\n",
    "    all_vowels = 'aeiou'\r\n",
    "    return char in all_vowels\r\n",
    "print(is_vowel('c'))\r\n",
    "print(is_vowel('e'))"
   ],
   "outputs": [
    {
     "output_type": "stream",
     "name": "stdout",
     "text": [
      "False\n",
      "True\n"
     ]
    }
   ],
   "metadata": {}
  },
  {
   "cell_type": "markdown",
   "source": [
    " Write a Python program to check whether a specified value is contained in a group of values. Go to the editor\r\n",
    "Test Data :\r\n",
    "3 -> [1, 5, 8, 3] : True\r\n",
    "-1 -> [1, 5, 8, 3] : False"
   ],
   "metadata": {}
  },
  {
   "cell_type": "code",
   "execution_count": null,
   "source": [
    "def is_group_member(group_data, n):\r\n",
    "   for value in group_data:\r\n",
    "       if n == value:\r\n",
    "           return True\r\n",
    "   return False\r\n",
    "print(is_group_member([1, 5, 8, 3], 3))\r\n",
    "print(is_group_member([5, 8, 3], -1))"
   ],
   "outputs": [
    {
     "output_type": "stream",
     "name": "stdout",
     "text": [
      "True\n",
      "False\n"
     ]
    }
   ],
   "metadata": {}
  },
  {
   "cell_type": "code",
   "execution_count": null,
   "source": [
    "def is_group_member(group_data, n):\r\n",
    " return n in group_data\r\n",
    "print(is_group_member([1, 5, 8, 3], 3))\r\n",
    "print(is_group_member([5, 8, 3], -1))"
   ],
   "outputs": [
    {
     "output_type": "stream",
     "name": "stdout",
     "text": [
      "True\n",
      "False\n"
     ]
    }
   ],
   "metadata": {}
  },
  {
   "cell_type": "code",
   "execution_count": null,
   "source": [
    "def check_num(lst, n):\r\n",
    "    return n in lst\r\n",
    "print (check_num([1, 5, 8, 3], int(input(\"Search if your number is in here: \" ))))"
   ],
   "outputs": [
    {
     "output_type": "stream",
     "name": "stdout",
     "text": [
      "False\n"
     ]
    }
   ],
   "metadata": {}
  },
  {
   "cell_type": "code",
   "execution_count": null,
   "source": [
    "def check(x,y):\r\n",
    "    return y in x\r\n",
    "\r\n",
    "print(check([1, 5, 8, 3], -1))"
   ],
   "outputs": [
    {
     "output_type": "stream",
     "name": "stdout",
     "text": [
      "False\n"
     ]
    }
   ],
   "metadata": {}
  },
  {
   "cell_type": "code",
   "execution_count": null,
   "source": [
    "import re\r\n",
    "x=input(\"Enter a word:\")\r\n",
    "z=input(\"Enter a word:\")\r\n",
    "if re.findall(x,z): print(\"contain \")\r\n",
    "else:print(\"Does not contain\")"
   ],
   "outputs": [
    {
     "output_type": "stream",
     "name": "stdout",
     "text": [
      "Does not contain\n"
     ]
    }
   ],
   "metadata": {}
  },
  {
   "cell_type": "code",
   "execution_count": null,
   "source": [
    "def check(n,lst):\r\n",
    "    return n in lst\r\n",
    "\r\n",
    "print(check(5,[1, 5, 8, 3]))"
   ],
   "outputs": [
    {
     "output_type": "stream",
     "name": "stdout",
     "text": [
      "True\n"
     ]
    }
   ],
   "metadata": {}
  },
  {
   "cell_type": "code",
   "execution_count": null,
   "source": [
    "l=list(input('enter your list:'))\r\n",
    "v=input('enter your value:')\r\n",
    "if v in l :print(True)\r\n",
    "else:print(False)"
   ],
   "outputs": [
    {
     "output_type": "stream",
     "name": "stdout",
     "text": [
      "False\n"
     ]
    }
   ],
   "metadata": {}
  },
  {
   "cell_type": "code",
   "execution_count": null,
   "source": [
    "number = int(input(\"Please enter a number: \"))\r\n",
    "test_data = input(\"Please enter the test data\")\r\n",
    "print('{}'.format(number) in test_data)"
   ],
   "outputs": [
    {
     "output_type": "stream",
     "name": "stdout",
     "text": [
      "True\n"
     ]
    }
   ],
   "metadata": {}
  },
  {
   "cell_type": "code",
   "execution_count": null,
   "source": [
    "data = input(\"entr data :\")\r\n",
    "print(input(\"enter the value : \") in data)"
   ],
   "outputs": [
    {
     "output_type": "stream",
     "name": "stdout",
     "text": [
      "True\n"
     ]
    }
   ],
   "metadata": {}
  },
  {
   "cell_type": "code",
   "execution_count": null,
   "source": [
    "gp=[1, 5, 8, 3]\r\n",
    "print(gp.__contains__(-1))\r\n",
    "print(5 in gp)"
   ],
   "outputs": [
    {
     "output_type": "stream",
     "name": "stdout",
     "text": [
      "False\n",
      "True\n"
     ]
    }
   ],
   "metadata": {}
  },
  {
   "cell_type": "markdown",
   "source": [
    "Write a Python program to create a histogram from a given list of integers."
   ],
   "metadata": {}
  },
  {
   "cell_type": "markdown",
   "source": [
    "24"
   ],
   "metadata": {}
  },
  {
   "cell_type": "code",
   "execution_count": null,
   "source": [
    "def histogram( items ):\r\n",
    "    for n in items:\r\n",
    "        output = ''\r\n",
    "        times = n\r\n",
    "        while( times > 0 ):\r\n",
    "          output += '*'\r\n",
    "          times = times - 1\r\n",
    "        print(output)\r\n",
    "\r\n",
    "histogram([2, 3, 6, 5])"
   ],
   "outputs": [
    {
     "output_type": "stream",
     "name": "stdout",
     "text": [
      "**\n",
      "***\n",
      "******\n",
      "*****\n"
     ]
    }
   ],
   "metadata": {}
  },
  {
   "cell_type": "markdown",
   "source": [
    "Write a Python program to concatenate all elements in a list into a string and return it."
   ],
   "metadata": {}
  },
  {
   "cell_type": "code",
   "execution_count": null,
   "source": [
    "def concatenate_list_data(list):\r\n",
    "    result= ''\r\n",
    "    for element in list:\r\n",
    "        result += str(element)\r\n",
    "    return result\r\n",
    "\r\n",
    "print(concatenate_list_data([1, 5, 12, 2]))"
   ],
   "outputs": [
    {
     "output_type": "stream",
     "name": "stdout",
     "text": [
      "15122\n"
     ]
    }
   ],
   "metadata": {}
  },
  {
   "cell_type": "code",
   "execution_count": null,
   "source": [
    "list1 = ['1', '2', '3', 4, 5]\r\n",
    "str1 = ''.join(str(e) for e in list1)\r\n",
    "print(str1)"
   ],
   "outputs": [
    {
     "output_type": "stream",
     "name": "stdout",
     "text": [
      "12345\n"
     ]
    }
   ],
   "metadata": {}
  },
  {
   "cell_type": "code",
   "execution_count": null,
   "source": [
    "def concatenate_string(list):\r\n",
    "    for i in list:\r\n",
    "        r = str(i)\r\n",
    "        print(r, end='')\r\n",
    "\r\n",
    "concatenate_string([1, 2, 4, 5])"
   ],
   "outputs": [
    {
     "output_type": "stream",
     "name": "stdout",
     "text": [
      "1245"
     ]
    }
   ],
   "metadata": {}
  },
  {
   "cell_type": "code",
   "execution_count": null,
   "source": [
    "from string import punctuation\r\n",
    "from string import whitespace\r\n",
    "def conca(lis):\r\n",
    "    lis = str(lis)\r\n",
    "    for c in punctuation:\r\n",
    "        lis = lis.replace(c, '')\r\n",
    "    for i in whitespace:\r\n",
    "        lis = lis.replace(i ,'')\r\n",
    "    return lis\r\n",
    "\r\n",
    "print(conca([1, 2, 4, 5, 6]))"
   ],
   "outputs": [
    {
     "output_type": "stream",
     "name": "stdout",
     "text": [
      "12456\n"
     ]
    }
   ],
   "metadata": {}
  },
  {
   "cell_type": "code",
   "execution_count": null,
   "source": [
    "anylist = ['hola', 'que', 'tal', 'como estas']\r\n",
    "join_list = ', '.join(anylist)\r\n",
    "print(join_list)"
   ],
   "outputs": [
    {
     "output_type": "stream",
     "name": "stdout",
     "text": [
      "hola, que, tal, como estas\n"
     ]
    }
   ],
   "metadata": {}
  },
  {
   "cell_type": "code",
   "execution_count": null,
   "source": [
    "elements = list(input(\"Write down all the elements you want to *join* separated by a *,* without spaces: \").split(\",\"))\r\n",
    "\r\n",
    "print(\"\".join(elements))"
   ],
   "outputs": [
    {
     "output_type": "stream",
     "name": "stdout",
     "text": [
      "kutfrhy\n"
     ]
    }
   ],
   "metadata": {}
  },
  {
   "cell_type": "code",
   "execution_count": null,
   "source": [
    "def concat(list):\r\n",
    "    string = ''\r\n",
    "    return string.join(list)\r\n",
    "concat(['1','2','3','4','5'])"
   ],
   "outputs": [
    {
     "output_type": "execute_result",
     "data": {
      "text/plain": [
       "'12345'"
      ]
     },
     "metadata": {},
     "execution_count": 41
    }
   ],
   "metadata": {}
  },
  {
   "cell_type": "code",
   "execution_count": null,
   "source": [
    "def join(lst):\r\n",
    "    for i in lst:\r\n",
    "        print(i, end='')\r\n",
    "join([1, 5, 8, 23])"
   ],
   "outputs": [
    {
     "output_type": "stream",
     "name": "stdout",
     "text": [
      "15823"
     ]
    }
   ],
   "metadata": {}
  },
  {
   "cell_type": "code",
   "execution_count": null,
   "source": [
    "def concatenate(*lst):\r\n",
    "    string=\"\"\r\n",
    "    for itm in lst:\r\n",
    "        string+=str(itm)\r\n",
    "    return string\r\n",
    "print(concatenate(2,3,4,5,6,1,2,3))"
   ],
   "outputs": [
    {
     "output_type": "stream",
     "name": "stdout",
     "text": [
      "23456123\n"
     ]
    }
   ],
   "metadata": {}
  },
  {
   "cell_type": "code",
   "execution_count": null,
   "source": [
    "def concate_list_items(items):\r\n",
    "    output = ''\r\n",
    "    for item in items:\r\n",
    "        output += f'{item} '\r\n",
    "    return output\r\n",
    "\r\n",
    "print(concate_list_items(['vineet', 'scored', 98.5, 'out', 'of', 100]))"
   ],
   "outputs": [
    {
     "output_type": "stream",
     "name": "stdout",
     "text": [
      "vineet scored 98.5 out of 100 \n"
     ]
    }
   ],
   "metadata": {}
  },
  {
   "cell_type": "code",
   "execution_count": null,
   "source": [
    "f= lambda li : \"\".join(str(i) for i in li)\r\n",
    "print(f(['Ali', 'is', 'a',2,3,5, 'boy']))"
   ],
   "outputs": [
    {
     "output_type": "stream",
     "name": "stdout",
     "text": [
      "Aliisa235boy\n"
     ]
    }
   ],
   "metadata": {}
  },
  {
   "cell_type": "code",
   "execution_count": null,
   "source": [
    "x = ''\r\n",
    "for i in [5, 8, 9, 6, 3, 4, 8, 4]:\r\n",
    "    x += str(i)\r\n",
    "print(x)"
   ],
   "outputs": [
    {
     "output_type": "stream",
     "name": "stdout",
     "text": [
      "58963484\n"
     ]
    }
   ],
   "metadata": {}
  },
  {
   "cell_type": "code",
   "execution_count": null,
   "source": [
    "x=[5,8,9,6]\r\n",
    "print(*x,sep=\"\")"
   ],
   "outputs": [
    {
     "output_type": "stream",
     "name": "stdout",
     "text": [
      "5896\n"
     ]
    }
   ],
   "metadata": {}
  },
  {
   "cell_type": "code",
   "execution_count": null,
   "source": [
    "lst = [1, 2, 3, 4, 5]\r\n",
    "print(''.join(str(x) for x in lst))"
   ],
   "outputs": [
    {
     "output_type": "stream",
     "name": "stdout",
     "text": [
      "12345\n"
     ]
    }
   ],
   "metadata": {}
  },
  {
   "cell_type": "code",
   "execution_count": null,
   "source": [
    "print(' '.join(list(input().split(' , '))))"
   ],
   "outputs": [
    {
     "output_type": "stream",
     "name": "stdout",
     "text": [
      "gdfgf,dfgdsfsd,fgfgfdgfd\n"
     ]
    }
   ],
   "metadata": {}
  },
  {
   "cell_type": "code",
   "execution_count": null,
   "source": [
    "for i in 1,3,4,5,6:print(i,end=\"\")"
   ],
   "outputs": [
    {
     "output_type": "stream",
     "name": "stdout",
     "text": [
      "13456"
     ]
    }
   ],
   "metadata": {}
  },
  {
   "cell_type": "code",
   "execution_count": null,
   "source": [
    "list1 = [1,5,1,12]\r\n",
    "my_str = ''.join(map(str,list1))\r\n",
    "print(my_str)"
   ],
   "outputs": [
    {
     "output_type": "stream",
     "name": "stdout",
     "text": [
      "15112\n"
     ]
    }
   ],
   "metadata": {}
  },
  {
   "cell_type": "code",
   "execution_count": null,
   "source": [
    "list = [\"1\", \"5\", \"12\", \"2\"]\r\n",
    "print(\"\".join(list))"
   ],
   "outputs": [
    {
     "output_type": "stream",
     "name": "stdout",
     "text": [
      "15122\n"
     ]
    }
   ],
   "metadata": {}
  },
  {
   "cell_type": "code",
   "execution_count": null,
   "source": [
    "from random import sample\r\n",
    "l = sample(range(10), 5)\r\n",
    "print('This is the list I want to concatenate {}'.format(l))\r\n",
    "print(''.join([str(i) for i in l]))"
   ],
   "outputs": [
    {
     "output_type": "stream",
     "name": "stdout",
     "text": [
      "This is the list I want to concatenate [8, 1, 9, 7, 6]\n",
      "81976\n"
     ]
    }
   ],
   "metadata": {}
  },
  {
   "cell_type": "markdown",
   "source": [
    "Write a Python program to print out all even numbers from a given numbers list in the same order and stop the printing if any numbers that come after 237 in the sequence.\r\n",
    "\r\n",
    "Sample numbers list:\r\n",
    "\r\n",
    "numbers = [    \r\n",
    "    386, 462, 47, 418, 907, 344, 236, 375, 823, 566, 597, 978, 328, 615, 953, 345, \r\n",
    "    399, 162, 758, 219, 918, 237, 412, 566, 826, 248, 866, 950, 626, 949, 687, 217, \r\n",
    "    815, 67, 104, 58, 512, 24, 892, 894, 767, 553, 81, 379, 843, 831, 445, 742, 717, \r\n",
    "    958,743, 527"
   ],
   "metadata": {}
  },
  {
   "cell_type": "code",
   "execution_count": null,
   "source": [
    "numbers = [    \r\n",
    "    386, 462, 47, 418, 907, 344, 236, 375, 823, 566, 597, 978, 328, 615, 953, 345, \r\n",
    "    399, 162, 758, 219, 918, 237, 412, 566, 826, 248, 866, 950, 626, 949, 687, 217, \r\n",
    "    815, 67, 104, 58, 512, 24, 892, 894, 767, 553, 81, 379, 843, 831, 445, 742, 717, \r\n",
    "    958,743, 527\r\n",
    "    ]\r\n",
    "\r\n",
    "for x in numbers:\r\n",
    "    if x == 237:\r\n",
    "        print(x)\r\n",
    "        break;\r\n",
    "    elif x % 2 == 0:\r\n",
    "        print(x)"
   ],
   "outputs": [
    {
     "output_type": "stream",
     "name": "stdout",
     "text": [
      "386\n",
      "462\n",
      "418\n",
      "344\n",
      "236\n",
      "566\n",
      "978\n",
      "328\n",
      "162\n",
      "758\n",
      "918\n",
      "237\n"
     ]
    }
   ],
   "metadata": {}
  },
  {
   "cell_type": "code",
   "execution_count": null,
   "source": [
    "def a(num):\r\n",
    "    for i in range(len(num)):\r\n",
    "        if num[i]!=237 & num[i]%2==0:\r\n",
    "            print(num[i])\r\n",
    "        elif num[i]==237:\r\n",
    "            break\r\n",
    "\r\n",
    "num = [386, 462, 47, 418, 907, 344, 236, 375, 823, 566, 597, 978, 328, 615, 953, 345, 399, 162, 758, 219, 918, 237, 412, 566, 826, 248, 866, 950, 626, 949, 687, 217, 815, 67, 104, 58, 512, 24, 892, 894, 767, 553, 81, 379, 843, 831, 445, 742, 717, 958,743, 527]\r\n",
    "\r\n",
    "a(num)"
   ],
   "outputs": [
    {
     "output_type": "stream",
     "name": "stdout",
     "text": [
      "386\n",
      "462\n",
      "418\n",
      "344\n",
      "236\n",
      "566\n",
      "978\n",
      "328\n",
      "162\n",
      "758\n",
      "918\n"
     ]
    }
   ],
   "metadata": {}
  },
  {
   "cell_type": "code",
   "execution_count": null,
   "source": [
    "for num in sorted(numbers):\r\n",
    "    if num%2 == 0 and num < 237:\r\n",
    "        print(num);"
   ],
   "outputs": [
    {
     "output_type": "stream",
     "name": "stdout",
     "text": [
      "24\n",
      "58\n",
      "104\n",
      "162\n",
      "236\n"
     ]
    }
   ],
   "metadata": {}
  },
  {
   "cell_type": "markdown",
   "source": [
    "Write a Python program to print out a set containing all the colors from color_list_1 which are not present in color_list_2. Go to the editor\r\n",
    "Test Data :\r\n",
    "color_list_1 = set([\"White\", \"Black\", \"Red\"])\r\n",
    "color_list_2 = set([\"Red\", \"Green\"])\r\n",
    "Expected Output :\r\n",
    "{'Black', 'White'}"
   ],
   "metadata": {}
  },
  {
   "cell_type": "code",
   "execution_count": null,
   "source": [
    "color_list_1 = set([\"White\", \"Black\", \"Red\"])\r\n",
    "color_list_2 = set([\"Red\", \"Green\"])\r\n",
    "print(\"Original set elements:\")\r\n",
    "print(color_list_1)\r\n",
    "print(color_list_2)\r\n",
    "print(\"\\nDifferenct of color_list_1 and color_list_2:\")\r\n",
    "print(color_list_1.difference(color_list_2))\r\n",
    "print(\"\\nDifferenct of color_list_2 and color_list_1:\")\r\n",
    "print(color_list_2.difference(color_list_1))"
   ],
   "outputs": [
    {
     "output_type": "stream",
     "name": "stdout",
     "text": [
      "Original set elements:\n",
      "{'Red', 'Black', 'White'}\n",
      "{'Red', 'Green'}\n",
      "\n",
      "Differenct of color_list_1 and color_list_2:\n",
      "{'Black', 'White'}\n",
      "\n",
      "Differenct of color_list_2 and color_list_1:\n",
      "{'Green'}\n"
     ]
    }
   ],
   "metadata": {}
  },
  {
   "cell_type": "code",
   "execution_count": null,
   "source": [
    "color_list_1 = set([\"White\", \"Black\", \"Red\"])\r\n",
    "color_list_2 = set([\"Red\", \"Green\"])\r\n",
    "print(color_list_1-color_list_2)"
   ],
   "outputs": [
    {
     "output_type": "stream",
     "name": "stdout",
     "text": [
      "{'Black', 'White'}\n"
     ]
    }
   ],
   "metadata": {}
  },
  {
   "cell_type": "code",
   "execution_count": null,
   "source": [
    "for item in color_list_1:\r\n",
    "    if item not in color_list_2:\r\n",
    "        print (item)"
   ],
   "outputs": [
    {
     "output_type": "stream",
     "name": "stdout",
     "text": [
      "Black\n",
      "White\n"
     ]
    }
   ],
   "metadata": {}
  },
  {
   "cell_type": "code",
   "execution_count": null,
   "source": [
    "color_list_1 = set([\"White\", \"Black\", \"Red\"])\r\n",
    "color_list_2 = set([\"Red\", \"Green\"])\r\n",
    "print(set([i for i in color_list_1 if i not in color_list_2]))"
   ],
   "outputs": [
    {
     "output_type": "stream",
     "name": "stdout",
     "text": [
      "{'Black', 'White'}\n"
     ]
    }
   ],
   "metadata": {}
  },
  {
   "cell_type": "code",
   "execution_count": null,
   "source": [
    "color_list_1 = set([\"White\", \"Black\", \"Red\"])\r\n",
    "color_list_2 = set([\"Red\", \"Green\"])\r\n",
    "\r\n",
    "for x in set(color_list_1):\r\n",
    "    for y in set(color_list_2):\r\n",
    "        if y in x:\r\n",
    "            color_list_1.remove(x)\r\n",
    "print('Opção 2 - ', color_list_1)"
   ],
   "outputs": [
    {
     "output_type": "stream",
     "name": "stdout",
     "text": [
      "Opção 2 -  {'Black', 'White'}\n"
     ]
    }
   ],
   "metadata": {}
  },
  {
   "cell_type": "code",
   "execution_count": null,
   "source": [
    "color1 = set([\"White\", \"Black\", \"Red\"])\r\n",
    "color2 = set([\"Red\", \"Green\"])\r\n",
    "\r\n",
    "for i in color1:\r\n",
    "    test = i in color2\r\n",
    "if test == False:\r\n",
    "    print(i)"
   ],
   "outputs": [
    {
     "output_type": "stream",
     "name": "stdout",
     "text": [
      "White\n"
     ]
    }
   ],
   "metadata": {}
  },
  {
   "cell_type": "code",
   "execution_count": null,
   "source": [
    "c=set([\"White\", \"Black\", \"Red\"])\r\n",
    "c2=set([\"Red\", \"Green\"])\r\n",
    "print(c-c2)"
   ],
   "outputs": [
    {
     "output_type": "stream",
     "name": "stdout",
     "text": [
      "{'Black', 'White'}\n"
     ]
    }
   ],
   "metadata": {}
  },
  {
   "cell_type": "code",
   "execution_count": null,
   "source": [
    "color_list_1 = set([\"White\", \"Black\", \"Red\"])\r\n",
    "color_list_2 = set([\"Red\", \"Green\"])\r\n",
    "\r\n",
    "print(set([color for color in color_list_1 if color not in color_list_2]))"
   ],
   "outputs": [
    {
     "output_type": "stream",
     "name": "stdout",
     "text": [
      "{'Black', 'White'}\n"
     ]
    }
   ],
   "metadata": {}
  },
  {
   "cell_type": "code",
   "execution_count": null,
   "source": [
    "color_list_1 = set([\"White\", \"Black\", \"Red\"])\r\n",
    "color_list_2 = set([\"Red\", \"Green\"])\r\n",
    "print(f\"color_list_1 which are not present in color_list_2 is : {color_list_1-color_list_2}\")"
   ],
   "outputs": [
    {
     "output_type": "stream",
     "name": "stdout",
     "text": [
      "color_list_1 which are not present in color_list_2 is : {'Black', 'White'}\n"
     ]
    }
   ],
   "metadata": {}
  },
  {
   "cell_type": "code",
   "execution_count": null,
   "source": [
    "a = set([\"White\", \"Black\", \"Red\"])\r\n",
    "b = set([\"Red\", \"Green\"])\r\n",
    "\r\n",
    "for col in a :\r\n",
    "    if col in b :\r\n",
    "        break\r\n",
    "    else:\r\n",
    "        print(col)"
   ],
   "outputs": [],
   "metadata": {}
  },
  {
   "cell_type": "code",
   "execution_count": null,
   "source": [
    "a=color_list_1.intersection(color_list_2)\r\n",
    "print(color_list_1-a)"
   ],
   "outputs": [
    {
     "output_type": "stream",
     "name": "stdout",
     "text": [
      "{'Black', 'White'}\n"
     ]
    }
   ],
   "metadata": {}
  },
  {
   "cell_type": "markdown",
   "source": [
    "Write a Python program that will accept the base and height of a triangle and compute the area.\r\n",
    "\r\n",
    "Python: Area of a triangle\r\n",
    "\r\n",
    "A triangle is a polygon with three edges and three vertices. It is one of the basic shapes in geometry. A triangle with vertices A, B, and C is denoted triangle ABC.\r\n",
    "\r\n",
    "Vertex of a triangle: The point at which two sides of a triangle meet.\r\n",
    "Altitude of a triangle: The perpendicular segment from a vertex of a triangle to the line containing the opposite side.\r\n",
    "Base of a triangle: The side of a triangle to which an altitude is drawn.\r\n",
    "Height of a triangle: The length of an altitude.\r\n",
    "Python: Area of a triangle\r\n",
    "\r\n"
   ],
   "metadata": {}
  },
  {
   "cell_type": "code",
   "execution_count": null,
   "source": [
    "b = int(input(\"Input the base : \"))\r\n",
    "h = int(input(\"Input the height : \"))\r\n",
    "\r\n",
    "area = b*h/2\r\n",
    "\r\n",
    "print(\"area = \", area)"
   ],
   "outputs": [
    {
     "output_type": "stream",
     "name": "stdout",
     "text": [
      "area =  17.5\n"
     ]
    }
   ],
   "metadata": {}
  },
  {
   "cell_type": "code",
   "execution_count": null,
   "source": [
    "while True:\r\n",
    "    base = input(\"Input the base of the triangle in cm: \")\r\n",
    "    try:\r\n",
    "        base = float(base)\r\n",
    "        if base < 0:\r\n",
    "            print(\"Positive number please!\")\r\n",
    "            continue\r\n",
    "        break\r\n",
    "    except ValueError:\r\n",
    "        print(\"Not a number!\")\r\n",
    "        continue\r\n",
    "\r\n",
    "while True:\r\n",
    "    height = input(\"Input the height of the triangle in cm: \")\r\n",
    "    try:\r\n",
    "        height = float(height)\r\n",
    "        if height < 0:\r\n",
    "            print(\"Positive number please!\")\r\n",
    "            continue\r\n",
    "        break\r\n",
    "    except ValueError:\r\n",
    "        print(\"Not a number!\")\r\n",
    "        continue\r\n",
    "\r\n",
    "print(f\"La surface du triangle avec une base de {base} et une hauteur de {height} est égal à {0.5*base*height} cm2.\")"
   ],
   "outputs": [
    {
     "output_type": "stream",
     "name": "stdout",
     "text": [
      "La surface du triangle avec une base de 7.0 et une hauteur de 8.0 est égal à 28.0 cm2.\n"
     ]
    }
   ],
   "metadata": {}
  },
  {
   "cell_type": "code",
   "execution_count": null,
   "source": [
    "def area(b,h):\r\n",
    "    return 1/2*b*h\r\n",
    "\r\n",
    "b=float(input('Enter base'))\r\n",
    "h=float(input('Enter height'))\r\n",
    "print(area(b,h))"
   ],
   "outputs": [
    {
     "output_type": "stream",
     "name": "stdout",
     "text": [
      "16.0\n"
     ]
    }
   ],
   "metadata": {}
  },
  {
   "cell_type": "code",
   "execution_count": null,
   "source": [
    "def Area(base,height):\r\n",
    "    area = 1/2 * base * height\r\n",
    "    return \"The area of triangle is {}\".format(area)\r\n",
    "print(Area(12,10))"
   ],
   "outputs": [
    {
     "output_type": "stream",
     "name": "stdout",
     "text": [
      "The area of triangle is 60.0\n"
     ]
    }
   ],
   "metadata": {}
  },
  {
   "cell_type": "code",
   "execution_count": null,
   "source": [
    "print(\"Area of triangle is \",(1/2)*(float(input(\"Enter base:\")))*(float(input(\"Enter height:\"))))"
   ],
   "outputs": [
    {
     "output_type": "stream",
     "name": "stdout",
     "text": [
      "Area of triangle is  31.5\n"
     ]
    }
   ],
   "metadata": {}
  },
  {
   "cell_type": "code",
   "execution_count": null,
   "source": [
    "def areadef(b,h):\r\n",
    "\r\n",
    "    return (1/2*b*h)\r\n",
    "\r\n",
    "x =float(input(\"Enter Hight: \"))\r\n",
    "y = float(input(\"Enter Base: \"))\r\n",
    "print(areadef(x,y))"
   ],
   "outputs": [
    {
     "output_type": "stream",
     "name": "stdout",
     "text": [
      "14.0\n"
     ]
    }
   ],
   "metadata": {}
  },
  {
   "cell_type": "markdown",
   "source": [
    "Write a Python program to compute the greatest common divisor (GCD) of two positive integers.\r\n",
    "\r\n",
    "The greatest common divisor (GCD) of two nonzero integers a and b is the greatest positive integer d such that d is a divisor of both a and b; that is, there are integers e and f such that a = de and b = df, and d is the largest such integer. The GCD of a and b is generally denoted gcd(a, b)."
   ],
   "metadata": {}
  },
  {
   "cell_type": "code",
   "execution_count": null,
   "source": [
    "def gcd(x, y):\r\n",
    "   gcd = 1   \r\n",
    "   if x % y == 0:\r\n",
    "       return y   \r\n",
    "   for k in range(int(y / 2), 0, -1):\r\n",
    "       if x % k == 0 and y % k == 0:\r\n",
    "           gcd = k\r\n",
    "           break \r\n",
    "   return gcd\r\n",
    "print(\"GCD of 12 & 17 =\",gcd(12, 17))\r\n",
    "print(\"GCD of 4 & 6 =\",gcd(4, 6))\r\n",
    "print(\"GCD of 336 & 360 =\",gcd(336, 360))"
   ],
   "outputs": [
    {
     "output_type": "stream",
     "name": "stdout",
     "text": [
      "GCD of 12 & 17 = 1\n",
      "GCD of 4 & 6 = 2\n",
      "GCD of 336 & 360 = 24\n"
     ]
    }
   ],
   "metadata": {}
  },
  {
   "cell_type": "code",
   "execution_count": null,
   "source": [
    "def gcd(x, y):\r\n",
    "    z = x % y\r\n",
    "while z:\r\n",
    "    x = y\r\n",
    "    y = z\r\n",
    "    z = x % y\r\n",
    "return y\r\n",
    "print(\"GCD of 12 & 17 =\",gcd(12, 17))\r\n",
    "print(\"GCD of 4 & 6 =\",gcd(4, 6))\r\n",
    "print(\"GCD of 336 & 360 =\",gcd(336, 360))"
   ],
   "outputs": [
    {
     "output_type": "error",
     "ename": "TypeError",
     "evalue": "not all arguments converted during string formatting",
     "traceback": [
      "\u001b[1;31m---------------------------------------------------------------------------\u001b[0m",
      "\u001b[1;31mTypeError\u001b[0m                                 Traceback (most recent call last)",
      "\u001b[1;32m<ipython-input-119-22860f176e84>\u001b[0m in \u001b[0;36m<module>\u001b[1;34m\u001b[0m\n\u001b[0;32m      4\u001b[0m     \u001b[0mx\u001b[0m \u001b[1;33m=\u001b[0m \u001b[0my\u001b[0m\u001b[1;33m\u001b[0m\u001b[1;33m\u001b[0m\u001b[0m\n\u001b[0;32m      5\u001b[0m     \u001b[0my\u001b[0m \u001b[1;33m=\u001b[0m \u001b[0mz\u001b[0m\u001b[1;33m\u001b[0m\u001b[1;33m\u001b[0m\u001b[0m\n\u001b[1;32m----> 6\u001b[1;33m     \u001b[0mz\u001b[0m \u001b[1;33m=\u001b[0m \u001b[0mx\u001b[0m \u001b[1;33m%\u001b[0m \u001b[0my\u001b[0m\u001b[1;33m\u001b[0m\u001b[1;33m\u001b[0m\u001b[0m\n\u001b[0m\u001b[0;32m      7\u001b[0m \u001b[1;32mreturn\u001b[0m \u001b[0my\u001b[0m\u001b[1;33m\u001b[0m\u001b[1;33m\u001b[0m\u001b[0m\n\u001b[0;32m      8\u001b[0m \u001b[0mprint\u001b[0m\u001b[1;33m(\u001b[0m\u001b[1;34m\"GCD of 12 & 17 =\"\u001b[0m\u001b[1;33m,\u001b[0m\u001b[0mgcd\u001b[0m\u001b[1;33m(\u001b[0m\u001b[1;36m12\u001b[0m\u001b[1;33m,\u001b[0m \u001b[1;36m17\u001b[0m\u001b[1;33m)\u001b[0m\u001b[1;33m)\u001b[0m\u001b[1;33m\u001b[0m\u001b[1;33m\u001b[0m\u001b[0m\n",
      "\u001b[1;31mTypeError\u001b[0m: not all arguments converted during string formatting"
     ]
    }
   ],
   "metadata": {}
  },
  {
   "cell_type": "code",
   "execution_count": null,
   "source": [
    "from functools import reduce\r\n",
    "from math import gcd as _gcd\r\n",
    "def gcd(nums):\r\n",
    "  return reduce(_gcd, nums)\r\n",
    "nums = [336, 360]\r\n",
    "print(\"GCD of\",','.join(str(e) for e in nums))\r\n",
    "print(gcd(nums))\r\n",
    "nums = [12, 17]\r\n",
    "print(\"GCD of\",','.join(str(e) for e in nums))\r\n",
    "print(gcd(nums))\r\n",
    "nums = [4, 6]\r\n",
    "print(\"GCD of\",','.join(str(e) for e in nums))\r\n",
    "print(gcd(nums))\r\n",
    "nums = [24, 30, 36]\r\n",
    "print(\"GCD of\",','.join(str(e) for e in nums))\r\n",
    "print(gcd(nums))"
   ],
   "outputs": [
    {
     "output_type": "stream",
     "name": "stdout",
     "text": [
      "GCD of 336,360\n",
      "24\n",
      "GCD of 12,17\n",
      "1\n",
      "GCD of 4,6\n",
      "2\n",
      "GCD of 24,30,36\n",
      "6\n"
     ]
    }
   ],
   "metadata": {}
  },
  {
   "cell_type": "markdown",
   "source": [
    "Get the least common multiple (LCM) of two positive integers\r\n",
    "\r\n",
    "From Wikipedia,\r\n",
    "In arithmetic and number theory, the least common multiple, lowest common multiple, or smallest common multiple of two integers a and b, usually denoted by lcm(a, b), is the smallest positive integer that is divisible by both a and b. Since division of integers by zero is undefined, this definition has meaning only if a and b are both different from zero. However, some authors define lcm(a,0) as 0 for all a, which is the result of taking the lcm to be the least upper bound in the lattice of divisibility."
   ],
   "metadata": {}
  },
  {
   "cell_type": "code",
   "execution_count": null,
   "source": [
    "def lcm(x, y):\r\n",
    "  if x > y:\r\n",
    "      z = x\r\n",
    "  else:\r\n",
    "      z = y\r\n",
    "  while(True):\r\n",
    "      if((z % x == 0) and (z % y == 0)):\r\n",
    "          lcm = z\r\n",
    "          break\r\n",
    "      z += 1\r\n",
    "  return lcm\r\n",
    "print(lcm(4, 6))\r\n",
    "print(lcm(15, 17))"
   ],
   "outputs": [
    {
     "output_type": "stream",
     "name": "stdout",
     "text": [
      "12\n",
      "255\n"
     ]
    }
   ],
   "metadata": {}
  },
  {
   "cell_type": "code",
   "execution_count": null,
   "source": [
    "from functools import reduce\r\n",
    "from math import gcd\r\n",
    "\r\n",
    "def lcm(numbers):\r\n",
    "  return reduce((lambda x, y: int(x * y / gcd(x, y))), numbers)\r\n",
    "\r\n",
    "print(lcm([12, 7]))  \r\n",
    "print(lcm([1, 3, 4, 5])) \r\n",
    "print(lcm([4, 6]))  \r\n",
    "print(lcm([15, 17]))"
   ],
   "outputs": [
    {
     "output_type": "stream",
     "name": "stdout",
     "text": [
      "84\n",
      "60\n",
      "12\n",
      "255\n"
     ]
    }
   ],
   "metadata": {}
  },
  {
   "cell_type": "code",
   "execution_count": null,
   "source": [
    "from fractions import gcd\r\n",
    "def lcm(a, b):\r\n",
    " return (a * b) // gcd(a,b) \r\n",
    "print(lcm(4, 6))\r\n",
    "print(lcm(15, 17))"
   ],
   "outputs": [
    {
     "output_type": "stream",
     "name": "stdout",
     "text": [
      "12\n",
      "255\n"
     ]
    },
    {
     "output_type": "stream",
     "name": "stderr",
     "text": [
      "<ipython-input-3-69451ed8344d>:3: DeprecationWarning: fractions.gcd() is deprecated. Use math.gcd() instead.\n",
      "  return (a * b) // gcd(a,b)\n"
     ]
    }
   ],
   "metadata": {}
  },
  {
   "cell_type": "markdown",
   "source": [
    "Sum of three given integers. However, if two values are equal sum will be zero"
   ],
   "metadata": {}
  },
  {
   "cell_type": "code",
   "execution_count": null,
   "source": [
    "def sum(x, y, z):\r\n",
    "    if x == y or y == z or x==z:\r\n",
    "        sum = 0\r\n",
    "    else:\r\n",
    "        sum = x + y + z\r\n",
    "    return sum\r\n",
    "\r\n",
    "print(sum(2, 1, 2))\r\n",
    "print(sum(3, 2, 2))\r\n",
    "print(sum(2, 2, 2))\r\n",
    "print(sum(1, 2, 3))"
   ],
   "outputs": [
    {
     "output_type": "stream",
     "name": "stdout",
     "text": [
      "0\n",
      "0\n",
      "0\n",
      "6\n"
     ]
    }
   ],
   "metadata": {}
  },
  {
   "cell_type": "markdown",
   "source": [
    "Sum of two given integers. However, if the sum is between 15 to 20 it will return 20"
   ],
   "metadata": {}
  },
  {
   "cell_type": "code",
   "execution_count": null,
   "source": [
    "def sum(x, y):\r\n",
    "    sum = x + y\r\n",
    "    if sum in range(15, 20):\r\n",
    "        return 20\r\n",
    "    else:\r\n",
    "        return sum\r\n",
    "\r\n",
    "print(sum(10, 6))\r\n",
    "print(sum(10, 2))\r\n",
    "print(sum(10, 12))"
   ],
   "outputs": [
    {
     "output_type": "stream",
     "name": "stdout",
     "text": [
      "20\n",
      "12\n",
      "22\n"
     ]
    }
   ],
   "metadata": {}
  },
  {
   "cell_type": "markdown",
   "source": [
    "Return true if the two given integer values are equal or their sum or difference is 5"
   ],
   "metadata": {}
  },
  {
   "cell_type": "code",
   "execution_count": null,
   "source": [
    "def test_number5(x, y):\r\n",
    "   if x == y or abs(x-y) == 5 or (x+y) == 5:\r\n",
    "       return True\r\n",
    "   else:\r\n",
    "       return False\r\n",
    "print(test_number5(7, 2))\r\n",
    "print(test_number5(3, 2))\r\n",
    "print(test_number5(2, 2))\r\n",
    "print(test_number5(7, 3))\r\n",
    "print(test_number5(27, 53))"
   ],
   "outputs": [
    {
     "output_type": "stream",
     "name": "stdout",
     "text": [
      "True\n",
      "True\n",
      "True\n",
      "False\n",
      "False\n"
     ]
    }
   ],
   "metadata": {}
  },
  {
   "cell_type": "markdown",
   "source": [
    "Add two objects if both objects are an integer type"
   ],
   "metadata": {}
  },
  {
   "cell_type": "code",
   "execution_count": null,
   "source": [
    "def add_numbers(a, b):\r\n",
    "   if not (isinstance(a, int) and isinstance(b, int)):\r\n",
    "       return \"Inputs must be integers!\"\r\n",
    "   return a + b\r\n",
    "print(add_numbers(10, 20))\r\n",
    "print(add_numbers(10, 20.23))\r\n",
    "print(add_numbers('5', 6))\r\n",
    "print(add_numbers('5', '6'))"
   ],
   "outputs": [
    {
     "output_type": "stream",
     "name": "stdout",
     "text": [
      "30\n",
      "Inputs must be integers!\n",
      "Inputs must be integers!\n",
      "Inputs must be integers!\n"
     ]
    }
   ],
   "metadata": {}
  },
  {
   "cell_type": "markdown",
   "source": [
    "Display your details like name, age, address in three different lines"
   ],
   "metadata": {}
  },
  {
   "cell_type": "code",
   "execution_count": null,
   "source": [
    "def personal_details():\r\n",
    "    name, age = \"Simon\", 19\r\n",
    "    address = \"Bangalore, Karnataka, India\"\r\n",
    "    print(\"Name: {}\\nAge: {}\\nAddress: {}\".format(name, age, address))\r\n",
    "\r\n",
    "personal_details()"
   ],
   "outputs": [
    {
     "output_type": "stream",
     "name": "stdout",
     "text": [
      "Name: Simon\n",
      "Age: 19\n",
      "Address: Bangalore, Karnataka, India\n"
     ]
    }
   ],
   "metadata": {}
  },
  {
   "cell_type": "code",
   "execution_count": null,
   "source": [
    "class Info():\r\n",
    "    def __init__(self,name,age,address):\r\n",
    "        self.name=name\r\n",
    "        self.age=age\r\n",
    "        self.address=address\r\n",
    "c=Info('kabir',24,'mp')\r\n",
    "print(f'''the complete address is:\r\n",
    "Fullname:{c.name}\r\n",
    "Age={c.age}\r\n",
    "Address={c.address}''')"
   ],
   "outputs": [
    {
     "output_type": "stream",
     "name": "stdout",
     "text": [
      "the complete address is:\n",
      "Fullname:kabir\n",
      "Age=24\n",
      "Address=mp\n"
     ]
    }
   ],
   "metadata": {}
  },
  {
   "cell_type": "markdown",
   "source": [
    " Python program to solve (x + y) * (x + y)\r\n",
    " Write a Python program to solve (x + y) * (x + y).\r\n",
    "\r\n",
    "Test Data : x = 4, y = 3\r\n",
    "Expected Output : (4 + 3) ^ 2) = 49"
   ],
   "metadata": {}
  },
  {
   "cell_type": "code",
   "execution_count": null,
   "source": [
    "x, y = 4, 3\r\n",
    "result = x * x + 2 * x * y + y * y\r\n",
    "print(\"({} + {}) ^ 2) = {}\".format(x, y, result))"
   ],
   "outputs": [
    {
     "output_type": "stream",
     "name": "stdout",
     "text": [
      "(4 + 3) ^ 2) = 49\n"
     ]
    }
   ],
   "metadata": {}
  },
  {
   "cell_type": "markdown",
   "source": [
    "Write a Python program to compute the future value of a specified principal amount, rate of interest, and a number of years.\r\n",
    "\r\n",
    "The formula for future value with compound interest is FV = P(1 + r/n)^nt.\r\n",
    "FV = the future value;\r\n",
    "P = the principal;\r\n",
    "r = the annual interest rate expressed as a decimal;\r\n",
    "n = the number of times interest is paid each year;\r\n",
    "t = time in years.\r\n",
    "\r\n",
    "Test Data : amt = 10000, int = 3.5, years = 7\r\n",
    "Expected Output : 12722.79"
   ],
   "metadata": {}
  },
  {
   "cell_type": "code",
   "execution_count": null,
   "source": [
    "amt = 10000\r\n",
    "int = 3.5\r\n",
    "years = 7\r\n",
    "future_value = amt*((1+(0.01*int)) ** years)\r\n",
    "print(round(future_value,2))"
   ],
   "outputs": [
    {
     "output_type": "stream",
     "name": "stdout",
     "text": [
      "12722.79\n"
     ]
    }
   ],
   "metadata": {}
  },
  {
   "cell_type": "markdown",
   "source": [
    "Write a Python program to compute the distance between the points (x1, y1) and (x2, y2).\r\n"
   ],
   "metadata": {}
  },
  {
   "cell_type": "code",
   "execution_count": null,
   "source": [
    "import math\r\n",
    "p1 = [4, 0]\r\n",
    "p2 = [6, 6]\r\n",
    "distance = math.sqrt( ((p1[0]-p2[0])**2)+((p1[1]-p2[1])**2) )\r\n",
    "\r\n",
    "print(distance)"
   ],
   "outputs": [
    {
     "output_type": "stream",
     "name": "stdout",
     "text": [
      "6.324555320336759\n"
     ]
    }
   ],
   "metadata": {}
  },
  {
   "cell_type": "markdown",
   "source": [
    "Write a Python program to check whether a file exists."
   ],
   "metadata": {}
  },
  {
   "cell_type": "code",
   "execution_count": null,
   "source": [
    "import os.path\r\n",
    "print(os.path.isfile('main.txt'))\r\n",
    "print(os.path.isfile('main.py'))"
   ],
   "outputs": [
    {
     "output_type": "stream",
     "name": "stdout",
     "text": [
      "False\n",
      "False\n"
     ]
    }
   ],
   "metadata": {}
  },
  {
   "cell_type": "code",
   "execution_count": null,
   "source": [
    "my_file = open('main.py')\r\n",
    "try:\r\n",
    "   my_file.close()\r\n",
    "   print(\"File found!\")\r\n",
    "except FileNotFoundError:\r\n",
    "   print(\"File not found!\")"
   ],
   "outputs": [
    {
     "output_type": "error",
     "ename": "FileNotFoundError",
     "evalue": "[Errno 2] No such file or directory: 'main.py'",
     "traceback": [
      "\u001b[1;31m---------------------------------------------------------------------------\u001b[0m",
      "\u001b[1;31mFileNotFoundError\u001b[0m                         Traceback (most recent call last)",
      "\u001b[1;32m<ipython-input-12-cd62e8422e6c>\u001b[0m in \u001b[0;36m<module>\u001b[1;34m\u001b[0m\n\u001b[1;32m----> 1\u001b[1;33m \u001b[0mmy_file\u001b[0m \u001b[1;33m=\u001b[0m \u001b[0mopen\u001b[0m\u001b[1;33m(\u001b[0m\u001b[1;34m'main.py'\u001b[0m\u001b[1;33m)\u001b[0m\u001b[1;33m\u001b[0m\u001b[1;33m\u001b[0m\u001b[0m\n\u001b[0m\u001b[0;32m      2\u001b[0m \u001b[1;32mtry\u001b[0m\u001b[1;33m:\u001b[0m\u001b[1;33m\u001b[0m\u001b[1;33m\u001b[0m\u001b[0m\n\u001b[0;32m      3\u001b[0m    \u001b[0mmy_file\u001b[0m\u001b[1;33m.\u001b[0m\u001b[0mclose\u001b[0m\u001b[1;33m(\u001b[0m\u001b[1;33m)\u001b[0m\u001b[1;33m\u001b[0m\u001b[1;33m\u001b[0m\u001b[0m\n\u001b[0;32m      4\u001b[0m    \u001b[0mprint\u001b[0m\u001b[1;33m(\u001b[0m\u001b[1;34m\"File found!\"\u001b[0m\u001b[1;33m)\u001b[0m\u001b[1;33m\u001b[0m\u001b[1;33m\u001b[0m\u001b[0m\n\u001b[0;32m      5\u001b[0m \u001b[1;32mexcept\u001b[0m \u001b[0mFileNotFoundError\u001b[0m\u001b[1;33m:\u001b[0m\u001b[1;33m\u001b[0m\u001b[1;33m\u001b[0m\u001b[0m\n",
      "\u001b[1;31mFileNotFoundError\u001b[0m: [Errno 2] No such file or directory: 'main.py'"
     ]
    }
   ],
   "metadata": {}
  },
  {
   "cell_type": "code",
   "execution_count": null,
   "source": [
    "import os.path\r\n",
    "print(os.path.exists('main.txt'))\r\n",
    "print(os.path.exists('main.py'))"
   ],
   "outputs": [
    {
     "output_type": "stream",
     "name": "stdout",
     "text": [
      "False\n",
      "False\n"
     ]
    }
   ],
   "metadata": {}
  },
  {
   "cell_type": "markdown",
   "source": [
    "Write a Python program to determine if a Python shell is executing in 32bit or 64bit mode on OS."
   ],
   "metadata": {}
  },
  {
   "cell_type": "code",
   "execution_count": null,
   "source": [
    "# For 32 bit it will return 32 and for 64 bit it will return 64\r\n",
    "import struct\r\n",
    "print(struct.calcsize(\"P\") * 8)"
   ],
   "outputs": [
    {
     "output_type": "stream",
     "name": "stdout",
     "text": [
      "64\n"
     ]
    }
   ],
   "metadata": {}
  },
  {
   "cell_type": "code",
   "execution_count": null,
   "source": [
    "import platform, struct\r\n",
    "print(platform.architecture()[0])\r\n",
    "print(struct.calcsize(\"P\") * 8)"
   ],
   "outputs": [
    {
     "output_type": "stream",
     "name": "stdout",
     "text": [
      "64bit\n",
      "64\n"
     ]
    }
   ],
   "metadata": {}
  },
  {
   "cell_type": "markdown",
   "source": [
    "import platform, struct\r\n",
    "print(platform.architecture()[0])\r\n",
    "print(struct.calcsize(\"P\") * 8)"
   ],
   "metadata": {}
  },
  {
   "cell_type": "code",
   "execution_count": null,
   "source": [
    "import platform\r\n",
    "import os\r\n",
    "print(\"Name of the operating system:\",os.name)\r\n",
    "print(\"\\nName of the OS system:\",platform.system())\r\n",
    "print(\"\\nVersion of the operating system:\",platform.release())"
   ],
   "outputs": [
    {
     "output_type": "stream",
     "name": "stdout",
     "text": [
      "Name of the operating system: nt\n",
      "\n",
      "Name of the OS system: Windows\n",
      "\n",
      "Version of the operating system: 10\n"
     ]
    }
   ],
   "metadata": {}
  },
  {
   "cell_type": "markdown",
   "source": [
    "Write a Python program to locate Python site-packages.\r\n",
    "\r\n",
    "site.getsitepackages(): Return a list containing all global site-packages directories."
   ],
   "metadata": {}
  },
  {
   "cell_type": "code",
   "execution_count": null,
   "source": [
    "import site; \r\n",
    "print(site.getsitepackages())"
   ],
   "outputs": [
    {
     "output_type": "stream",
     "name": "stdout",
     "text": [
      "['C:\\\\Users\\\\LENOVO\\\\anaconda3', 'C:\\\\Users\\\\LENOVO\\\\anaconda3\\\\lib\\\\site-packages']\n"
     ]
    }
   ],
   "metadata": {}
  },
  {
   "cell_type": "markdown",
   "source": [
    "Write a python program to call an external command in Python."
   ],
   "metadata": {}
  },
  {
   "cell_type": "code",
   "execution_count": null,
   "source": [
    "from subprocess import call\r\n",
    "call([\"ls\", \"-l\"])"
   ],
   "outputs": [
    {
     "output_type": "error",
     "ename": "FileNotFoundError",
     "evalue": "[WinError 2] Sistem belirtilen dosyayı bulamıyor",
     "traceback": [
      "\u001b[1;31m---------------------------------------------------------------------------\u001b[0m",
      "\u001b[1;31mFileNotFoundError\u001b[0m                         Traceback (most recent call last)",
      "\u001b[1;32m<ipython-input-18-1a34c7bc7573>\u001b[0m in \u001b[0;36m<module>\u001b[1;34m\u001b[0m\n\u001b[0;32m      1\u001b[0m \u001b[1;32mfrom\u001b[0m \u001b[0msubprocess\u001b[0m \u001b[1;32mimport\u001b[0m \u001b[0mcall\u001b[0m\u001b[1;33m\u001b[0m\u001b[1;33m\u001b[0m\u001b[0m\n\u001b[1;32m----> 2\u001b[1;33m \u001b[0mcall\u001b[0m\u001b[1;33m(\u001b[0m\u001b[1;33m[\u001b[0m\u001b[1;34m\"ls\"\u001b[0m\u001b[1;33m,\u001b[0m \u001b[1;34m\"-l\"\u001b[0m\u001b[1;33m]\u001b[0m\u001b[1;33m)\u001b[0m\u001b[1;33m\u001b[0m\u001b[1;33m\u001b[0m\u001b[0m\n\u001b[0m",
      "\u001b[1;32m~\\anaconda3\\lib\\subprocess.py\u001b[0m in \u001b[0;36mcall\u001b[1;34m(timeout, *popenargs, **kwargs)\u001b[0m\n\u001b[0;32m    338\u001b[0m     \u001b[0mretcode\u001b[0m \u001b[1;33m=\u001b[0m \u001b[0mcall\u001b[0m\u001b[1;33m(\u001b[0m\u001b[1;33m[\u001b[0m\u001b[1;34m\"ls\"\u001b[0m\u001b[1;33m,\u001b[0m \u001b[1;34m\"-l\"\u001b[0m\u001b[1;33m]\u001b[0m\u001b[1;33m)\u001b[0m\u001b[1;33m\u001b[0m\u001b[1;33m\u001b[0m\u001b[0m\n\u001b[0;32m    339\u001b[0m     \"\"\"\n\u001b[1;32m--> 340\u001b[1;33m     \u001b[1;32mwith\u001b[0m \u001b[0mPopen\u001b[0m\u001b[1;33m(\u001b[0m\u001b[1;33m*\u001b[0m\u001b[0mpopenargs\u001b[0m\u001b[1;33m,\u001b[0m \u001b[1;33m**\u001b[0m\u001b[0mkwargs\u001b[0m\u001b[1;33m)\u001b[0m \u001b[1;32mas\u001b[0m \u001b[0mp\u001b[0m\u001b[1;33m:\u001b[0m\u001b[1;33m\u001b[0m\u001b[1;33m\u001b[0m\u001b[0m\n\u001b[0m\u001b[0;32m    341\u001b[0m         \u001b[1;32mtry\u001b[0m\u001b[1;33m:\u001b[0m\u001b[1;33m\u001b[0m\u001b[1;33m\u001b[0m\u001b[0m\n\u001b[0;32m    342\u001b[0m             \u001b[1;32mreturn\u001b[0m \u001b[0mp\u001b[0m\u001b[1;33m.\u001b[0m\u001b[0mwait\u001b[0m\u001b[1;33m(\u001b[0m\u001b[0mtimeout\u001b[0m\u001b[1;33m=\u001b[0m\u001b[0mtimeout\u001b[0m\u001b[1;33m)\u001b[0m\u001b[1;33m\u001b[0m\u001b[1;33m\u001b[0m\u001b[0m\n",
      "\u001b[1;32m~\\anaconda3\\lib\\subprocess.py\u001b[0m in \u001b[0;36m__init__\u001b[1;34m(self, args, bufsize, executable, stdin, stdout, stderr, preexec_fn, close_fds, shell, cwd, env, universal_newlines, startupinfo, creationflags, restore_signals, start_new_session, pass_fds, encoding, errors, text)\u001b[0m\n\u001b[0;32m    856\u001b[0m                             encoding=encoding, errors=errors)\n\u001b[0;32m    857\u001b[0m \u001b[1;33m\u001b[0m\u001b[0m\n\u001b[1;32m--> 858\u001b[1;33m             self._execute_child(args, executable, preexec_fn, close_fds,\n\u001b[0m\u001b[0;32m    859\u001b[0m                                 \u001b[0mpass_fds\u001b[0m\u001b[1;33m,\u001b[0m \u001b[0mcwd\u001b[0m\u001b[1;33m,\u001b[0m \u001b[0menv\u001b[0m\u001b[1;33m,\u001b[0m\u001b[1;33m\u001b[0m\u001b[1;33m\u001b[0m\u001b[0m\n\u001b[0;32m    860\u001b[0m                                 \u001b[0mstartupinfo\u001b[0m\u001b[1;33m,\u001b[0m \u001b[0mcreationflags\u001b[0m\u001b[1;33m,\u001b[0m \u001b[0mshell\u001b[0m\u001b[1;33m,\u001b[0m\u001b[1;33m\u001b[0m\u001b[1;33m\u001b[0m\u001b[0m\n",
      "\u001b[1;32m~\\anaconda3\\lib\\subprocess.py\u001b[0m in \u001b[0;36m_execute_child\u001b[1;34m(self, args, executable, preexec_fn, close_fds, pass_fds, cwd, env, startupinfo, creationflags, shell, p2cread, p2cwrite, c2pread, c2pwrite, errread, errwrite, unused_restore_signals, unused_start_new_session)\u001b[0m\n\u001b[0;32m   1309\u001b[0m             \u001b[1;31m# Start the process\u001b[0m\u001b[1;33m\u001b[0m\u001b[1;33m\u001b[0m\u001b[1;33m\u001b[0m\u001b[0m\n\u001b[0;32m   1310\u001b[0m             \u001b[1;32mtry\u001b[0m\u001b[1;33m:\u001b[0m\u001b[1;33m\u001b[0m\u001b[1;33m\u001b[0m\u001b[0m\n\u001b[1;32m-> 1311\u001b[1;33m                 hp, ht, pid, tid = _winapi.CreateProcess(executable, args,\n\u001b[0m\u001b[0;32m   1312\u001b[0m                                          \u001b[1;31m# no special security\u001b[0m\u001b[1;33m\u001b[0m\u001b[1;33m\u001b[0m\u001b[1;33m\u001b[0m\u001b[0m\n\u001b[0;32m   1313\u001b[0m                                          \u001b[1;32mNone\u001b[0m\u001b[1;33m,\u001b[0m \u001b[1;32mNone\u001b[0m\u001b[1;33m,\u001b[0m\u001b[1;33m\u001b[0m\u001b[1;33m\u001b[0m\u001b[0m\n",
      "\u001b[1;31mFileNotFoundError\u001b[0m: [WinError 2] Sistem belirtilen dosyayı bulamıyor"
     ]
    }
   ],
   "metadata": {}
  },
  {
   "cell_type": "markdown",
   "source": [
    "Get the path and name of the file that is currently executing"
   ],
   "metadata": {}
  },
  {
   "cell_type": "code",
   "execution_count": null,
   "source": [
    "import os\r\n",
    "print(\"Current File Name : \",os.path.realpath(__file__))"
   ],
   "outputs": [
    {
     "output_type": "error",
     "ename": "NameError",
     "evalue": "name '__file__' is not defined",
     "traceback": [
      "\u001b[1;31m---------------------------------------------------------------------------\u001b[0m",
      "\u001b[1;31mNameError\u001b[0m                                 Traceback (most recent call last)",
      "\u001b[1;32m<ipython-input-19-4f47f8305316>\u001b[0m in \u001b[0;36m<module>\u001b[1;34m\u001b[0m\n\u001b[0;32m      1\u001b[0m \u001b[1;32mimport\u001b[0m \u001b[0mos\u001b[0m\u001b[1;33m\u001b[0m\u001b[1;33m\u001b[0m\u001b[0m\n\u001b[1;32m----> 2\u001b[1;33m \u001b[0mprint\u001b[0m\u001b[1;33m(\u001b[0m\u001b[1;34m\"Current File Name : \"\u001b[0m\u001b[1;33m,\u001b[0m\u001b[0mos\u001b[0m\u001b[1;33m.\u001b[0m\u001b[0mpath\u001b[0m\u001b[1;33m.\u001b[0m\u001b[0mrealpath\u001b[0m\u001b[1;33m(\u001b[0m\u001b[0m__file__\u001b[0m\u001b[1;33m)\u001b[0m\u001b[1;33m)\u001b[0m\u001b[1;33m\u001b[0m\u001b[1;33m\u001b[0m\u001b[0m\n\u001b[0m",
      "\u001b[1;31mNameError\u001b[0m: name '__file__' is not defined"
     ]
    }
   ],
   "metadata": {}
  },
  {
   "cell_type": "code",
   "execution_count": null,
   "source": [
    "import os\r\n",
    "print(os.getcwd())"
   ],
   "outputs": [
    {
     "output_type": "stream",
     "name": "stdout",
     "text": [
      "c:\\Users\\LENOVO\\Desktop\\ME\\1.CLRSWY\\CODES\\Algorithm\n"
     ]
    }
   ],
   "metadata": {}
  },
  {
   "cell_type": "markdown",
   "source": [
    "Write a Python program to find out the number of CPUs using."
   ],
   "metadata": {}
  },
  {
   "cell_type": "code",
   "execution_count": null,
   "source": [
    "import multiprocessing\r\n",
    "print(multiprocessing.cpu_count())"
   ],
   "outputs": [
    {
     "output_type": "stream",
     "name": "stdout",
     "text": [
      "4\n"
     ]
    }
   ],
   "metadata": {}
  },
  {
   "cell_type": "markdown",
   "source": [
    "Write a Python program to parse a string to Float or Integer."
   ],
   "metadata": {}
  },
  {
   "cell_type": "code",
   "execution_count": null,
   "source": [
    "n = \"246.2458\"\r\n",
    "print(float(n))\r\n",
    "print(int(float(n)))"
   ],
   "outputs": [
    {
     "output_type": "stream",
     "name": "stdout",
     "text": [
      "246.2458\n"
     ]
    },
    {
     "output_type": "error",
     "ename": "TypeError",
     "evalue": "'float' object is not callable",
     "traceback": [
      "\u001b[1;31m---------------------------------------------------------------------------\u001b[0m",
      "\u001b[1;31mTypeError\u001b[0m                                 Traceback (most recent call last)",
      "\u001b[1;32m<ipython-input-23-331c69f688f6>\u001b[0m in \u001b[0;36m<module>\u001b[1;34m\u001b[0m\n\u001b[0;32m      1\u001b[0m \u001b[0mn\u001b[0m \u001b[1;33m=\u001b[0m \u001b[1;34m\"246.2458\"\u001b[0m\u001b[1;33m\u001b[0m\u001b[1;33m\u001b[0m\u001b[0m\n\u001b[0;32m      2\u001b[0m \u001b[0mprint\u001b[0m\u001b[1;33m(\u001b[0m\u001b[0mfloat\u001b[0m\u001b[1;33m(\u001b[0m\u001b[0mn\u001b[0m\u001b[1;33m)\u001b[0m\u001b[1;33m)\u001b[0m\u001b[1;33m\u001b[0m\u001b[1;33m\u001b[0m\u001b[0m\n\u001b[1;32m----> 3\u001b[1;33m \u001b[0mprint\u001b[0m\u001b[1;33m(\u001b[0m\u001b[0mint\u001b[0m\u001b[1;33m(\u001b[0m\u001b[0mn\u001b[0m\u001b[1;33m)\u001b[0m\u001b[1;33m)\u001b[0m\u001b[1;33m\u001b[0m\u001b[1;33m\u001b[0m\u001b[0m\n\u001b[0m",
      "\u001b[1;31mTypeError\u001b[0m: 'float' object is not callable"
     ]
    }
   ],
   "metadata": {}
  },
  {
   "cell_type": "markdown",
   "source": [
    "Write a Python program to list all files in a directory in Python."
   ],
   "metadata": {}
  },
  {
   "cell_type": "code",
   "execution_count": null,
   "source": [
    "from os import listdir\r\n",
    "from os.path import isfile, join\r\n",
    "files_list = [f for f in listdir('/home/students') if isfile(join('/home/students', f))]\r\n",
    "print(files_list);"
   ],
   "outputs": [
    {
     "output_type": "error",
     "ename": "FileNotFoundError",
     "evalue": "[WinError 3] Sistem belirtilen yolu bulamıyor: '/home/students'",
     "traceback": [
      "\u001b[1;31m---------------------------------------------------------------------------\u001b[0m",
      "\u001b[1;31mFileNotFoundError\u001b[0m                         Traceback (most recent call last)",
      "\u001b[1;32m<ipython-input-24-4bcd96f6cb3c>\u001b[0m in \u001b[0;36m<module>\u001b[1;34m\u001b[0m\n\u001b[0;32m      1\u001b[0m \u001b[1;32mfrom\u001b[0m \u001b[0mos\u001b[0m \u001b[1;32mimport\u001b[0m \u001b[0mlistdir\u001b[0m\u001b[1;33m\u001b[0m\u001b[1;33m\u001b[0m\u001b[0m\n\u001b[0;32m      2\u001b[0m \u001b[1;32mfrom\u001b[0m \u001b[0mos\u001b[0m\u001b[1;33m.\u001b[0m\u001b[0mpath\u001b[0m \u001b[1;32mimport\u001b[0m \u001b[0misfile\u001b[0m\u001b[1;33m,\u001b[0m \u001b[0mjoin\u001b[0m\u001b[1;33m\u001b[0m\u001b[1;33m\u001b[0m\u001b[0m\n\u001b[1;32m----> 3\u001b[1;33m \u001b[0mfiles_list\u001b[0m \u001b[1;33m=\u001b[0m \u001b[1;33m[\u001b[0m\u001b[0mf\u001b[0m \u001b[1;32mfor\u001b[0m \u001b[0mf\u001b[0m \u001b[1;32min\u001b[0m \u001b[0mlistdir\u001b[0m\u001b[1;33m(\u001b[0m\u001b[1;34m'/home/students'\u001b[0m\u001b[1;33m)\u001b[0m \u001b[1;32mif\u001b[0m \u001b[0misfile\u001b[0m\u001b[1;33m(\u001b[0m\u001b[0mjoin\u001b[0m\u001b[1;33m(\u001b[0m\u001b[1;34m'/home/students'\u001b[0m\u001b[1;33m,\u001b[0m \u001b[0mf\u001b[0m\u001b[1;33m)\u001b[0m\u001b[1;33m)\u001b[0m\u001b[1;33m]\u001b[0m\u001b[1;33m\u001b[0m\u001b[1;33m\u001b[0m\u001b[0m\n\u001b[0m\u001b[0;32m      4\u001b[0m \u001b[0mprint\u001b[0m\u001b[1;33m(\u001b[0m\u001b[0mfiles_list\u001b[0m\u001b[1;33m)\u001b[0m\u001b[1;33m;\u001b[0m\u001b[1;33m\u001b[0m\u001b[1;33m\u001b[0m\u001b[0m\n",
      "\u001b[1;31mFileNotFoundError\u001b[0m: [WinError 3] Sistem belirtilen yolu bulamıyor: '/home/students'"
     ]
    }
   ],
   "metadata": {}
  },
  {
   "cell_type": "markdown",
   "source": [
    "Write a Python program to sum of the first n positive integers."
   ],
   "metadata": {}
  },
  {
   "cell_type": "code",
   "execution_count": 31,
   "source": [
    "n = int(input(\"Input a number: \"))\r\n",
    "sum_num = (n * (n + 1)) / 2\r\n",
    "print(\"Sum of the first\", n ,\"positive integers:\", sum_num)"
   ],
   "outputs": [
    {
     "output_type": "error",
     "ename": "TypeError",
     "evalue": "'float' object is not callable",
     "traceback": [
      "\u001b[1;31m---------------------------------------------------------------------------\u001b[0m",
      "\u001b[1;31mTypeError\u001b[0m                                 Traceback (most recent call last)",
      "\u001b[1;32m<ipython-input-31-f309a838e5b0>\u001b[0m in \u001b[0;36m<module>\u001b[1;34m\u001b[0m\n\u001b[1;32m----> 1\u001b[1;33m \u001b[0mn\u001b[0m \u001b[1;33m=\u001b[0m \u001b[0mint\u001b[0m\u001b[1;33m(\u001b[0m\u001b[0minput\u001b[0m\u001b[1;33m(\u001b[0m\u001b[1;34m\"Input a number: \"\u001b[0m\u001b[1;33m)\u001b[0m\u001b[1;33m)\u001b[0m\u001b[1;33m\u001b[0m\u001b[1;33m\u001b[0m\u001b[0m\n\u001b[0m\u001b[0;32m      2\u001b[0m \u001b[0msum_num\u001b[0m \u001b[1;33m=\u001b[0m \u001b[1;33m(\u001b[0m\u001b[0mn\u001b[0m \u001b[1;33m*\u001b[0m \u001b[1;33m(\u001b[0m\u001b[0mn\u001b[0m \u001b[1;33m+\u001b[0m \u001b[1;36m1\u001b[0m\u001b[1;33m)\u001b[0m\u001b[1;33m)\u001b[0m \u001b[1;33m/\u001b[0m \u001b[1;36m2\u001b[0m\u001b[1;33m\u001b[0m\u001b[1;33m\u001b[0m\u001b[0m\n\u001b[0;32m      3\u001b[0m \u001b[0mprint\u001b[0m\u001b[1;33m(\u001b[0m\u001b[1;34m\"Sum of the first\"\u001b[0m\u001b[1;33m,\u001b[0m \u001b[0mn\u001b[0m \u001b[1;33m,\u001b[0m\u001b[1;34m\"positive integers:\"\u001b[0m\u001b[1;33m,\u001b[0m \u001b[0msum_num\u001b[0m\u001b[1;33m)\u001b[0m\u001b[1;33m\u001b[0m\u001b[1;33m\u001b[0m\u001b[0m\n",
      "\u001b[1;31mTypeError\u001b[0m: 'float' object is not callable"
     ]
    }
   ],
   "metadata": {}
  },
  {
   "cell_type": "code",
   "execution_count": 33,
   "source": [
    "def positive_integers(n):\r\n",
    "    return sum(n)\r\n",
    "\r\n",
    "print(positive_integers([1, 2, 3, 4, 5, 6, 7, 8]))"
   ],
   "outputs": [
    {
     "output_type": "error",
     "ename": "TypeError",
     "evalue": "sum() missing 1 required positional argument: 'y'",
     "traceback": [
      "\u001b[1;31m---------------------------------------------------------------------------\u001b[0m",
      "\u001b[1;31mTypeError\u001b[0m                                 Traceback (most recent call last)",
      "\u001b[1;32m<ipython-input-33-680330defc6a>\u001b[0m in \u001b[0;36m<module>\u001b[1;34m\u001b[0m\n\u001b[0;32m      2\u001b[0m     \u001b[1;32mreturn\u001b[0m \u001b[0msum\u001b[0m\u001b[1;33m(\u001b[0m\u001b[0mn\u001b[0m\u001b[1;33m)\u001b[0m\u001b[1;33m\u001b[0m\u001b[1;33m\u001b[0m\u001b[0m\n\u001b[0;32m      3\u001b[0m \u001b[1;33m\u001b[0m\u001b[0m\n\u001b[1;32m----> 4\u001b[1;33m \u001b[0mprint\u001b[0m\u001b[1;33m(\u001b[0m\u001b[0mpositive_integers\u001b[0m\u001b[1;33m(\u001b[0m\u001b[1;33m[\u001b[0m\u001b[1;36m1\u001b[0m\u001b[1;33m,\u001b[0m \u001b[1;36m2\u001b[0m\u001b[1;33m,\u001b[0m \u001b[1;36m3\u001b[0m\u001b[1;33m,\u001b[0m \u001b[1;36m4\u001b[0m\u001b[1;33m,\u001b[0m \u001b[1;36m5\u001b[0m\u001b[1;33m,\u001b[0m \u001b[1;36m6\u001b[0m\u001b[1;33m,\u001b[0m \u001b[1;36m7\u001b[0m\u001b[1;33m,\u001b[0m \u001b[1;36m8\u001b[0m\u001b[1;33m]\u001b[0m\u001b[1;33m)\u001b[0m\u001b[1;33m)\u001b[0m\u001b[1;33m\u001b[0m\u001b[1;33m\u001b[0m\u001b[0m\n\u001b[0m",
      "\u001b[1;32m<ipython-input-33-680330defc6a>\u001b[0m in \u001b[0;36mpositive_integers\u001b[1;34m(n)\u001b[0m\n\u001b[0;32m      1\u001b[0m \u001b[1;32mdef\u001b[0m \u001b[0mpositive_integers\u001b[0m\u001b[1;33m(\u001b[0m\u001b[0mn\u001b[0m\u001b[1;33m)\u001b[0m\u001b[1;33m:\u001b[0m\u001b[1;33m\u001b[0m\u001b[1;33m\u001b[0m\u001b[0m\n\u001b[1;32m----> 2\u001b[1;33m     \u001b[1;32mreturn\u001b[0m \u001b[0msum\u001b[0m\u001b[1;33m(\u001b[0m\u001b[0mn\u001b[0m\u001b[1;33m)\u001b[0m\u001b[1;33m\u001b[0m\u001b[1;33m\u001b[0m\u001b[0m\n\u001b[0m\u001b[0;32m      3\u001b[0m \u001b[1;33m\u001b[0m\u001b[0m\n\u001b[0;32m      4\u001b[0m \u001b[0mprint\u001b[0m\u001b[1;33m(\u001b[0m\u001b[0mpositive_integers\u001b[0m\u001b[1;33m(\u001b[0m\u001b[1;33m[\u001b[0m\u001b[1;36m1\u001b[0m\u001b[1;33m,\u001b[0m \u001b[1;36m2\u001b[0m\u001b[1;33m,\u001b[0m \u001b[1;36m3\u001b[0m\u001b[1;33m,\u001b[0m \u001b[1;36m4\u001b[0m\u001b[1;33m,\u001b[0m \u001b[1;36m5\u001b[0m\u001b[1;33m,\u001b[0m \u001b[1;36m6\u001b[0m\u001b[1;33m,\u001b[0m \u001b[1;36m7\u001b[0m\u001b[1;33m,\u001b[0m \u001b[1;36m8\u001b[0m\u001b[1;33m]\u001b[0m\u001b[1;33m)\u001b[0m\u001b[1;33m)\u001b[0m\u001b[1;33m\u001b[0m\u001b[1;33m\u001b[0m\u001b[0m\n",
      "\u001b[1;31mTypeError\u001b[0m: sum() missing 1 required positional argument: 'y'"
     ]
    }
   ],
   "metadata": {}
  },
  {
   "cell_type": "markdown",
   "source": [
    "Convert height (in feet and inches) to centimeters"
   ],
   "metadata": {}
  },
  {
   "cell_type": "code",
   "execution_count": 1,
   "source": [
    "print(\"Input your height: \")\r\n",
    "h_ft = int(input(\"Feet: \"))\r\n",
    "h_inch = int(input(\"Inches: \"))\r\n",
    "\r\n",
    "h_inch += h_ft * 12\r\n",
    "h_cm = round(h_inch * 2.54, 1)\r\n",
    "\r\n",
    "print(\"Your height is : %d cm.\" % h_cm)"
   ],
   "outputs": [
    {
     "output_type": "stream",
     "name": "stdout",
     "text": [
      "Input your height: \n",
      "Your height is : 576 cm.\n"
     ]
    }
   ],
   "metadata": {}
  },
  {
   "cell_type": "markdown",
   "source": [
    "Calculate the sum of the digits in an integer"
   ],
   "metadata": {}
  },
  {
   "cell_type": "code",
   "execution_count": 2,
   "source": [
    "num = int(input(\"Input a four digit numbers: \"))\r\n",
    "x  = num //1000\r\n",
    "x1 = (num - x*1000)//100\r\n",
    "x2 = (num - x*1000 - x1*100)//10\r\n",
    "x3 = num - x*1000 - x1*100 - x2*10\r\n",
    "print(\"The sum of digits in the number is\", x+x1+x2+x3)"
   ],
   "outputs": [
    {
     "output_type": "stream",
     "name": "stdout",
     "text": [
      "The sum of digits in the number is 23\n"
     ]
    }
   ],
   "metadata": {}
  },
  {
   "cell_type": "code",
   "execution_count": 3,
   "source": [
    "n = 1234567\r\n",
    "print(sum(map(int, list(str(n)))))"
   ],
   "outputs": [
    {
     "output_type": "stream",
     "name": "stdout",
     "text": [
      "28\n"
     ]
    }
   ],
   "metadata": {}
  },
  {
   "cell_type": "markdown",
   "source": [
    "Write a Python program to sort three integers without using conditional statements and loops."
   ],
   "metadata": {}
  },
  {
   "cell_type": "code",
   "execution_count": 5,
   "source": [
    "x = int(input(\"Input first number: \"))\r\n",
    "y = int(input(\"Input second number: \"))\r\n",
    "z = int(input(\"Input third number: \"))\r\n",
    "\r\n",
    "a1 = min(x, y, z)\r\n",
    "a3 = max(x, y, z)\r\n",
    "a2 = (x + y + z) - a1 - a3\r\n",
    "print(\"Numbers in sorted order: \", a1, a2, a3)"
   ],
   "outputs": [
    {
     "output_type": "stream",
     "name": "stdout",
     "text": [
      "Numbers in sorted order:  5 7 9\n"
     ]
    }
   ],
   "metadata": {}
  },
  {
   "cell_type": "code",
   "execution_count": 6,
   "source": [
    "a=[1,10,5,3,5,7,8,2]\r\n",
    "a.sort()\r\n",
    "print(a)"
   ],
   "outputs": [
    {
     "output_type": "stream",
     "name": "stdout",
     "text": [
      "[1, 2, 3, 5, 5, 7, 8, 10]\n"
     ]
    }
   ],
   "metadata": {}
  },
  {
   "cell_type": "code",
   "execution_count": 7,
   "source": [
    "print(sorted([4,3,9]))"
   ],
   "outputs": [
    {
     "output_type": "stream",
     "name": "stdout",
     "text": [
      "[3, 4, 9]\n"
     ]
    }
   ],
   "metadata": {}
  },
  {
   "cell_type": "code",
   "execution_count": 9,
   "source": [
    "def sort_int(n1, n2, n3):\r\n",
    "    return ' '.join([str(i) for i in sorted([n1, n2, n3])])\r\n",
    "\r\n",
    "print(sort_int(3, 1, 8))"
   ],
   "outputs": [
    {
     "output_type": "stream",
     "name": "stdout",
     "text": [
      "1 3 8\n"
     ]
    }
   ],
   "metadata": {}
  },
  {
   "cell_type": "markdown",
   "source": [
    "Get the details of math module"
   ],
   "metadata": {}
  },
  {
   "cell_type": "code",
   "execution_count": 10,
   "source": [
    "# Imports the math module\r\n",
    "import math            \r\n",
    "#Sets everything to a list of math module\r\n",
    "math_ls = dir(math) # \r\n",
    "print(math_ls)"
   ],
   "outputs": [
    {
     "output_type": "stream",
     "name": "stdout",
     "text": [
      "['__doc__', '__loader__', '__name__', '__package__', '__spec__', 'acos', 'acosh', 'asin', 'asinh', 'atan', 'atan2', 'atanh', 'ceil', 'comb', 'copysign', 'cos', 'cosh', 'degrees', 'dist', 'e', 'erf', 'erfc', 'exp', 'expm1', 'fabs', 'factorial', 'floor', 'fmod', 'frexp', 'fsum', 'gamma', 'gcd', 'hypot', 'inf', 'isclose', 'isfinite', 'isinf', 'isnan', 'isqrt', 'ldexp', 'lgamma', 'log', 'log10', 'log1p', 'log2', 'modf', 'nan', 'perm', 'pi', 'pow', 'prod', 'radians', 'remainder', 'sin', 'sinh', 'sqrt', 'tan', 'tanh', 'tau', 'trunc']\n"
     ]
    }
   ],
   "metadata": {}
  },
  {
   "cell_type": "code",
   "execution_count": 11,
   "source": [
    "import math\r\n",
    "print(\"Details of math module:\\n\")\r\n",
    "help(math)"
   ],
   "outputs": [
    {
     "output_type": "stream",
     "name": "stdout",
     "text": [
      "Details of math module:\n",
      "\n",
      "Help on built-in module math:\n",
      "\n",
      "NAME\n",
      "    math\n",
      "\n",
      "DESCRIPTION\n",
      "    This module provides access to the mathematical functions\n",
      "    defined by the C standard.\n",
      "\n",
      "FUNCTIONS\n",
      "    acos(x, /)\n",
      "        Return the arc cosine (measured in radians) of x.\n",
      "    \n",
      "    acosh(x, /)\n",
      "        Return the inverse hyperbolic cosine of x.\n",
      "    \n",
      "    asin(x, /)\n",
      "        Return the arc sine (measured in radians) of x.\n",
      "    \n",
      "    asinh(x, /)\n",
      "        Return the inverse hyperbolic sine of x.\n",
      "    \n",
      "    atan(x, /)\n",
      "        Return the arc tangent (measured in radians) of x.\n",
      "    \n",
      "    atan2(y, x, /)\n",
      "        Return the arc tangent (measured in radians) of y/x.\n",
      "        \n",
      "        Unlike atan(y/x), the signs of both x and y are considered.\n",
      "    \n",
      "    atanh(x, /)\n",
      "        Return the inverse hyperbolic tangent of x.\n",
      "    \n",
      "    ceil(x, /)\n",
      "        Return the ceiling of x as an Integral.\n",
      "        \n",
      "        This is the smallest integer >= x.\n",
      "    \n",
      "    comb(n, k, /)\n",
      "        Number of ways to choose k items from n items without repetition and without order.\n",
      "        \n",
      "        Evaluates to n! / (k! * (n - k)!) when k <= n and evaluates\n",
      "        to zero when k > n.\n",
      "        \n",
      "        Also called the binomial coefficient because it is equivalent\n",
      "        to the coefficient of k-th term in polynomial expansion of the\n",
      "        expression (1 + x)**n.\n",
      "        \n",
      "        Raises TypeError if either of the arguments are not integers.\n",
      "        Raises ValueError if either of the arguments are negative.\n",
      "    \n",
      "    copysign(x, y, /)\n",
      "        Return a float with the magnitude (absolute value) of x but the sign of y.\n",
      "        \n",
      "        On platforms that support signed zeros, copysign(1.0, -0.0)\n",
      "        returns -1.0.\n",
      "    \n",
      "    cos(x, /)\n",
      "        Return the cosine of x (measured in radians).\n",
      "    \n",
      "    cosh(x, /)\n",
      "        Return the hyperbolic cosine of x.\n",
      "    \n",
      "    degrees(x, /)\n",
      "        Convert angle x from radians to degrees.\n",
      "    \n",
      "    dist(p, q, /)\n",
      "        Return the Euclidean distance between two points p and q.\n",
      "        \n",
      "        The points should be specified as sequences (or iterables) of\n",
      "        coordinates.  Both inputs must have the same dimension.\n",
      "        \n",
      "        Roughly equivalent to:\n",
      "            sqrt(sum((px - qx) ** 2.0 for px, qx in zip(p, q)))\n",
      "    \n",
      "    erf(x, /)\n",
      "        Error function at x.\n",
      "    \n",
      "    erfc(x, /)\n",
      "        Complementary error function at x.\n",
      "    \n",
      "    exp(x, /)\n",
      "        Return e raised to the power of x.\n",
      "    \n",
      "    expm1(x, /)\n",
      "        Return exp(x)-1.\n",
      "        \n",
      "        This function avoids the loss of precision involved in the direct evaluation of exp(x)-1 for small x.\n",
      "    \n",
      "    fabs(x, /)\n",
      "        Return the absolute value of the float x.\n",
      "    \n",
      "    factorial(x, /)\n",
      "        Find x!.\n",
      "        \n",
      "        Raise a ValueError if x is negative or non-integral.\n",
      "    \n",
      "    floor(x, /)\n",
      "        Return the floor of x as an Integral.\n",
      "        \n",
      "        This is the largest integer <= x.\n",
      "    \n",
      "    fmod(x, y, /)\n",
      "        Return fmod(x, y), according to platform C.\n",
      "        \n",
      "        x % y may differ.\n",
      "    \n",
      "    frexp(x, /)\n",
      "        Return the mantissa and exponent of x, as pair (m, e).\n",
      "        \n",
      "        m is a float and e is an int, such that x = m * 2.**e.\n",
      "        If x is 0, m and e are both 0.  Else 0.5 <= abs(m) < 1.0.\n",
      "    \n",
      "    fsum(seq, /)\n",
      "        Return an accurate floating point sum of values in the iterable seq.\n",
      "        \n",
      "        Assumes IEEE-754 floating point arithmetic.\n",
      "    \n",
      "    gamma(x, /)\n",
      "        Gamma function at x.\n",
      "    \n",
      "    gcd(x, y, /)\n",
      "        greatest common divisor of x and y\n",
      "    \n",
      "    hypot(...)\n",
      "        hypot(*coordinates) -> value\n",
      "        \n",
      "        Multidimensional Euclidean distance from the origin to a point.\n",
      "        \n",
      "        Roughly equivalent to:\n",
      "            sqrt(sum(x**2 for x in coordinates))\n",
      "        \n",
      "        For a two dimensional point (x, y), gives the hypotenuse\n",
      "        using the Pythagorean theorem:  sqrt(x*x + y*y).\n",
      "        \n",
      "        For example, the hypotenuse of a 3/4/5 right triangle is:\n",
      "        \n",
      "            >>> hypot(3.0, 4.0)\n",
      "            5.0\n",
      "    \n",
      "    isclose(a, b, *, rel_tol=1e-09, abs_tol=0.0)\n",
      "        Determine whether two floating point numbers are close in value.\n",
      "        \n",
      "          rel_tol\n",
      "            maximum difference for being considered \"close\", relative to the\n",
      "            magnitude of the input values\n",
      "          abs_tol\n",
      "            maximum difference for being considered \"close\", regardless of the\n",
      "            magnitude of the input values\n",
      "        \n",
      "        Return True if a is close in value to b, and False otherwise.\n",
      "        \n",
      "        For the values to be considered close, the difference between them\n",
      "        must be smaller than at least one of the tolerances.\n",
      "        \n",
      "        -inf, inf and NaN behave similarly to the IEEE 754 Standard.  That\n",
      "        is, NaN is not close to anything, even itself.  inf and -inf are\n",
      "        only close to themselves.\n",
      "    \n",
      "    isfinite(x, /)\n",
      "        Return True if x is neither an infinity nor a NaN, and False otherwise.\n",
      "    \n",
      "    isinf(x, /)\n",
      "        Return True if x is a positive or negative infinity, and False otherwise.\n",
      "    \n",
      "    isnan(x, /)\n",
      "        Return True if x is a NaN (not a number), and False otherwise.\n",
      "    \n",
      "    isqrt(n, /)\n",
      "        Return the integer part of the square root of the input.\n",
      "    \n",
      "    ldexp(x, i, /)\n",
      "        Return x * (2**i).\n",
      "        \n",
      "        This is essentially the inverse of frexp().\n",
      "    \n",
      "    lgamma(x, /)\n",
      "        Natural logarithm of absolute value of Gamma function at x.\n",
      "    \n",
      "    log(...)\n",
      "        log(x, [base=math.e])\n",
      "        Return the logarithm of x to the given base.\n",
      "        \n",
      "        If the base not specified, returns the natural logarithm (base e) of x.\n",
      "    \n",
      "    log10(x, /)\n",
      "        Return the base 10 logarithm of x.\n",
      "    \n",
      "    log1p(x, /)\n",
      "        Return the natural logarithm of 1+x (base e).\n",
      "        \n",
      "        The result is computed in a way which is accurate for x near zero.\n",
      "    \n",
      "    log2(x, /)\n",
      "        Return the base 2 logarithm of x.\n",
      "    \n",
      "    modf(x, /)\n",
      "        Return the fractional and integer parts of x.\n",
      "        \n",
      "        Both results carry the sign of x and are floats.\n",
      "    \n",
      "    perm(n, k=None, /)\n",
      "        Number of ways to choose k items from n items without repetition and with order.\n",
      "        \n",
      "        Evaluates to n! / (n - k)! when k <= n and evaluates\n",
      "        to zero when k > n.\n",
      "        \n",
      "        If k is not specified or is None, then k defaults to n\n",
      "        and the function returns n!.\n",
      "        \n",
      "        Raises TypeError if either of the arguments are not integers.\n",
      "        Raises ValueError if either of the arguments are negative.\n",
      "    \n",
      "    pow(x, y, /)\n",
      "        Return x**y (x to the power of y).\n",
      "    \n",
      "    prod(iterable, /, *, start=1)\n",
      "        Calculate the product of all the elements in the input iterable.\n",
      "        \n",
      "        The default start value for the product is 1.\n",
      "        \n",
      "        When the iterable is empty, return the start value.  This function is\n",
      "        intended specifically for use with numeric values and may reject\n",
      "        non-numeric types.\n",
      "    \n",
      "    radians(x, /)\n",
      "        Convert angle x from degrees to radians.\n",
      "    \n",
      "    remainder(x, y, /)\n",
      "        Difference between x and the closest integer multiple of y.\n",
      "        \n",
      "        Return x - n*y where n*y is the closest integer multiple of y.\n",
      "        In the case where x is exactly halfway between two multiples of\n",
      "        y, the nearest even value of n is used. The result is always exact.\n",
      "    \n",
      "    sin(x, /)\n",
      "        Return the sine of x (measured in radians).\n",
      "    \n",
      "    sinh(x, /)\n",
      "        Return the hyperbolic sine of x.\n",
      "    \n",
      "    sqrt(x, /)\n",
      "        Return the square root of x.\n",
      "    \n",
      "    tan(x, /)\n",
      "        Return the tangent of x (measured in radians).\n",
      "    \n",
      "    tanh(x, /)\n",
      "        Return the hyperbolic tangent of x.\n",
      "    \n",
      "    trunc(x, /)\n",
      "        Truncates the Real x to the nearest Integral toward 0.\n",
      "        \n",
      "        Uses the __trunc__ magic method.\n",
      "\n",
      "DATA\n",
      "    e = 2.718281828459045\n",
      "    inf = inf\n",
      "    nan = nan\n",
      "    pi = 3.141592653589793\n",
      "    tau = 6.283185307179586\n",
      "\n",
      "FILE\n",
      "    (built-in)\n",
      "\n",
      "\n"
     ]
    }
   ],
   "metadata": {}
  },
  {
   "cell_type": "markdown",
   "source": [
    "Calculate midpoints of a line"
   ],
   "metadata": {}
  },
  {
   "cell_type": "code",
   "execution_count": 12,
   "source": [
    "print('\\nCalculate the midpoint of a line :')\r\n",
    "\r\n",
    "x1 = float(input('The value of x (the first endpoint) '))\r\n",
    "y1 = float(input('The value of y (the first endpoint) '))\r\n",
    "\r\n",
    "x2 = float(input('The value of x (the first endpoint) '))\r\n",
    "y2 = float(input('The value of y (the first endpoint) '))\r\n",
    "\r\n",
    "x_m_point = (x1 + x2)/2\r\n",
    "y_m_point = (y1 + y2)/2\r\n",
    "print();\r\n",
    "print(\"The midpoint of line is :\")\r\n",
    "print( \"The midpoint's x value is: \",x_m_point)\r\n",
    "print( \"The midpoint's y value is: \",y_m_point)\r\n",
    "print();"
   ],
   "outputs": [
    {
     "output_type": "stream",
     "name": "stdout",
     "text": [
      "\n",
      "Calculate the midpoint of a line :\n",
      "\n",
      "The midpoint of line is :\n",
      "The midpoint's x value is:  9.0\n",
      "The midpoint's y value is:  10.0\n",
      "\n"
     ]
    }
   ],
   "metadata": {}
  },
  {
   "cell_type": "markdown",
   "source": [
    "Write a Python program to hash a word."
   ],
   "metadata": {}
  },
  {
   "cell_type": "code",
   "execution_count": 1,
   "source": [
    "word = str(input('Enter any word'))\r\n",
    "import hashlib\r\n",
    "word = (word.encode('utf-8'))\r\n",
    "print(hashlib.sha256(word).hexdigest())"
   ],
   "outputs": [
    {
     "output_type": "stream",
     "name": "stdout",
     "text": [
      "889e1a920295babe78dcfcdd14fa55491f600501544129d5c1e5c7a174d9694a\n"
     ]
    }
   ],
   "metadata": {}
  },
  {
   "cell_type": "code",
   "execution_count": 3,
   "source": [
    "soundex=[0,1,2,3,0,1,2,0,0,2,2,4,5,5,0,1,2,6,2,3,0,1,0,2,0,2]\r\n",
    " \r\n",
    "word=input(\"Input the word be hashed: \")\r\n",
    " \r\n",
    "word=word.upper()\r\n",
    " \r\n",
    "coded=word[0]\r\n",
    " \r\n",
    "for a in word[1:len(word)]:\r\n",
    "    i=65-ord(a)\r\n",
    "    coded=coded+str(soundex[i])\r\n",
    "print() \r\n",
    "print(\"The coded word is: \"+coded)\r\n",
    "print()"
   ],
   "outputs": [
    {
     "output_type": "stream",
     "name": "stdout",
     "text": [
      "\n",
      "The coded word is: Y20222022\n",
      "\n"
     ]
    }
   ],
   "metadata": {}
  },
  {
   "cell_type": "markdown",
   "source": [
    "Write a Python program to find the available built-in modules."
   ],
   "metadata": {}
  },
  {
   "cell_type": "code",
   "execution_count": 8,
   "source": [
    "import sys\r\n",
    "import textwrap\r\n",
    "module_name = ', '.join(sorted(sys.builtin_module_names))\r\n",
    "print(textwrap.fill(module_name, width=200))"
   ],
   "outputs": [
    {
     "output_type": "stream",
     "name": "stdout",
     "text": [
      "_abc, _ast, _bisect, _blake2, _codecs, _codecs_cn, _codecs_hk, _codecs_iso2022, _codecs_jp, _codecs_kr, _codecs_tw, _collections, _contextvars, _csv, _datetime, _functools, _heapq, _imp, _io, _json,\n",
      "_locale, _lsprof, _md5, _multibytecodec, _opcode, _operator, _peg_parser, _pickle, _random, _sha1, _sha256, _sha3, _sha512, _signal, _sre, _stat, _statistics, _string, _struct, _symtable, _thread,\n",
      "_tracemalloc, _warnings, _weakref, _winapi, _xxsubinterpreters, array, atexit, audioop, binascii, builtins, cmath, errno, faulthandler, gc, itertools, marshal, math, mmap, msvcrt, nt, parser, sys,\n",
      "time, winreg, xxsubtype, zlib\n"
     ]
    }
   ],
   "metadata": {}
  },
  {
   "cell_type": "code",
   "execution_count": 9,
   "source": [
    "help('modules')"
   ],
   "outputs": [
    {
     "output_type": "stream",
     "name": "stdout",
     "text": [
      "\n",
      "Please wait a moment while I gather a list of all available modules...\n",
      "\n"
     ]
    },
    {
     "output_type": "stream",
     "name": "stderr",
     "text": [
      "C:\\Users\\LENOVO\\anaconda3\\envs\\my-env\\lib\\site-packages\\IPython\\kernel\\__init__.py:12: ShimWarning: The `IPython.kernel` package has been deprecated since IPython 4.0.You should import from ipykernel or jupyter_client instead.\n",
      "  warn(\"The `IPython.kernel` package has been deprecated since IPython 4.0.\"\n",
      "C:\\Users\\LENOVO\\anaconda3\\envs\\my-env\\lib\\pkgutil.py:108: VisibleDeprecationWarning: zmq.eventloop.minitornado is deprecated in pyzmq 14.0 and will be removed.\n",
      "    Install tornado itself to use zmq with the tornado IOLoop.\n",
      "    \n",
      "  yield from walk_packages(path, info.name+'.', onerror)\n"
     ]
    },
    {
     "output_type": "stream",
     "name": "stdout",
     "text": [
      "IPython             bleach              mmapfile            symbol\n",
      "__future__          builtins            mmsystem            symbolProvider\n",
      "_abc                bz2                 modulefinder        sympyprinting\n",
      "_aix_support        cProfile            msilib              symtable\n",
      "_ast                calendar            msvcrt              sys\n",
      "_asyncio            certifi             multiprocessing     sysconfig\n",
      "_bisect             cffi                nbclient            tabnanny\n",
      "_blake2             cgi                 nbconvert           tarfile\n",
      "_bootlocale         cgitb               nbformat            telnetlib\n",
      "_bootsubprocess     chunk               nest_asyncio        tempfile\n",
      "_bz2                cmath               netbios             terminado\n",
      "_cffi_backend       cmd                 netrc               test\n",
      "_codecs             code                nntplib             testlauncher\n",
      "_codecs_cn          codecs              normalizeForInterpreter testpath\n",
      "_codecs_hk          codeop              normalizeSelection  tests\n",
      "_codecs_iso2022     collections         notebook            textwrap\n",
      "_codecs_jp          colorama            nt                  this\n",
      "_codecs_kr          colorsys            ntpath              threading\n",
      "_codecs_tw          commctrl            ntsecuritycon       time\n",
      "_collections        compileall          nturl2path          timeit\n",
      "_collections_abc    completion          numbers             timer\n",
      "_compat_pickle      concurrent          numpy               tkinter\n",
      "_compression        configparser        odbc                token\n",
      "_contextvars        contextlib          opcode              tokenize\n",
      "_csv                contextvars         operator            tornado\n",
      "_ctypes             copy                optparse            trace\n",
      "_ctypes_test        copyreg             os                  traceback\n",
      "_datetime           crypt               packaging           tracemalloc\n",
      "_decimal            csv                 pandocfilters       traitlets\n",
      "_distutils_hack     ctypes              parser              tty\n",
      "_elementtree        curses              parso               turtle\n",
      "_functools          cythonmagic         pathlib             turtledemo\n",
      "_hashlib            dataclasses         pdb                 types\n",
      "_heapq              datetime            perfmon             typing\n",
      "_imp                dateutil            pickle              unicodedata\n",
      "_io                 dbi                 pickleshare         unittest\n",
      "_json               dbm                 pickletools         urllib\n",
      "_locale             dde                 pip                 uu\n",
      "_lsprof             debugpy             pipes               uuid\n",
      "_lzma               decimal             pkg_resources       venv\n",
      "_markupbase         decorator           pkgutil             visualstudio_py_testlauncher\n",
      "_md5                defusedxml          platform            vscode_datascience_helpers\n",
      "_msi                difflib             plistlib            warnings\n",
      "_multibytecodec     dis                 poplib              wave\n",
      "_multiprocessing    distutils           posixpath           wcwidth\n",
      "_opcode             doctest             pprint              weakref\n",
      "_operator           email               printEnvVariables   webbrowser\n",
      "_osx_support        encodings           printEnvVariablesToFile webencodings\n",
      "_overlapped         ensurepip           profile             wheel\n",
      "_peg_parser         entrypoints         prometheus_client   win2kras\n",
      "_pickle             enum                prompt_toolkit      win32api\n",
      "_py_abc             errno               pstats              win32clipboard\n",
      "_pydecimal          faulthandler        pty                 win32com\n",
      "_pyio               filecmp             pvectorc            win32con\n",
      "_pyrsistent_version fileinput           py_compile          win32console\n",
      "_queue              fnmatch             pyclbr              win32cred\n",
      "_random             formatter           pycparser           win32crypt\n",
      "_sha1               fractions           pydoc               win32cryptcon\n",
      "_sha256             ftplib              pydoc_data          win32event\n",
      "_sha3               functools           pyexpat             win32evtlog\n",
      "_sha512             gc                  pygments            win32evtlogutil\n",
      "_signal             genericpath         pyls_jsonrpc        win32file\n",
      "_sitebuiltins       getopt              pyparsing           win32gui\n",
      "_socket             getpass             pyrsistent          win32gui_struct\n",
      "_sqlite3            gettext             pythoncom           win32help\n",
      "_sre                glob                pywin               win32inet\n",
      "_ssl                graphlib            pywin32_bootstrap   win32inetcon\n",
      "_stat               gzip                pywin32_testutil    win32job\n",
      "_statistics         hashlib             pywintypes          win32lz\n",
      "_string             heapq               queue               win32net\n",
      "_strptime           hmac                quopri              win32netcon\n",
      "_struct             html                random              win32pdh\n",
      "_symtable           http                rasutil             win32pdhquery\n",
      "_testbuffer         idlelib             re                  win32pdhutil\n",
      "_testcapi           imaplib             regcheck            win32pipe\n",
      "_testconsole        imghdr              regutil             win32print\n",
      "_testimportmultiple imp                 reprlib             win32process\n",
      "_testinternalcapi   importlib           rlcompleter         win32profile\n",
      "_testmultiphase     importlib_metadata  rmagic              win32ras\n",
      "_thread             inspect             runJediLanguageServer win32rcparser\n",
      "_threading_local    install_debugpy     runpy               win32security\n",
      "_tkinter            interpreterInfo     sched               win32service\n",
      "_tracemalloc        io                  secrets             win32serviceutil\n",
      "_uuid               ipaddress           select              win32timezone\n",
      "_warnings           ipykernel           selectors           win32trace\n",
      "_weakref            ipykernel_launcher  send2trash          win32traceutil\n",
      "_weakrefset         ipython_genutils    servicemanager      win32transaction\n",
      "_win32sysloader     isapi               setuptools          win32ts\n",
      "_winapi             itertools           shell_exec          win32ui\n",
      "_winxptheme         jedi                shelve              win32uiole\n",
      "_xxsubinterpreters  jinja2              shlex               win32verstamp\n",
      "_zoneinfo           json                shutil              win32wnet\n",
      "abc                 jsonschema          signal              wincertstore\n",
      "adodbapi            jupyter             site                winerror\n",
      "afxres              jupyter_client      six                 winioctlcon\n",
      "aifc                jupyter_core        smtpd               winnt\n",
      "antigravity         jupyterlab_pygments smtplib             winperf\n",
      "argon2              keyword             sndhdr              winpty\n",
      "argparse            lib2to3             socket              winreg\n",
      "array               linecache           socketserver        winsound\n",
      "ast                 locale              sqlite3             winxpgui\n",
      "async_generator     logging             sre_compile         winxptheme\n",
      "asynchat            lzma                sre_constants       wsgiref\n",
      "asyncio             mailbox             sre_parse           xdrlib\n",
      "asyncore            mailcap             ssl                 xml\n",
      "atexit              markupsafe          sspi                xmlrpc\n",
      "attr                marshal             sspicon             xxsubtype\n",
      "audioop             math                stat                zipapp\n",
      "autoreload          matplotlib_inline   statistics          zipfile\n",
      "backcall            mimetypes           storemagic          zipimport\n",
      "base64              mistune             string              zipp\n",
      "bdb                 mkl                 stringprep          zlib\n",
      "binascii            mkl_fft             struct              zmq\n",
      "binhex              mkl_random          subprocess          zoneinfo\n",
      "bisect              mmap                sunau               \n",
      "\n",
      "Enter any module name to get more help.  Or, type \"modules spam\" to search\n",
      "for modules whose name or summary contain the string \"spam\".\n",
      "\n"
     ]
    }
   ],
   "metadata": {}
  },
  {
   "cell_type": "markdown",
   "source": [
    "Write a Python program to concatenate N strings."
   ],
   "metadata": {}
  },
  {
   "cell_type": "code",
   "execution_count": 10,
   "source": [
    "list_of_colors = ['Red', 'White', 'Black']  \r\n",
    "colors = '-'.join(list_of_colors)\r\n",
    "print()\r\n",
    "print(\"All Colors: \"+colors)\r\n",
    "print()"
   ],
   "outputs": [
    {
     "output_type": "stream",
     "name": "stdout",
     "text": [
      "\n",
      "All Colors: Red-White-Black\n",
      "\n"
     ]
    }
   ],
   "metadata": {}
  },
  {
   "cell_type": "markdown",
   "source": [
    "Write a Python program to calculate the sum of all items of a container (tuple, list, set, dictionary).\r\n",
    "\r\n",
    "Some objects contain references to other objects; these are called containers. Generally, containers provide a way to access the contained objects and to iterate over them. Examples of containers are lists, sets, tuples and dictionaries."
   ],
   "metadata": {}
  },
  {
   "cell_type": "code",
   "execution_count": 11,
   "source": [
    "s = sum([10,20,30])\r\n",
    "print(\"\\nSum of the container: \", s)\r\n",
    "print()"
   ],
   "outputs": [
    {
     "output_type": "stream",
     "name": "stdout",
     "text": [
      "\n",
      "Sum of the container:  60\n",
      "\n"
     ]
    }
   ],
   "metadata": {}
  },
  {
   "cell_type": "code",
   "execution_count": 12,
   "source": [
    "nums = [10,20,30]\r\n",
    "print(\"Original container:\")\r\n",
    "print(nums)\r\n",
    "print(type(nums))\r\n",
    "print(\"Sum of all items of the said container:\", sum(nums))"
   ],
   "outputs": [
    {
     "output_type": "stream",
     "name": "stdout",
     "text": [
      "Original container:\n",
      "[10, 20, 30]\n",
      "<class 'list'>\n",
      "Sum of all items of the said container: 60\n"
     ]
    }
   ],
   "metadata": {}
  },
  {
   "cell_type": "code",
   "execution_count": 13,
   "source": [
    "def dict_sum(nums):     \r\n",
    "   num_sum = 0\r\n",
    "   for i in nums:\r\n",
    "       num_sum = num_sum + nums[i]     \r\n",
    "   return num_sum\r\n",
    "nums = {'a': 100, 'b':200, 'c':300, 'd':120}\r\n",
    "print(\"Original container:\")\r\n",
    "print(nums)\r\n",
    "print(type(nums))\r\n",
    "print(\"Sum of all items of the said container:\", dict_sum(nums))"
   ],
   "outputs": [
    {
     "output_type": "stream",
     "name": "stdout",
     "text": [
      "Original container:\n",
      "{'a': 100, 'b': 200, 'c': 300, 'd': 120}\n",
      "<class 'dict'>\n",
      "Sum of all items of the said container: 720\n"
     ]
    }
   ],
   "metadata": {}
  },
  {
   "cell_type": "code",
   "execution_count": 14,
   "source": [
    "nums = {7, 4, 9, 1, 3, 2}\r\n",
    "print(\"The original container\")\r\n",
    "print(nums)\r\n",
    "print(type(nums))\r\n",
    "sum_tuple = sum(nums)\r\n",
    "print(\"Sum of all items of the said container:\", str(sum_tuple))"
   ],
   "outputs": [
    {
     "output_type": "stream",
     "name": "stdout",
     "text": [
      "The original container\n",
      "{1, 2, 3, 4, 7, 9}\n",
      "<class 'set'>\n",
      "Sum of all items of the said container: 26\n"
     ]
    }
   ],
   "metadata": {}
  },
  {
   "cell_type": "code",
   "execution_count": 15,
   "source": [
    "nums = (7, 4, 9, 1, 3, 2)\r\n",
    "print(\"The original container\")\r\n",
    "print(nums)\r\n",
    "print(type(nums))\r\n",
    "sum_tuple = sum(nums)\r\n",
    "print(\"Sum of all items of the said container:\", str(sum_tuple))"
   ],
   "outputs": [
    {
     "output_type": "stream",
     "name": "stdout",
     "text": [
      "The original container\n",
      "(7, 4, 9, 1, 3, 2)\n",
      "<class 'tuple'>\n",
      "Sum of all items of the said container: 26\n"
     ]
    }
   ],
   "metadata": {}
  },
  {
   "cell_type": "code",
   "execution_count": 16,
   "source": [
    "x=[10,20,30]\r\n",
    "s=sum(x)\r\n",
    "print(s)"
   ],
   "outputs": [
    {
     "output_type": "stream",
     "name": "stdout",
     "text": [
      "60\n"
     ]
    }
   ],
   "metadata": {}
  },
  {
   "cell_type": "code",
   "execution_count": 21,
   "source": [
    "container=[]\r\n",
    "n=int(input(\"Please enter the number of elements to sum in the container\"))\r\n",
    "print(\"Please enter all the elements\")\r\n",
    "for i in range(0,n):\r\n",
    "    elements=int(input())\r\n",
    "    container.append(elements)\r\n",
    "    final=sum(container)\r\n",
    "print(final)"
   ],
   "outputs": [
    {
     "output_type": "stream",
     "name": "stdout",
     "text": [
      "Please enter all the elements\n",
      "12\n"
     ]
    }
   ],
   "metadata": {}
  },
  {
   "cell_type": "markdown",
   "source": [
    "Test whether all numbers of a list is greater than a certain number"
   ],
   "metadata": {}
  },
  {
   "cell_type": "code",
   "execution_count": 22,
   "source": [
    "num = [2, 3, 4, 5]\r\n",
    "print()\r\n",
    "print(all(x > 1 for x in num))\r\n",
    "print(all(x > 4 for x in num))\r\n",
    "print()"
   ],
   "outputs": [
    {
     "output_type": "stream",
     "name": "stdout",
     "text": [
      "\n",
      "True\n",
      "False\n",
      "\n"
     ]
    }
   ],
   "metadata": {}
  },
  {
   "cell_type": "code",
   "execution_count": 23,
   "source": [
    "def test(nums, n):\r\n",
    "   return(all(x > n for x in nums))      \r\n",
    "nums = [10, 20, 30, 40, 50, 60, 70, 80, 90, 100]\r\n",
    "print(\"Original list numbers:\")\r\n",
    "print(nums)\r\n",
    "n = 12\r\n",
    "print(\"\\nCheck whether all numbers of the said list greater than\",n)\r\n",
    "print(test(nums, n))\r\n",
    "n = 5\r\n",
    "print(\"\\nCheck whether all numbers of the said list greater than\",n)\r\n",
    "print(test(nums, n))"
   ],
   "outputs": [
    {
     "output_type": "stream",
     "name": "stdout",
     "text": [
      "Original list numbers:\n",
      "[10, 20, 30, 40, 50, 60, 70, 80, 90, 100]\n",
      "\n",
      "Check whether all numbers of the said list greater than 12\n",
      "False\n",
      "\n",
      "Check whether all numbers of the said list greater than 5\n",
      "True\n"
     ]
    }
   ],
   "metadata": {}
  },
  {
   "cell_type": "code",
   "execution_count": 26,
   "source": [
    "list_of_numbers = [2, 12, 9, 7, 12]\r\n",
    "z = int(input(\"enter a number:- \"))\r\n",
    "y = (sorted(list_of_numbers))\r\n",
    "x = y[-1:]\r\n",
    "for i in range(len(x)):\r\n",
    "    xx = (x[i])\r\n",
    "if xx < z:\r\n",
    "    print(\"input is grater\")\r\n",
    "else:\r\n",
    "    print(\"input is less\")"
   ],
   "outputs": [
    {
     "output_type": "stream",
     "name": "stdout",
     "text": [
      "input is grater\n"
     ]
    }
   ],
   "metadata": {}
  },
  {
   "cell_type": "code",
   "execution_count": 27,
   "source": [
    "a = [5,8,9]\r\n",
    "i = 4\r\n",
    "len([x for x in a if x > i]) == len(a)"
   ],
   "outputs": [
    {
     "output_type": "execute_result",
     "data": {
      "text/plain": [
       "True"
      ]
     },
     "metadata": {},
     "execution_count": 27
    }
   ],
   "metadata": {}
  },
  {
   "cell_type": "markdown",
   "source": [
    "Count the number of occurrence of a specific character in a string"
   ],
   "metadata": {}
  },
  {
   "cell_type": "code",
   "execution_count": 28,
   "source": [
    "s = \"The quick brown fox jumps over the lazy dog.\"  \r\n",
    "print(\"Original string:\")\r\n",
    "print(s)\r\n",
    "print(\"Number of occurrence of 'o' in the said string:\")\r\n",
    "print(s.count(\"o\"))"
   ],
   "outputs": [
    {
     "output_type": "stream",
     "name": "stdout",
     "text": [
      "Original string:\n",
      "The quick brown fox jumps over the lazy dog.\n",
      "Number of occurrence of 'o' in the said string:\n",
      "4\n"
     ]
    }
   ],
   "metadata": {}
  },
  {
   "cell_type": "code",
   "execution_count": 29,
   "source": [
    "s = \"The quick brown fox jumps over the lazy dog.\"  \r\n",
    "print(\"Original string:\")\r\n",
    "print(s)\r\n",
    "print(\"Number of occurrence of 'o' in the said string:\")\r\n",
    "ctr = 0 \r\n",
    "for c in s:\r\n",
    "   if c == 'o':\r\n",
    "       ctr = ctr + 1\r\n",
    "print(ctr)"
   ],
   "outputs": [
    {
     "output_type": "stream",
     "name": "stdout",
     "text": [
      "Original string:\n",
      "The quick brown fox jumps over the lazy dog.\n",
      "Number of occurrence of 'o' in the said string:\n",
      "4\n"
     ]
    }
   ],
   "metadata": {}
  },
  {
   "cell_type": "code",
   "execution_count": 30,
   "source": [
    "from collections import Counter\r\n",
    "s = \"The quick brown fox jumps over the lazy dog.\"  \r\n",
    "print(\"Original string:\")\r\n",
    "print(s)\r\n",
    "print(\"Number of occurrence of 'o' in the said string:\")\r\n",
    "ctr = Counter(s) \r\n",
    "print (str(ctr['o']))"
   ],
   "outputs": [
    {
     "output_type": "stream",
     "name": "stdout",
     "text": [
      "Original string:\n",
      "The quick brown fox jumps over the lazy dog.\n",
      "Number of occurrence of 'o' in the said string:\n",
      "4\n"
     ]
    }
   ],
   "metadata": {}
  },
  {
   "cell_type": "code",
   "execution_count": 31,
   "source": [
    "s = \"The quick brown fox jumps over the lazy dog.\"  \r\n",
    "print(\"Original string:\")\r\n",
    "print(s)\r\n",
    "print(\"Number of occurrence of 'o' in the said string:\")\r\n",
    "ctr = sum(map(lambda x : 1 if 'o' in x else 0, s))\r\n",
    "print(ctr)"
   ],
   "outputs": [
    {
     "output_type": "stream",
     "name": "stdout",
     "text": [
      "Original string:\n",
      "The quick brown fox jumps over the lazy dog.\n",
      "Number of occurrence of 'o' in the said string:\n",
      "4\n"
     ]
    }
   ],
   "metadata": {}
  },
  {
   "cell_type": "code",
   "execution_count": 32,
   "source": [
    "import re\r\n",
    "s = \"The quick brown fox jumps over the lazy dog.\"  \r\n",
    "print(\"Original string:\")\r\n",
    "print(s)\r\n",
    "print(\"Number of occurrence of 'o' in the said string:\")\r\n",
    "ctr = len(re.findall(\"o\", s))\r\n",
    "print(ctr)"
   ],
   "outputs": [
    {
     "output_type": "stream",
     "name": "stdout",
     "text": [
      "Original string:\n",
      "The quick brown fox jumps over the lazy dog.\n",
      "Number of occurrence of 'o' in the said string:\n",
      "4\n"
     ]
    }
   ],
   "metadata": {}
  },
  {
   "cell_type": "code",
   "execution_count": 34,
   "source": [
    "elem = (input('enter a sentance\\n'))\r\n",
    "compe = input('character that you want to count occourrence for')\r\n",
    "total = ''\r\n",
    "for i in elem:\r\n",
    "    if i == compe:\r\n",
    "        total += i\r\n",
    "print(len(total))"
   ],
   "outputs": [
    {
     "output_type": "stream",
     "name": "stdout",
     "text": [
      "4\n"
     ]
    }
   ],
   "metadata": {}
  },
  {
   "cell_type": "code",
   "execution_count": 37,
   "source": [
    "x = 0\r\n",
    "c = 0\r\n",
    "a = []\r\n",
    "def recur(x,c):\r\n",
    "    s = 'this is a test string'\r\n",
    "    s = s.replace(' ','')\r\n",
    "for i in range(len(s)):\r\n",
    "    if s[i] == s[x]:\r\n",
    "        c = c + 1\r\n",
    "    elif i == len(s)-1 and str(s[x]) + ' : ' + str(c) not in a:\r\n",
    "        a.append(str(s[x]) + ' : ' + str(c))\r\n",
    "        c = 0\r\n",
    "        x = x + 1\r\n",
    "        recur(x,c)\r\n",
    "    elif x == len(s)-1:\r\n",
    "        break\r\n",
    "recur(x,c)\r\n",
    "print(' '.join(a))"
   ],
   "outputs": [
    {
     "output_type": "stream",
     "name": "stdout",
     "text": [
      "T : 1\n"
     ]
    }
   ],
   "metadata": {}
  },
  {
   "cell_type": "code",
   "execution_count": 40,
   "source": [
    "ch = 'vineet'\r\n",
    "srch = 'e'\r\n",
    "count = 0\r\n",
    "for c in ch:\r\n",
    "    if c == srch:\r\n",
    "        count += 1\r\n",
    "print(count)"
   ],
   "outputs": [
    {
     "output_type": "stream",
     "name": "stdout",
     "text": [
      "2\n"
     ]
    }
   ],
   "metadata": {}
  },
  {
   "cell_type": "code",
   "execution_count": 41,
   "source": [
    "print(ch.count('e'))"
   ],
   "outputs": [
    {
     "output_type": "stream",
     "name": "stdout",
     "text": [
      "2\n"
     ]
    }
   ],
   "metadata": {}
  },
  {
   "cell_type": "code",
   "execution_count": 42,
   "source": [
    "str = input(\"Enter a string or sentence: \")\r\n",
    "char = input(\"Enter the character to count: \")\r\n",
    "if str.count(char)==0:\r\n",
    "    print(\"This character is not present in the input string.\")\r\n",
    "else:\r\n",
    "    print(\"The character occurred %i times in the input string\"%str.count(char))"
   ],
   "outputs": [
    {
     "output_type": "stream",
     "name": "stdout",
     "text": [
      "This character is not present in the input string.\n"
     ]
    }
   ],
   "metadata": {}
  },
  {
   "cell_type": "code",
   "execution_count": 43,
   "source": [
    "some_text = \"The quick briown fox jumps ovier the lazy dog.\"\r\n",
    "simbol = \"i\"\r\n",
    "\r\n",
    "result = []\r\n",
    "\r\n",
    "for x in some_text:\r\n",
    "    if x == simbol:\r\n",
    "        result.append(True)\r\n",
    "\r\n",
    "print(len(result))"
   ],
   "outputs": [
    {
     "output_type": "stream",
     "name": "stdout",
     "text": [
      "3\n"
     ]
    }
   ],
   "metadata": {}
  },
  {
   "cell_type": "code",
   "execution_count": 45,
   "source": [
    "a = str(input(\"Enter the string: \"))\r\n",
    "b=str(input(\"Enter a character to count: \"))\r\n",
    "print(a.count(b))"
   ],
   "outputs": [
    {
     "output_type": "error",
     "ename": "TypeError",
     "evalue": "'str' object is not callable",
     "traceback": [
      "\u001b[1;31m---------------------------------------------------------------------------\u001b[0m",
      "\u001b[1;31mTypeError\u001b[0m                                 Traceback (most recent call last)",
      "\u001b[1;32m~\\AppData\\Local\\Temp/ipykernel_3380/810677993.py\u001b[0m in \u001b[0;36m<module>\u001b[1;34m\u001b[0m\n\u001b[1;32m----> 1\u001b[1;33m \u001b[0ma\u001b[0m \u001b[1;33m=\u001b[0m \u001b[0mstr\u001b[0m\u001b[1;33m(\u001b[0m\u001b[0minput\u001b[0m\u001b[1;33m(\u001b[0m\u001b[1;34m\"Enter the string: \"\u001b[0m\u001b[1;33m)\u001b[0m\u001b[1;33m)\u001b[0m\u001b[1;33m\u001b[0m\u001b[1;33m\u001b[0m\u001b[0m\n\u001b[0m\u001b[0;32m      2\u001b[0m \u001b[0mb\u001b[0m\u001b[1;33m=\u001b[0m\u001b[0mstr\u001b[0m\u001b[1;33m(\u001b[0m\u001b[0minput\u001b[0m\u001b[1;33m(\u001b[0m\u001b[1;34m\"Enter a character to count: \"\u001b[0m\u001b[1;33m)\u001b[0m\u001b[1;33m)\u001b[0m\u001b[1;33m\u001b[0m\u001b[1;33m\u001b[0m\u001b[0m\n\u001b[0;32m      3\u001b[0m \u001b[0mprint\u001b[0m\u001b[1;33m(\u001b[0m\u001b[0ma\u001b[0m\u001b[1;33m.\u001b[0m\u001b[0mcount\u001b[0m\u001b[1;33m(\u001b[0m\u001b[0mb\u001b[0m\u001b[1;33m)\u001b[0m\u001b[1;33m)\u001b[0m\u001b[1;33m\u001b[0m\u001b[1;33m\u001b[0m\u001b[0m\n",
      "\u001b[1;31mTypeError\u001b[0m: 'str' object is not callable"
     ]
    }
   ],
   "metadata": {}
  },
  {
   "cell_type": "code",
   "execution_count": 46,
   "source": [
    "print(input('test string: ').count(input('character to test: ')))"
   ],
   "outputs": [
    {
     "output_type": "stream",
     "name": "stdout",
     "text": [
      "2\n"
     ]
    }
   ],
   "metadata": {}
  },
  {
   "cell_type": "code",
   "execution_count": 47,
   "source": [
    "s = 'How many roads must a man walk down\\nBefore you call him a man?'\r\n",
    "print(s + '\\nThe answer my friend is: {}'.format(s.count('man')))"
   ],
   "outputs": [
    {
     "output_type": "stream",
     "name": "stdout",
     "text": [
      "How many roads must a man walk down\n",
      "Before you call him a man?\n",
      "The answer my friend is: 3\n"
     ]
    }
   ],
   "metadata": {}
  },
  {
   "cell_type": "markdown",
   "source": [
    "Write a Python program to check whether a string is numeric."
   ],
   "metadata": {}
  },
  {
   "cell_type": "code",
   "execution_count": 48,
   "source": [
    "str = 'a123'\r\n",
    "#str = '123'\r\n",
    "try:\r\n",
    "    i = float(str)\r\n",
    "except (ValueError, TypeError):\r\n",
    "    print('\\nNot numeric')\r\n",
    "print()"
   ],
   "outputs": [
    {
     "output_type": "stream",
     "name": "stdout",
     "text": [
      "\n",
      "Not numeric\n",
      "\n"
     ]
    }
   ],
   "metadata": {}
  },
  {
   "cell_type": "code",
   "execution_count": 50,
   "source": [
    "# Doesn't work for floats\r\n",
    "text = input(\"Input a word or numbers: \")\r\n",
    "if text.isdigit():\r\n",
    "   print(\"The input value is numbers.\")\r\n",
    "else:\r\n",
    "   print(\"The input value is string.\")"
   ],
   "outputs": [
    {
     "output_type": "stream",
     "name": "stdout",
     "text": [
      "The input value is numbers.\n"
     ]
    }
   ],
   "metadata": {}
  },
  {
   "cell_type": "code",
   "execution_count": 52,
   "source": [
    "str = input(\"enter a text: \")\r\n",
    "try:\r\n",
    "    i = float(str)\r\n",
    "    print(f\"{str} is numeric\")\r\n",
    "except(ValueError, TypeError):\r\n",
    "    print(f\"{str} is not numeric\")"
   ],
   "outputs": [
    {
     "output_type": "stream",
     "name": "stdout",
     "text": [
      "dfghdfgd is not numeric\n"
     ]
    }
   ],
   "metadata": {}
  },
  {
   "cell_type": "code",
   "execution_count": 53,
   "source": [
    "string = '123'\r\n",
    "print(string.isdecimal())"
   ],
   "outputs": [
    {
     "output_type": "stream",
     "name": "stdout",
     "text": [
      "True\n"
     ]
    }
   ],
   "metadata": {}
  },
  {
   "cell_type": "code",
   "execution_count": 54,
   "source": [
    "def isNumeric(s):\r\n",
    "    return s.isnumeric()\r\n",
    "\r\n",
    "print(isNumeric(\"1234124\"))"
   ],
   "outputs": [
    {
     "output_type": "stream",
     "name": "stdout",
     "text": [
      "True\n"
     ]
    }
   ],
   "metadata": {}
  },
  {
   "cell_type": "markdown",
   "source": [
    "List the special variables used within the language"
   ],
   "metadata": {}
  },
  {
   "cell_type": "code",
   "execution_count": 55,
   "source": [
    "s_var_names = sorted((set(globals().keys()) | set(__builtins__.__dict__.keys())) - set('_ names i'.split()))\r\n",
    "print()\r\n",
    "print( '\\n'.join(' '.join(s_var_names[i:i+8]) for i in range(0, len(s_var_names), 8)) )\r\n",
    "print()"
   ],
   "outputs": [
    {
     "output_type": "stream",
     "name": "stdout",
     "text": [
      "\n",
      "ArithmeticError AssertionError AttributeError BaseException BlockingIOError BrokenPipeError BufferError BytesWarning\n",
      "ChildProcessError ConnectionAbortedError ConnectionError ConnectionRefusedError ConnectionResetError Counter DeprecationWarning EOFError\n",
      "Ellipsis EnvironmentError Exception False FileExistsError FileNotFoundError FloatingPointError FutureWarning\n",
      "GeneratorExit IOError ImportError ImportWarning In IndentationError IndexError InterruptedError\n",
      "IsADirectoryError KeyError KeyboardInterrupt LookupError MemoryError ModuleNotFoundError NameError None\n",
      "NotADirectoryError NotImplemented NotImplementedError OSError Out OverflowError PendingDeprecationWarning PermissionError\n",
      "ProcessLookupError RecursionError ReferenceError ResourceWarning RuntimeError RuntimeWarning StopAsyncIteration StopIteration\n",
      "SyntaxError SyntaxWarning SystemError SystemExit TabError TimeoutError True TypeError\n",
      "UnboundLocalError UnicodeDecodeError UnicodeEncodeError UnicodeError UnicodeTranslateError UnicodeWarning UserWarning ValueError\n",
      "Warning WindowsError ZeroDivisionError _27 __ __IPYTHON__ ___ __build_class__\n",
      "__builtin__ __builtins__ __debug__ __doc__ __import__ __loader__ __name__ __package__\n",
      "__spec__ _dh _i _i1 _i10 _i11 _i12 _i13\n",
      "_i14 _i15 _i16 _i17 _i18 _i19 _i2 _i20\n",
      "_i21 _i22 _i23 _i24 _i25 _i26 _i27 _i28\n",
      "_i29 _i3 _i30 _i31 _i32 _i33 _i34 _i35\n",
      "_i36 _i37 _i38 _i39 _i4 _i40 _i41 _i42\n",
      "_i43 _i44 _i45 _i46 _i47 _i48 _i49 _i5\n",
      "_i50 _i51 _i52 _i53 _i54 _i55 _i6 _i7\n",
      "_i8 _i9 _ih _ii _iii _oh a abs\n",
      "all any ascii bin bool breakpoint bytearray bytes\n",
      "c callable ch char chr classmethod coded colors\n",
      "compe compile complex container copyright count credits ctr\n",
      "delattr dict dict_sum dir display divmod elem elements\n",
      "enumerate eval exec execfile exit filter final float\n",
      "format frozenset get_ipython getattr globals hasattr hash hashlib\n",
      "help hex id input int isNumeric isinstance issubclass\n",
      "iter len license list list_of_colors list_of_numbers locals map\n",
      "max memoryview min module_name n next num nums\n",
      "object oct open ord os pow print property\n",
      "quit range re recur repr result reversed round\n",
      "runfile s set setattr simbol slice some_text sorted\n",
      "soundex srch staticmethod str string sum sum_tuple super\n",
      "sys test text textwrap total tuple type vars\n",
      "word x xx y z zip\n",
      "\n"
     ]
    }
   ],
   "metadata": {}
  },
  {
   "cell_type": "code",
   "execution_count": 56,
   "source": [
    "print(dir(__builtins__))"
   ],
   "outputs": [
    {
     "output_type": "stream",
     "name": "stdout",
     "text": [
      "['ArithmeticError', 'AssertionError', 'AttributeError', 'BaseException', 'BlockingIOError', 'BrokenPipeError', 'BufferError', 'BytesWarning', 'ChildProcessError', 'ConnectionAbortedError', 'ConnectionError', 'ConnectionRefusedError', 'ConnectionResetError', 'DeprecationWarning', 'EOFError', 'Ellipsis', 'EnvironmentError', 'Exception', 'False', 'FileExistsError', 'FileNotFoundError', 'FloatingPointError', 'FutureWarning', 'GeneratorExit', 'IOError', 'ImportError', 'ImportWarning', 'IndentationError', 'IndexError', 'InterruptedError', 'IsADirectoryError', 'KeyError', 'KeyboardInterrupt', 'LookupError', 'MemoryError', 'ModuleNotFoundError', 'NameError', 'None', 'NotADirectoryError', 'NotImplemented', 'NotImplementedError', 'OSError', 'OverflowError', 'PendingDeprecationWarning', 'PermissionError', 'ProcessLookupError', 'RecursionError', 'ReferenceError', 'ResourceWarning', 'RuntimeError', 'RuntimeWarning', 'StopAsyncIteration', 'StopIteration', 'SyntaxError', 'SyntaxWarning', 'SystemError', 'SystemExit', 'TabError', 'TimeoutError', 'True', 'TypeError', 'UnboundLocalError', 'UnicodeDecodeError', 'UnicodeEncodeError', 'UnicodeError', 'UnicodeTranslateError', 'UnicodeWarning', 'UserWarning', 'ValueError', 'Warning', 'WindowsError', 'ZeroDivisionError', '__IPYTHON__', '__build_class__', '__debug__', '__doc__', '__import__', '__loader__', '__name__', '__package__', '__spec__', 'abs', 'all', 'any', 'ascii', 'bin', 'bool', 'breakpoint', 'bytearray', 'bytes', 'callable', 'chr', 'classmethod', 'compile', 'complex', 'copyright', 'credits', 'delattr', 'dict', 'dir', 'display', 'divmod', 'enumerate', 'eval', 'exec', 'execfile', 'filter', 'float', 'format', 'frozenset', 'get_ipython', 'getattr', 'globals', 'hasattr', 'hash', 'help', 'hex', 'id', 'input', 'int', 'isinstance', 'issubclass', 'iter', 'len', 'license', 'list', 'locals', 'map', 'max', 'memoryview', 'min', 'next', 'object', 'oct', 'open', 'ord', 'pow', 'print', 'property', 'range', 'repr', 'reversed', 'round', 'runfile', 'set', 'setattr', 'slice', 'sorted', 'staticmethod', 'str', 'sum', 'super', 'tuple', 'type', 'vars', 'zip']\n"
     ]
    }
   ],
   "metadata": {}
  },
  {
   "cell_type": "markdown",
   "source": [
    "Check if a number is positive, negative or zero"
   ],
   "metadata": {}
  },
  {
   "cell_type": "code",
   "execution_count": 57,
   "source": [
    "num = float(input(\"Input a number: \"))\r\n",
    "if num > 0:\r\n",
    "   print(\"It is positive number\")\r\n",
    "elif num == 0:\r\n",
    "   print(\"It is Zero\")\r\n",
    "else:\r\n",
    "   print(\"It is a negative number\")"
   ],
   "outputs": [
    {
     "output_type": "stream",
     "name": "stdout",
     "text": [
      "It is positive number\n"
     ]
    }
   ],
   "metadata": {}
  },
  {
   "cell_type": "code",
   "execution_count": 58,
   "source": [
    "n = float(input('Input a number: '))\r\n",
    "print('Number is Positive.' if n > 0 else 'It is Zero!' if n == 0 else 'Number is Negative.')"
   ],
   "outputs": [
    {
     "output_type": "stream",
     "name": "stdout",
     "text": [
      "Number is Negative.\n"
     ]
    }
   ],
   "metadata": {}
  },
  {
   "cell_type": "code",
   "execution_count": 59,
   "source": [
    "n = float(input(\"Input a number: \"))\r\n",
    "if n >= 0:\r\n",
    "  if n == 0:\r\n",
    "      print(\"It is Zero!\")\r\n",
    "  else:\r\n",
    "      print(\"Number is Positive number.\")\r\n",
    "else:\r\n",
    "  print(\"Number is Negative number.\")"
   ],
   "outputs": [
    {
     "output_type": "stream",
     "name": "stdout",
     "text": [
      "Number is Positive number.\n"
     ]
    }
   ],
   "metadata": {}
  },
  {
   "cell_type": "code",
   "execution_count": 60,
   "source": [
    "a = int(input(\"enter a number:- \"))\r\n",
    "if a > 0:\r\n",
    "    print('its a +ve nunmber')\r\n",
    "elif a == 0:\r\n",
    "    print('its a 0')\r\n",
    "else:\r\n",
    "    print('its a -ve number')"
   ],
   "outputs": [
    {
     "output_type": "stream",
     "name": "stdout",
     "text": [
      "its a +ve nunmber\n"
     ]
    }
   ],
   "metadata": {}
  },
  {
   "cell_type": "code",
   "execution_count": 61,
   "source": [
    "num = float(input('Enter a number: '))\r\n",
    "print('Positive' if num > 0 else 'Zero' if num == 0 else 'Negative')"
   ],
   "outputs": [
    {
     "output_type": "stream",
     "name": "stdout",
     "text": [
      "Positive\n"
     ]
    }
   ],
   "metadata": {}
  },
  {
   "cell_type": "markdown",
   "source": [
    "Write a Python program to get numbers divisible by fifteen from a list using an anonymous function."
   ],
   "metadata": {}
  },
  {
   "cell_type": "code",
   "execution_count": 62,
   "source": [
    "num_list = [45, 55, 60, 37, 100, 105, 220]\r\n",
    "# use anonymous function to filter\r\n",
    "result = list(filter(lambda x: (x % 15 == 0), num_list))\r\n",
    "print(\"Numbers divisible by 15 are\",result)"
   ],
   "outputs": [
    {
     "output_type": "stream",
     "name": "stdout",
     "text": [
      "Numbers divisible by 15 are [45, 60, 105]\n"
     ]
    }
   ],
   "metadata": {}
  },
  {
   "cell_type": "code",
   "execution_count": 63,
   "source": [
    "num_list = [45, 55, 60, 37, 100, 105, 220]\r\n",
    "print(\"Original list:\",num_list)\r\n",
    "# use anonymous function to filter\r\n",
    "result = list(filter(lambda x: (x % 15 == 0), num_list))\r\n",
    "print(\"Numbers of the said list divisible by 15 are:\",result)"
   ],
   "outputs": [
    {
     "output_type": "stream",
     "name": "stdout",
     "text": [
      "Original list: [45, 55, 60, 37, 100, 105, 220]\n",
      "Numbers of the said list divisible by 15 are: [45, 60, 105]\n"
     ]
    }
   ],
   "metadata": {}
  },
  {
   "cell_type": "code",
   "execution_count": 67,
   "source": [
    "num_list = [45, 55, 60, 37, 100, 105, 220]\r\n",
    "print(\"Original list:\",num_list)\r\n",
    "print(\"\\nNumbers of the said list divisible by 15 are:\")\r\n",
    "print(str(''.join(filter(lambda x: x, str(list([i for i in num_list if i % 15 == 0]))))))"
   ],
   "outputs": [
    {
     "output_type": "stream",
     "name": "stdout",
     "text": [
      "Original list: [45, 55, 60, 37, 100, 105, 220]\n",
      "\n",
      "Numbers of the said list divisible by 15 are:\n"
     ]
    },
    {
     "output_type": "error",
     "ename": "TypeError",
     "evalue": "sequence item 0: expected str instance, int found",
     "traceback": [
      "\u001b[1;31m---------------------------------------------------------------------------\u001b[0m",
      "\u001b[1;31mTypeError\u001b[0m                                 Traceback (most recent call last)",
      "\u001b[1;32m~\\AppData\\Local\\Temp/ipykernel_3380/1441513594.py\u001b[0m in \u001b[0;36m<module>\u001b[1;34m\u001b[0m\n\u001b[0;32m      2\u001b[0m \u001b[0mprint\u001b[0m\u001b[1;33m(\u001b[0m\u001b[1;34m\"Original list:\"\u001b[0m\u001b[1;33m,\u001b[0m\u001b[0mnum_list\u001b[0m\u001b[1;33m)\u001b[0m\u001b[1;33m\u001b[0m\u001b[1;33m\u001b[0m\u001b[0m\n\u001b[0;32m      3\u001b[0m \u001b[0mprint\u001b[0m\u001b[1;33m(\u001b[0m\u001b[1;34m\"\\nNumbers of the said list divisible by 15 are:\"\u001b[0m\u001b[1;33m)\u001b[0m\u001b[1;33m\u001b[0m\u001b[1;33m\u001b[0m\u001b[0m\n\u001b[1;32m----> 4\u001b[1;33m \u001b[0mprint\u001b[0m\u001b[1;33m(\u001b[0m\u001b[1;34m''\u001b[0m\u001b[1;33m.\u001b[0m\u001b[0mjoin\u001b[0m\u001b[1;33m(\u001b[0m\u001b[0mfilter\u001b[0m\u001b[1;33m(\u001b[0m\u001b[1;32mlambda\u001b[0m \u001b[0mx\u001b[0m\u001b[1;33m:\u001b[0m \u001b[0mx\u001b[0m\u001b[1;33m,\u001b[0m \u001b[0mlist\u001b[0m\u001b[1;33m(\u001b[0m\u001b[1;33m[\u001b[0m\u001b[0mi\u001b[0m \u001b[1;32mfor\u001b[0m \u001b[0mi\u001b[0m \u001b[1;32min\u001b[0m \u001b[0mnum_list\u001b[0m \u001b[1;32mif\u001b[0m \u001b[0mi\u001b[0m \u001b[1;33m%\u001b[0m \u001b[1;36m15\u001b[0m \u001b[1;33m==\u001b[0m \u001b[1;36m0\u001b[0m\u001b[1;33m]\u001b[0m\u001b[1;33m)\u001b[0m\u001b[1;33m)\u001b[0m\u001b[1;33m)\u001b[0m\u001b[1;33m)\u001b[0m\u001b[1;33m\u001b[0m\u001b[1;33m\u001b[0m\u001b[0m\n\u001b[0m",
      "\u001b[1;31mTypeError\u001b[0m: sequence item 0: expected str instance, int found"
     ]
    }
   ],
   "metadata": {}
  },
  {
   "cell_type": "code",
   "execution_count": 68,
   "source": [
    "num_list = [45, 55, 60, 37, 100, 105, 220]\r\n",
    "num_list2 = []\r\n",
    "for i in num_list:\r\n",
    "    if i%15 == 0:\r\n",
    "        num_list2.append(i)\r\n",
    "print(num_list2)"
   ],
   "outputs": [
    {
     "output_type": "stream",
     "name": "stdout",
     "text": [
      "[45, 60, 105]\n"
     ]
    }
   ],
   "metadata": {}
  },
  {
   "cell_type": "code",
   "execution_count": 69,
   "source": [
    "list = []\r\n",
    "num_list = [45, 55, 60, 37, 100, 105, 220]\r\n",
    "for i in num_list:\r\n",
    "    if i % 15 == 0:\r\n",
    "        list.append(i)\r\n",
    "\r\n",
    "print(list, sep=\"\")"
   ],
   "outputs": [
    {
     "output_type": "stream",
     "name": "stdout",
     "text": [
      "[45, 60, 105]\n"
     ]
    }
   ],
   "metadata": {}
  },
  {
   "cell_type": "code",
   "execution_count": 70,
   "source": [
    "print(str(''.join(filter(lambda x: x, str(list([i for i in range(15, 100) if i % 15 == 0]))))))"
   ],
   "outputs": [
    {
     "output_type": "error",
     "ename": "TypeError",
     "evalue": "'list' object is not callable",
     "traceback": [
      "\u001b[1;31m---------------------------------------------------------------------------\u001b[0m",
      "\u001b[1;31mTypeError\u001b[0m                                 Traceback (most recent call last)",
      "\u001b[1;32m~\\AppData\\Local\\Temp/ipykernel_3380/3451907513.py\u001b[0m in \u001b[0;36m<module>\u001b[1;34m\u001b[0m\n\u001b[1;32m----> 1\u001b[1;33m \u001b[0mprint\u001b[0m\u001b[1;33m(\u001b[0m\u001b[0mstr\u001b[0m\u001b[1;33m(\u001b[0m\u001b[1;34m''\u001b[0m\u001b[1;33m.\u001b[0m\u001b[0mjoin\u001b[0m\u001b[1;33m(\u001b[0m\u001b[0mfilter\u001b[0m\u001b[1;33m(\u001b[0m\u001b[1;32mlambda\u001b[0m \u001b[0mx\u001b[0m\u001b[1;33m:\u001b[0m \u001b[0mx\u001b[0m\u001b[1;33m,\u001b[0m \u001b[0mstr\u001b[0m\u001b[1;33m(\u001b[0m\u001b[0mlist\u001b[0m\u001b[1;33m(\u001b[0m\u001b[1;33m[\u001b[0m\u001b[0mi\u001b[0m \u001b[1;32mfor\u001b[0m \u001b[0mi\u001b[0m \u001b[1;32min\u001b[0m \u001b[0mrange\u001b[0m\u001b[1;33m(\u001b[0m\u001b[1;36m15\u001b[0m\u001b[1;33m,\u001b[0m \u001b[1;36m100\u001b[0m\u001b[1;33m)\u001b[0m \u001b[1;32mif\u001b[0m \u001b[0mi\u001b[0m \u001b[1;33m%\u001b[0m \u001b[1;36m15\u001b[0m \u001b[1;33m==\u001b[0m \u001b[1;36m0\u001b[0m\u001b[1;33m]\u001b[0m\u001b[1;33m)\u001b[0m\u001b[1;33m)\u001b[0m\u001b[1;33m)\u001b[0m\u001b[1;33m)\u001b[0m\u001b[1;33m)\u001b[0m\u001b[1;33m)\u001b[0m\u001b[1;33m\u001b[0m\u001b[1;33m\u001b[0m\u001b[0m\n\u001b[0m",
      "\u001b[1;31mTypeError\u001b[0m: 'list' object is not callable"
     ]
    }
   ],
   "metadata": {}
  },
  {
   "cell_type": "code",
   "execution_count": 71,
   "source": [
    "res = []\r\n",
    "first = int(input('enter the first number'))\r\n",
    "last = int(input('enter last number'))\r\n",
    "div = int(input('which divisor you want to use?'))\r\n",
    "for x in range(first, last):\r\n",
    "    if x%div==0:\r\n",
    "        res.append(x)\r\n",
    "print('numbers in the range from ', first, 'to', last, 'divisible by', div, 'are', res)"
   ],
   "outputs": [
    {
     "output_type": "stream",
     "name": "stdout",
     "text": [
      "numbers in the range from  242 to 564 divisible by 67 are [268, 335, 402, 469, 536]\n"
     ]
    }
   ],
   "metadata": {}
  },
  {
   "cell_type": "code",
   "execution_count": 73,
   "source": [
    "a_list=range(0,100)\r\n",
    "s_no=15\r\n",
    "for i in a_list:\r\n",
    "    if i%s_no==0:\r\n",
    "        print(i)"
   ],
   "outputs": [
    {
     "output_type": "stream",
     "name": "stdout",
     "text": [
      "0\n",
      "15\n",
      "30\n",
      "45\n",
      "60\n",
      "75\n",
      "90\n"
     ]
    }
   ],
   "metadata": {}
  },
  {
   "cell_type": "code",
   "execution_count": 74,
   "source": [
    "num_list = [0, 1, 2, 15, 30, 31, 150]\r\n",
    "print(\"Numbers divisible by 15 are \", [x for x in num_list if x % 15 == 0])"
   ],
   "outputs": [
    {
     "output_type": "stream",
     "name": "stdout",
     "text": [
      "Numbers divisible by 15 are  [0, 15, 30, 150]\n"
     ]
    }
   ],
   "metadata": {}
  },
  {
   "cell_type": "code",
   "execution_count": 75,
   "source": [
    "l = [10, 5, 3, 4, 30, 7, 11, 523, 35]\r\n",
    "print([n for n in l if n%5==0])"
   ],
   "outputs": [
    {
     "output_type": "stream",
     "name": "stdout",
     "text": [
      "[10, 5, 30, 35]\n"
     ]
    }
   ],
   "metadata": {}
  },
  {
   "cell_type": "markdown",
   "source": [
    "Remove the first item from a specified list"
   ],
   "metadata": {}
  },
  {
   "cell_type": "code",
   "execution_count": 76,
   "source": [
    "color = [\"Red\", \"Black\", \"Green\", \"White\", \"Orange\"]\r\n",
    "print(\"Original list elements:\")\r\n",
    "print(color)\r\n",
    "del color[0]\r\n",
    "print(\"After removing the first color:\")\r\n",
    "print(color)"
   ],
   "outputs": [
    {
     "output_type": "stream",
     "name": "stdout",
     "text": [
      "Original list elements:\n",
      "['Red', 'Black', 'Green', 'White', 'Orange']\n",
      "After removing the first color:\n",
      "['Black', 'Green', 'White', 'Orange']\n"
     ]
    }
   ],
   "metadata": {}
  },
  {
   "cell_type": "code",
   "execution_count": 77,
   "source": [
    "color = [\"Red\", \"Black\", \"Green\", \"White\", \"Orange\"]\r\n",
    "print(\"Original list elements:\")\r\n",
    "print(color)\r\n",
    "print(\"\\nAfter removing the first element from the said list:\")\r\n",
    "new_color = color[1:]\r\n",
    "print(new_color)"
   ],
   "outputs": [
    {
     "output_type": "stream",
     "name": "stdout",
     "text": [
      "Original list elements:\n",
      "['Red', 'Black', 'Green', 'White', 'Orange']\n",
      "\n",
      "After removing the first element from the said list:\n",
      "['Black', 'Green', 'White', 'Orange']\n"
     ]
    }
   ],
   "metadata": {}
  },
  {
   "cell_type": "code",
   "execution_count": 78,
   "source": [
    "color = [\"Red\", \"Black\", \"Green\", \"White\", \"Orange\"]\r\n",
    "print(\"Original list elements:\")\r\n",
    "print(color)\r\n",
    "print(\"\\nAfter removing the first element from the said list:\")\r\n",
    "color.remove(\"Red\")\r\n",
    "print(color)"
   ],
   "outputs": [
    {
     "output_type": "stream",
     "name": "stdout",
     "text": [
      "Original list elements:\n",
      "['Red', 'Black', 'Green', 'White', 'Orange']\n",
      "\n",
      "After removing the first element from the said list:\n",
      "['Black', 'Green', 'White', 'Orange']\n"
     ]
    }
   ],
   "metadata": {}
  },
  {
   "cell_type": "code",
   "execution_count": 79,
   "source": [
    "def tail(lst):\r\n",
    "  return lst[1:] if len(lst) > 1 else lst\r\n",
    "print(tail([1, 2, 3, 4]))\r\n",
    "print(tail([1]))\r\n",
    "print(tail([\"Red\", \"Black\", \"Green\", \"White\", \"Orange\"]))"
   ],
   "outputs": [
    {
     "output_type": "stream",
     "name": "stdout",
     "text": [
      "[2, 3, 4]\n",
      "[1]\n",
      "['Black', 'Green', 'White', 'Orange']\n"
     ]
    }
   ],
   "metadata": {}
  },
  {
   "cell_type": "code",
   "execution_count": 80,
   "source": [
    "color = [\"Red\", \"Black\", \"Green\", \"White\", \"Orange\"]\r\n",
    "print(color[1:])"
   ],
   "outputs": [
    {
     "output_type": "stream",
     "name": "stdout",
     "text": [
      "['Black', 'Green', 'White', 'Orange']\n"
     ]
    }
   ],
   "metadata": {}
  },
  {
   "cell_type": "code",
   "execution_count": 81,
   "source": [
    "color = [\"Red\", \"Black\", \"Green\", \"White\", \"Orange\"]\r\n",
    "\r\n",
    "color.__delitem__(0)\r\n",
    "print(color)"
   ],
   "outputs": [
    {
     "output_type": "stream",
     "name": "stdout",
     "text": [
      "['Black', 'Green', 'White', 'Orange']\n"
     ]
    }
   ],
   "metadata": {}
  },
  {
   "cell_type": "code",
   "execution_count": 82,
   "source": [
    "basket = ['fruits', 'vegetables', 'spices', 'groceries', 'meat']\r\n",
    "basket.pop(0) # delete fruits\r\n",
    "del basket[0] # delete vegetable\r\n",
    "print(basket)"
   ],
   "outputs": [
    {
     "output_type": "stream",
     "name": "stdout",
     "text": [
      "['spices', 'groceries', 'meat']\n"
     ]
    }
   ],
   "metadata": {}
  },
  {
   "cell_type": "code",
   "execution_count": 83,
   "source": [
    "# useless code is useless\r\n",
    "color = [\"Red\", \"Black\", \"Green\", \"White\", \"Orange\"]\r\n",
    "color.insert(0, color.pop(0))\r\n",
    "print(color)"
   ],
   "outputs": [
    {
     "output_type": "stream",
     "name": "stdout",
     "text": [
      "['Red', 'Black', 'Green', 'White', 'Orange']\n"
     ]
    }
   ],
   "metadata": {}
  },
  {
   "cell_type": "code",
   "execution_count": 89,
   "source": [
    "color = [\"Red\", \"Black\", \"Green\", \"White\", \"Orange\"]\r\n",
    "color.remove(color[0])\r\n",
    "print(color)\r\n"
   ],
   "outputs": [
    {
     "output_type": "stream",
     "name": "stdout",
     "text": [
      "['Black', 'Green', 'White', 'Orange']\n"
     ]
    }
   ],
   "metadata": {}
  },
  {
   "cell_type": "code",
   "execution_count": 88,
   "source": [
    "color = [\"Red\", \"Black\", \"Green\", \"White\", \"Orange\"]\r\n",
    "print(color[1:])"
   ],
   "outputs": [
    {
     "output_type": "stream",
     "name": "stdout",
     "text": [
      "['Black', 'Green', 'White', 'Orange']\n"
     ]
    }
   ],
   "metadata": {}
  },
  {
   "cell_type": "markdown",
   "source": [
    "Input a number, if it is not a number generates an error message"
   ],
   "metadata": {}
  },
  {
   "cell_type": "code",
   "execution_count": 94,
   "source": [
    "while True:\r\n",
    "    try:\r\n",
    "        a = int(input(\"Input a number: \"))\r\n",
    "        break\r\n",
    "    except ValueError:\r\n",
    "        print(\"\\nThis is not a number. Try again...\")\r\n",
    "print(a)"
   ],
   "outputs": [
    {
     "output_type": "stream",
     "name": "stdout",
     "text": [
      "756\n"
     ]
    }
   ],
   "metadata": {}
  },
  {
   "cell_type": "code",
   "execution_count": 95,
   "source": [
    "x = 1.23\r\n",
    "x_int = x.is_integer()\r\n",
    "print(\"Check if x is an integer!\")\r\n",
    "print(x_int)\r\n",
    "y= 1.0\r\n",
    "y_int = y.is_integer()\r\n",
    "print(\"Check if y is an integer!\")\r\n",
    "print(y_int)  "
   ],
   "outputs": [
    {
     "output_type": "stream",
     "name": "stdout",
     "text": [
      "Check if x is an integer!\n",
      "False\n",
      "Check if y is an integer!\n",
      "True\n"
     ]
    }
   ],
   "metadata": {}
  },
  {
   "cell_type": "code",
   "execution_count": 96,
   "source": [
    "x = 1.0\r\n",
    "x_int = isinstance(x, int)\r\n",
    "print(\"Check if x is an integer!\")\r\n",
    "print(x_int)\r\n",
    "y = 1\r\n",
    "y_int = isinstance(y, int)\r\n",
    "print(\"Check if y is an integer!\")\r\n",
    "print(y_int)"
   ],
   "outputs": [
    {
     "output_type": "stream",
     "name": "stdout",
     "text": [
      "Check if x is an integer!\n",
      "False\n",
      "Check if y is an integer!\n",
      "True\n"
     ]
    }
   ],
   "metadata": {}
  },
  {
   "cell_type": "code",
   "execution_count": 99,
   "source": [
    "import sys\r\n",
    "while True:\r\n",
    "    n = input(\"enter a number: \")\r\n",
    "try:\r\n",
    "    n = int(n)\r\n",
    "    break\r\n",
    "except(ValueError):\r\n",
    "    print(\"thats not a number, try again\", file = sys.stderr)"
   ],
   "outputs": [
    {
     "output_type": "error",
     "ename": "KeyboardInterrupt",
     "evalue": "Interrupted by user",
     "traceback": [
      "\u001b[1;31m---------------------------------------------------------------------------\u001b[0m",
      "\u001b[1;31mKeyboardInterrupt\u001b[0m                         Traceback (most recent call last)",
      "\u001b[1;32m~\\AppData\\Local\\Temp/ipykernel_3380/1018840340.py\u001b[0m in \u001b[0;36m<module>\u001b[1;34m\u001b[0m\n\u001b[0;32m      1\u001b[0m \u001b[1;32mimport\u001b[0m \u001b[0msys\u001b[0m\u001b[1;33m\u001b[0m\u001b[1;33m\u001b[0m\u001b[0m\n\u001b[0;32m      2\u001b[0m \u001b[1;32mwhile\u001b[0m \u001b[1;32mTrue\u001b[0m\u001b[1;33m:\u001b[0m\u001b[1;33m\u001b[0m\u001b[1;33m\u001b[0m\u001b[0m\n\u001b[1;32m----> 3\u001b[1;33m     \u001b[0mn\u001b[0m \u001b[1;33m=\u001b[0m \u001b[0minput\u001b[0m\u001b[1;33m(\u001b[0m\u001b[1;34m\"enter a number: \"\u001b[0m\u001b[1;33m)\u001b[0m\u001b[1;33m\u001b[0m\u001b[1;33m\u001b[0m\u001b[0m\n\u001b[0m\u001b[0;32m      4\u001b[0m \u001b[1;32mtry\u001b[0m\u001b[1;33m:\u001b[0m\u001b[1;33m\u001b[0m\u001b[1;33m\u001b[0m\u001b[0m\n\u001b[0;32m      5\u001b[0m     \u001b[0mn\u001b[0m \u001b[1;33m=\u001b[0m \u001b[0mint\u001b[0m\u001b[1;33m(\u001b[0m\u001b[0mn\u001b[0m\u001b[1;33m)\u001b[0m\u001b[1;33m\u001b[0m\u001b[1;33m\u001b[0m\u001b[0m\n",
      "\u001b[1;32m~\\anaconda3\\envs\\my-env\\lib\\site-packages\\ipykernel\\kernelbase.py\u001b[0m in \u001b[0;36mraw_input\u001b[1;34m(self, prompt)\u001b[0m\n\u001b[0;32m   1004\u001b[0m                 \u001b[1;34m\"raw_input was called, but this frontend does not support input requests.\"\u001b[0m\u001b[1;33m\u001b[0m\u001b[1;33m\u001b[0m\u001b[0m\n\u001b[0;32m   1005\u001b[0m             )\n\u001b[1;32m-> 1006\u001b[1;33m         return self._input_request(\n\u001b[0m\u001b[0;32m   1007\u001b[0m             \u001b[0mstr\u001b[0m\u001b[1;33m(\u001b[0m\u001b[0mprompt\u001b[0m\u001b[1;33m)\u001b[0m\u001b[1;33m,\u001b[0m\u001b[1;33m\u001b[0m\u001b[1;33m\u001b[0m\u001b[0m\n\u001b[0;32m   1008\u001b[0m             \u001b[0mself\u001b[0m\u001b[1;33m.\u001b[0m\u001b[0m_parent_ident\u001b[0m\u001b[1;33m[\u001b[0m\u001b[1;34m\"shell\"\u001b[0m\u001b[1;33m]\u001b[0m\u001b[1;33m,\u001b[0m\u001b[1;33m\u001b[0m\u001b[1;33m\u001b[0m\u001b[0m\n",
      "\u001b[1;32m~\\anaconda3\\envs\\my-env\\lib\\site-packages\\ipykernel\\kernelbase.py\u001b[0m in \u001b[0;36m_input_request\u001b[1;34m(self, prompt, ident, parent, password)\u001b[0m\n\u001b[0;32m   1049\u001b[0m             \u001b[1;32mexcept\u001b[0m \u001b[0mKeyboardInterrupt\u001b[0m\u001b[1;33m:\u001b[0m\u001b[1;33m\u001b[0m\u001b[1;33m\u001b[0m\u001b[0m\n\u001b[0;32m   1050\u001b[0m                 \u001b[1;31m# re-raise KeyboardInterrupt, to truncate traceback\u001b[0m\u001b[1;33m\u001b[0m\u001b[1;33m\u001b[0m\u001b[1;33m\u001b[0m\u001b[0m\n\u001b[1;32m-> 1051\u001b[1;33m                 \u001b[1;32mraise\u001b[0m \u001b[0mKeyboardInterrupt\u001b[0m\u001b[1;33m(\u001b[0m\u001b[1;34m\"Interrupted by user\"\u001b[0m\u001b[1;33m)\u001b[0m \u001b[1;32mfrom\u001b[0m \u001b[1;32mNone\u001b[0m\u001b[1;33m\u001b[0m\u001b[1;33m\u001b[0m\u001b[0m\n\u001b[0m\u001b[0;32m   1052\u001b[0m             \u001b[1;32mexcept\u001b[0m \u001b[0mException\u001b[0m\u001b[1;33m:\u001b[0m\u001b[1;33m\u001b[0m\u001b[1;33m\u001b[0m\u001b[0m\n\u001b[0;32m   1053\u001b[0m                 \u001b[0mself\u001b[0m\u001b[1;33m.\u001b[0m\u001b[0mlog\u001b[0m\u001b[1;33m.\u001b[0m\u001b[0mwarning\u001b[0m\u001b[1;33m(\u001b[0m\u001b[1;34m\"Invalid Message:\"\u001b[0m\u001b[1;33m,\u001b[0m \u001b[0mexc_info\u001b[0m\u001b[1;33m=\u001b[0m\u001b[1;32mTrue\u001b[0m\u001b[1;33m)\u001b[0m\u001b[1;33m\u001b[0m\u001b[1;33m\u001b[0m\u001b[0m\n",
      "\u001b[1;31mKeyboardInterrupt\u001b[0m: Interrupted by user"
     ]
    }
   ],
   "metadata": {}
  },
  {
   "cell_type": "code",
   "execution_count": 100,
   "source": [
    "x = input('enter a number: ')\r\n",
    "if x.isdigit():\r\n",
    "    pass\r\n",
    "else:\r\n",
    "    print('error')"
   ],
   "outputs": [
    {
     "output_type": "stream",
     "name": "stdout",
     "text": [
      "error\n"
     ]
    }
   ],
   "metadata": {}
  },
  {
   "cell_type": "code",
   "execution_count": 103,
   "source": [
    "num = (input('enter a number'))\r\n",
    "if type(num) == int:\r\n",
    "    print('this is your number:', num)\r\n",
    "else:\r\n",
    "    print('this is not a number')"
   ],
   "outputs": [
    {
     "output_type": "stream",
     "name": "stdout",
     "text": [
      "this is not a number\n"
     ]
    }
   ],
   "metadata": {}
  },
  {
   "cell_type": "code",
   "execution_count": 108,
   "source": [
    "n=input(\"enter number\")\r\n",
    "if(isinstance(n,int)):\r\n",
    "    TypeError(\"ginen number is not integer\")\r\n",
    "return(n)"
   ],
   "outputs": [
    {
     "output_type": "error",
     "ename": "SyntaxError",
     "evalue": "'return' outside function (Temp/ipykernel_3380/3677520438.py, line 4)",
     "traceback": [
      "\u001b[1;36m  File \u001b[1;32m\"C:\\Users\\LENOVO\\AppData\\Local\\Temp/ipykernel_3380/3677520438.py\"\u001b[1;36m, line \u001b[1;32m4\u001b[0m\n\u001b[1;33m    return(n)\u001b[0m\n\u001b[1;37m    ^\u001b[0m\n\u001b[1;31mSyntaxError\u001b[0m\u001b[1;31m:\u001b[0m 'return' outside function\n"
     ]
    }
   ],
   "metadata": {}
  },
  {
   "cell_type": "markdown",
   "source": [
    "Write a Python program to filter the positive numbers from a list.\r\n",
    "\r\n",
    "Positive Numbers: Any number above zero is known as a positive number. Positive numbers are written without any sign or a '+' sign in front of them and they are counted up from zero, i.e. 1, + 2, 3, +4 etc."
   ],
   "metadata": {}
  },
  {
   "cell_type": "code",
   "execution_count": 109,
   "source": [
    "nums = [34, 1, 0, -23, 12, -88]\r\n",
    "print(\"Original numbers in the list: \",nums)\r\n",
    "new_nums = list(filter(lambda x: x >0, nums))\r\n",
    "print(\"Positive numbers in the said list: \",new_nums)"
   ],
   "outputs": [
    {
     "output_type": "stream",
     "name": "stdout",
     "text": [
      "Original numbers in the list:  [34, 1, 0, -23, 12, -88]\n"
     ]
    },
    {
     "output_type": "error",
     "ename": "TypeError",
     "evalue": "'list' object is not callable",
     "traceback": [
      "\u001b[1;31m---------------------------------------------------------------------------\u001b[0m",
      "\u001b[1;31mTypeError\u001b[0m                                 Traceback (most recent call last)",
      "\u001b[1;32m~\\AppData\\Local\\Temp/ipykernel_3380/2678996075.py\u001b[0m in \u001b[0;36m<module>\u001b[1;34m\u001b[0m\n\u001b[0;32m      1\u001b[0m \u001b[0mnums\u001b[0m \u001b[1;33m=\u001b[0m \u001b[1;33m[\u001b[0m\u001b[1;36m34\u001b[0m\u001b[1;33m,\u001b[0m \u001b[1;36m1\u001b[0m\u001b[1;33m,\u001b[0m \u001b[1;36m0\u001b[0m\u001b[1;33m,\u001b[0m \u001b[1;33m-\u001b[0m\u001b[1;36m23\u001b[0m\u001b[1;33m,\u001b[0m \u001b[1;36m12\u001b[0m\u001b[1;33m,\u001b[0m \u001b[1;33m-\u001b[0m\u001b[1;36m88\u001b[0m\u001b[1;33m]\u001b[0m\u001b[1;33m\u001b[0m\u001b[1;33m\u001b[0m\u001b[0m\n\u001b[0;32m      2\u001b[0m \u001b[0mprint\u001b[0m\u001b[1;33m(\u001b[0m\u001b[1;34m\"Original numbers in the list: \"\u001b[0m\u001b[1;33m,\u001b[0m\u001b[0mnums\u001b[0m\u001b[1;33m)\u001b[0m\u001b[1;33m\u001b[0m\u001b[1;33m\u001b[0m\u001b[0m\n\u001b[1;32m----> 3\u001b[1;33m \u001b[0mnew_nums\u001b[0m \u001b[1;33m=\u001b[0m \u001b[0mlist\u001b[0m\u001b[1;33m(\u001b[0m\u001b[0mfilter\u001b[0m\u001b[1;33m(\u001b[0m\u001b[1;32mlambda\u001b[0m \u001b[0mx\u001b[0m\u001b[1;33m:\u001b[0m \u001b[0mx\u001b[0m \u001b[1;33m>\u001b[0m\u001b[1;36m0\u001b[0m\u001b[1;33m,\u001b[0m \u001b[0mnums\u001b[0m\u001b[1;33m)\u001b[0m\u001b[1;33m)\u001b[0m\u001b[1;33m\u001b[0m\u001b[1;33m\u001b[0m\u001b[0m\n\u001b[0m\u001b[0;32m      4\u001b[0m \u001b[0mprint\u001b[0m\u001b[1;33m(\u001b[0m\u001b[1;34m\"Positive numbers in the said list: \"\u001b[0m\u001b[1;33m,\u001b[0m\u001b[0mnew_nums\u001b[0m\u001b[1;33m)\u001b[0m\u001b[1;33m\u001b[0m\u001b[1;33m\u001b[0m\u001b[0m\n",
      "\u001b[1;31mTypeError\u001b[0m: 'list' object is not callable"
     ]
    }
   ],
   "metadata": {}
  },
  {
   "cell_type": "code",
   "execution_count": 110,
   "source": [
    "nums = [34, 1, 0, -23, 12, -88]\r\n",
    "print(\"Original numbers in the list: \",nums)\r\n",
    "print(\"Positive numbers in the said list: \")\r\n",
    "for pos_nums in nums:\r\n",
    "   if pos_nums > 0:\r\n",
    "      print(pos_nums, end = \" \")"
   ],
   "outputs": [
    {
     "output_type": "stream",
     "name": "stdout",
     "text": [
      "Original numbers in the list:  [34, 1, 0, -23, 12, -88]\n",
      "Positive numbers in the said list: \n",
      "34 1 12 "
     ]
    }
   ],
   "metadata": {}
  },
  {
   "cell_type": "code",
   "execution_count": 111,
   "source": [
    "nums = [34, 1, 0, -23, 12, -88]\r\n",
    "print(\"Original numbers in the list: \",nums)\r\n",
    "pos_nums = [n for n in nums if n> 0]\r\n",
    "print(\"Positive numbers in the said list: \",*pos_nums)"
   ],
   "outputs": [
    {
     "output_type": "stream",
     "name": "stdout",
     "text": [
      "Original numbers in the list:  [34, 1, 0, -23, 12, -88]\n",
      "Positive numbers in the said list:  34 1 12\n"
     ]
    }
   ],
   "metadata": {}
  },
  {
   "cell_type": "code",
   "execution_count": 112,
   "source": [
    "nums = [34, 1, 0, -23]\r\n",
    "num2 = []\r\n",
    "for i in nums:\r\n",
    "    if i >= 0:\r\n",
    "        num2.append(i)\r\n",
    "print(num2)"
   ],
   "outputs": [
    {
     "output_type": "stream",
     "name": "stdout",
     "text": [
      "[34, 1, 0]\n"
     ]
    }
   ],
   "metadata": {}
  },
  {
   "cell_type": "code",
   "execution_count": 114,
   "source": [
    "my_list3 = [3,2,-1,-2,6,3,-5]\r\n",
    "my_list4 = [num for num in my_list3 if num > 0]\r\n",
    "print(my_list4)"
   ],
   "outputs": [
    {
     "output_type": "stream",
     "name": "stdout",
     "text": [
      "[3, 2, 6, 3]\n"
     ]
    }
   ],
   "metadata": {}
  },
  {
   "cell_type": "code",
   "execution_count": 115,
   "source": [
    "pos = []\r\n",
    "lis = [1,3,6,-4,4,-5,-7,-3]\r\n",
    "for x in lis:\r\n",
    "    if x > 0:\r\n",
    "        pos.append(x)\r\n",
    "print(pos)"
   ],
   "outputs": [
    {
     "output_type": "stream",
     "name": "stdout",
     "text": [
      "[1, 3, 6, 4]\n"
     ]
    }
   ],
   "metadata": {}
  },
  {
   "cell_type": "code",
   "execution_count": 116,
   "source": [
    "list=[]\r\n",
    "n=int(input(\"Please enter the number of elements to sum in the list\"))\r\n",
    "print(\"Please enter all the elements\")\r\n",
    "\r\n",
    "for i in range(0,n):\r\n",
    "    elements=int(input())\r\n",
    "    list.append(elements)\r\n",
    "\r\n",
    "for x in list:\r\n",
    "    if x>0:\r\n",
    "        print(\"Positive numbers in the list are: \",x)"
   ],
   "outputs": [
    {
     "output_type": "stream",
     "name": "stdout",
     "text": [
      "Please enter all the elements\n"
     ]
    },
    {
     "output_type": "error",
     "ename": "ValueError",
     "evalue": "invalid literal for int() with base 10: '1,3,5,7'",
     "traceback": [
      "\u001b[1;31m---------------------------------------------------------------------------\u001b[0m",
      "\u001b[1;31mValueError\u001b[0m                                Traceback (most recent call last)",
      "\u001b[1;32m~\\AppData\\Local\\Temp/ipykernel_3380/112087154.py\u001b[0m in \u001b[0;36m<module>\u001b[1;34m\u001b[0m\n\u001b[0;32m      4\u001b[0m \u001b[1;33m\u001b[0m\u001b[0m\n\u001b[0;32m      5\u001b[0m \u001b[1;32mfor\u001b[0m \u001b[0mi\u001b[0m \u001b[1;32min\u001b[0m \u001b[0mrange\u001b[0m\u001b[1;33m(\u001b[0m\u001b[1;36m0\u001b[0m\u001b[1;33m,\u001b[0m\u001b[0mn\u001b[0m\u001b[1;33m)\u001b[0m\u001b[1;33m:\u001b[0m\u001b[1;33m\u001b[0m\u001b[1;33m\u001b[0m\u001b[0m\n\u001b[1;32m----> 6\u001b[1;33m     \u001b[0melements\u001b[0m\u001b[1;33m=\u001b[0m\u001b[0mint\u001b[0m\u001b[1;33m(\u001b[0m\u001b[0minput\u001b[0m\u001b[1;33m(\u001b[0m\u001b[1;33m)\u001b[0m\u001b[1;33m)\u001b[0m\u001b[1;33m\u001b[0m\u001b[1;33m\u001b[0m\u001b[0m\n\u001b[0m\u001b[0;32m      7\u001b[0m     \u001b[0mlist\u001b[0m\u001b[1;33m.\u001b[0m\u001b[0mappend\u001b[0m\u001b[1;33m(\u001b[0m\u001b[0melements\u001b[0m\u001b[1;33m)\u001b[0m\u001b[1;33m\u001b[0m\u001b[1;33m\u001b[0m\u001b[0m\n\u001b[0;32m      8\u001b[0m \u001b[1;33m\u001b[0m\u001b[0m\n",
      "\u001b[1;31mValueError\u001b[0m: invalid literal for int() with base 10: '1,3,5,7'"
     ]
    }
   ],
   "metadata": {}
  },
  {
   "cell_type": "code",
   "execution_count": 117,
   "source": [
    "numbers = [1,2,3,-2,-1,2,-4]\r\n",
    "for x in numbers:\r\n",
    "    if x >= 0:\r\n",
    "        print(x, end = ' ')"
   ],
   "outputs": [
    {
     "output_type": "stream",
     "name": "stdout",
     "text": [
      "1 2 3 2 "
     ]
    }
   ],
   "metadata": {}
  },
  {
   "cell_type": "code",
   "execution_count": 118,
   "source": [
    "numbers = [1,2,3,-2,-1,2,-4]\r\n",
    "[x for x in numbers if x >= 0]"
   ],
   "outputs": [
    {
     "output_type": "execute_result",
     "data": {
      "text/plain": [
       "[1, 2, 3, 2]"
      ]
     },
     "metadata": {},
     "execution_count": 118
    }
   ],
   "metadata": {}
  },
  {
   "cell_type": "code",
   "execution_count": 121,
   "source": [
    "from random import sample\r\n",
    "l = sample(range(-50, 50), 20)\r\n",
    "print('Here are some positive number from a sample range:\\n' +\r\n",
    "'\\n'.join([str(c) for c in l if c > 0]))"
   ],
   "outputs": [
    {
     "output_type": "error",
     "ename": "TypeError",
     "evalue": "'str' object is not callable",
     "traceback": [
      "\u001b[1;31m---------------------------------------------------------------------------\u001b[0m",
      "\u001b[1;31mTypeError\u001b[0m                                 Traceback (most recent call last)",
      "\u001b[1;32m~\\AppData\\Local\\Temp/ipykernel_3380/4041968009.py\u001b[0m in \u001b[0;36m<module>\u001b[1;34m\u001b[0m\n\u001b[0;32m      2\u001b[0m \u001b[0ml\u001b[0m \u001b[1;33m=\u001b[0m \u001b[0msample\u001b[0m\u001b[1;33m(\u001b[0m\u001b[0mrange\u001b[0m\u001b[1;33m(\u001b[0m\u001b[1;33m-\u001b[0m\u001b[1;36m50\u001b[0m\u001b[1;33m,\u001b[0m \u001b[1;36m50\u001b[0m\u001b[1;33m)\u001b[0m\u001b[1;33m,\u001b[0m \u001b[1;36m20\u001b[0m\u001b[1;33m)\u001b[0m\u001b[1;33m\u001b[0m\u001b[1;33m\u001b[0m\u001b[0m\n\u001b[0;32m      3\u001b[0m print('Here are some positive number from a sample range:\\n' +\n\u001b[1;32m----> 4\u001b[1;33m '\\n'.join([str(c) for c in l if c > 0]))\n\u001b[0m",
      "\u001b[1;32m~\\AppData\\Local\\Temp/ipykernel_3380/4041968009.py\u001b[0m in \u001b[0;36m<listcomp>\u001b[1;34m(.0)\u001b[0m\n\u001b[0;32m      2\u001b[0m \u001b[0ml\u001b[0m \u001b[1;33m=\u001b[0m \u001b[0msample\u001b[0m\u001b[1;33m(\u001b[0m\u001b[0mrange\u001b[0m\u001b[1;33m(\u001b[0m\u001b[1;33m-\u001b[0m\u001b[1;36m50\u001b[0m\u001b[1;33m,\u001b[0m \u001b[1;36m50\u001b[0m\u001b[1;33m)\u001b[0m\u001b[1;33m,\u001b[0m \u001b[1;36m20\u001b[0m\u001b[1;33m)\u001b[0m\u001b[1;33m\u001b[0m\u001b[1;33m\u001b[0m\u001b[0m\n\u001b[0;32m      3\u001b[0m print('Here are some positive number from a sample range:\\n' +\n\u001b[1;32m----> 4\u001b[1;33m '\\n'.join([str(c) for c in l if c > 0]))\n\u001b[0m",
      "\u001b[1;31mTypeError\u001b[0m: 'str' object is not callable"
     ]
    }
   ],
   "metadata": {}
  },
  {
   "cell_type": "code",
   "execution_count": 122,
   "source": [
    "x=[-2,4,-3,9]\r\n",
    "\r\n",
    "print([x[i ] for i in range(len( x)) if x[i] >0 ])"
   ],
   "outputs": [
    {
     "output_type": "stream",
     "name": "stdout",
     "text": [
      "[4, 9]\n"
     ]
    }
   ],
   "metadata": {}
  },
  {
   "cell_type": "code",
   "execution_count": 124,
   "source": [
    "print(\"Type 'bank()' to begin.\")\r\n",
    "def bank():\r\n",
    "    '''This program will sum all account balances and return total assets.'''\r\n",
    "howmany = int(input(\"How many assets are there: \"))\r\n",
    "sum = 0\r\n",
    "for i in range(howmany):\r\n",
    "    asset = float(input(\"Enter one account balance: \"))\r\n",
    "    sum += asset\r\n",
    "    print(\"Total asset in the bank is:\")\r\n",
    "return sum"
   ],
   "outputs": [
    {
     "output_type": "stream",
     "name": "stdout",
     "text": [
      "Type 'bank()' to begin.\n",
      "Total asset in the bank is:\n",
      "Total asset in the bank is:\n"
     ]
    },
    {
     "output_type": "error",
     "ename": "KeyboardInterrupt",
     "evalue": "Interrupted by user",
     "traceback": [
      "\u001b[1;31m---------------------------------------------------------------------------\u001b[0m",
      "\u001b[1;31mKeyboardInterrupt\u001b[0m                         Traceback (most recent call last)",
      "\u001b[1;32m~\\AppData\\Local\\Temp/ipykernel_3380/2150565941.py\u001b[0m in \u001b[0;36m<module>\u001b[1;34m\u001b[0m\n\u001b[0;32m      5\u001b[0m \u001b[0msum\u001b[0m \u001b[1;33m=\u001b[0m \u001b[1;36m0\u001b[0m\u001b[1;33m\u001b[0m\u001b[1;33m\u001b[0m\u001b[0m\n\u001b[0;32m      6\u001b[0m \u001b[1;32mfor\u001b[0m \u001b[0mi\u001b[0m \u001b[1;32min\u001b[0m \u001b[0mrange\u001b[0m\u001b[1;33m(\u001b[0m\u001b[0mhowmany\u001b[0m\u001b[1;33m)\u001b[0m\u001b[1;33m:\u001b[0m\u001b[1;33m\u001b[0m\u001b[1;33m\u001b[0m\u001b[0m\n\u001b[1;32m----> 7\u001b[1;33m     \u001b[0masset\u001b[0m \u001b[1;33m=\u001b[0m \u001b[0mfloat\u001b[0m\u001b[1;33m(\u001b[0m\u001b[0minput\u001b[0m\u001b[1;33m(\u001b[0m\u001b[1;34m\"Enter one account balance: \"\u001b[0m\u001b[1;33m)\u001b[0m\u001b[1;33m)\u001b[0m\u001b[1;33m\u001b[0m\u001b[1;33m\u001b[0m\u001b[0m\n\u001b[0m\u001b[0;32m      8\u001b[0m     \u001b[0msum\u001b[0m \u001b[1;33m+=\u001b[0m \u001b[0masset\u001b[0m\u001b[1;33m\u001b[0m\u001b[1;33m\u001b[0m\u001b[0m\n\u001b[0;32m      9\u001b[0m     \u001b[0mprint\u001b[0m\u001b[1;33m(\u001b[0m\u001b[1;34m\"Total asset in the bank is:\"\u001b[0m\u001b[1;33m)\u001b[0m\u001b[1;33m\u001b[0m\u001b[1;33m\u001b[0m\u001b[0m\n",
      "\u001b[1;32m~\\anaconda3\\envs\\my-env\\lib\\site-packages\\ipykernel\\kernelbase.py\u001b[0m in \u001b[0;36mraw_input\u001b[1;34m(self, prompt)\u001b[0m\n\u001b[0;32m   1004\u001b[0m                 \u001b[1;34m\"raw_input was called, but this frontend does not support input requests.\"\u001b[0m\u001b[1;33m\u001b[0m\u001b[1;33m\u001b[0m\u001b[0m\n\u001b[0;32m   1005\u001b[0m             )\n\u001b[1;32m-> 1006\u001b[1;33m         return self._input_request(\n\u001b[0m\u001b[0;32m   1007\u001b[0m             \u001b[0mstr\u001b[0m\u001b[1;33m(\u001b[0m\u001b[0mprompt\u001b[0m\u001b[1;33m)\u001b[0m\u001b[1;33m,\u001b[0m\u001b[1;33m\u001b[0m\u001b[1;33m\u001b[0m\u001b[0m\n\u001b[0;32m   1008\u001b[0m             \u001b[0mself\u001b[0m\u001b[1;33m.\u001b[0m\u001b[0m_parent_ident\u001b[0m\u001b[1;33m[\u001b[0m\u001b[1;34m\"shell\"\u001b[0m\u001b[1;33m]\u001b[0m\u001b[1;33m,\u001b[0m\u001b[1;33m\u001b[0m\u001b[1;33m\u001b[0m\u001b[0m\n",
      "\u001b[1;32m~\\anaconda3\\envs\\my-env\\lib\\site-packages\\ipykernel\\kernelbase.py\u001b[0m in \u001b[0;36m_input_request\u001b[1;34m(self, prompt, ident, parent, password)\u001b[0m\n\u001b[0;32m   1049\u001b[0m             \u001b[1;32mexcept\u001b[0m \u001b[0mKeyboardInterrupt\u001b[0m\u001b[1;33m:\u001b[0m\u001b[1;33m\u001b[0m\u001b[1;33m\u001b[0m\u001b[0m\n\u001b[0;32m   1050\u001b[0m                 \u001b[1;31m# re-raise KeyboardInterrupt, to truncate traceback\u001b[0m\u001b[1;33m\u001b[0m\u001b[1;33m\u001b[0m\u001b[1;33m\u001b[0m\u001b[0m\n\u001b[1;32m-> 1051\u001b[1;33m                 \u001b[1;32mraise\u001b[0m \u001b[0mKeyboardInterrupt\u001b[0m\u001b[1;33m(\u001b[0m\u001b[1;34m\"Interrupted by user\"\u001b[0m\u001b[1;33m)\u001b[0m \u001b[1;32mfrom\u001b[0m \u001b[1;32mNone\u001b[0m\u001b[1;33m\u001b[0m\u001b[1;33m\u001b[0m\u001b[0m\n\u001b[0m\u001b[0;32m   1052\u001b[0m             \u001b[1;32mexcept\u001b[0m \u001b[0mException\u001b[0m\u001b[1;33m:\u001b[0m\u001b[1;33m\u001b[0m\u001b[1;33m\u001b[0m\u001b[0m\n\u001b[0;32m   1053\u001b[0m                 \u001b[0mself\u001b[0m\u001b[1;33m.\u001b[0m\u001b[0mlog\u001b[0m\u001b[1;33m.\u001b[0m\u001b[0mwarning\u001b[0m\u001b[1;33m(\u001b[0m\u001b[1;34m\"Invalid Message:\"\u001b[0m\u001b[1;33m,\u001b[0m \u001b[0mexc_info\u001b[0m\u001b[1;33m=\u001b[0m\u001b[1;32mTrue\u001b[0m\u001b[1;33m)\u001b[0m\u001b[1;33m\u001b[0m\u001b[1;33m\u001b[0m\u001b[0m\n",
      "\u001b[1;31mKeyboardInterrupt\u001b[0m: Interrupted by user"
     ]
    }
   ],
   "metadata": {}
  },
  {
   "cell_type": "code",
   "execution_count": 125,
   "source": [
    "number = [34, 1, 0, -23]\r\n",
    "positive_number = [x for x in number if x > 0]\r\n",
    "print(\"Positive Numbers\", positive_number)"
   ],
   "outputs": [
    {
     "output_type": "stream",
     "name": "stdout",
     "text": [
      "Positive Numbers [34, 1]\n"
     ]
    }
   ],
   "metadata": {}
  },
  {
   "cell_type": "code",
   "execution_count": null,
   "source": [
    "115"
   ],
   "outputs": [],
   "metadata": {}
  }
 ],
 "metadata": {
  "kernelspec": {
   "name": "python3",
   "display_name": "Python 3.9.6 64-bit ('my-env': conda)"
  },
  "language_info": {
   "codemirror_mode": {
    "name": "ipython",
    "version": 3
   },
   "file_extension": ".py",
   "mimetype": "text/x-python",
   "name": "python",
   "nbconvert_exporter": "python",
   "pygments_lexer": "ipython3",
   "version": "3.9.6"
  },
  "interpreter": {
   "hash": "176008327093c58d2a75474fbdc883dc533d24f056eea3c3df23244de1112b8f"
  }
 },
 "nbformat": 4,
 "nbformat_minor": 5
}