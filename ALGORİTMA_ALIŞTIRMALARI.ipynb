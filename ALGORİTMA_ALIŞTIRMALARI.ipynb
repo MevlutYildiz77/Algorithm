{
 "cells": [
  {
   "cell_type": "markdown",
   "source": [
    "# İki Sayının Yerlerini Değiştiren Algoritma ve Akış Şeması"
   ],
   "metadata": {}
  },
  {
   "cell_type": "code",
   "execution_count": 15,
   "source": [
    "sayı1 = 5\r\n",
    "sayı2 = 10\r\n",
    "sayı3 = sayı1\r\n",
    "sayı1 = sayı2\r\n",
    "sayı2 = sayı3\r\n",
    "print(sayı1, sayı2)"
   ],
   "outputs": [
    {
     "output_type": "stream",
     "name": "stdout",
     "text": [
      "10 5\n"
     ]
    }
   ],
   "metadata": {}
  },
  {
   "cell_type": "markdown",
   "source": [
    "# Derece Fahrenhayt Dönüştürme Algoritması"
   ],
   "metadata": {}
  },
  {
   "cell_type": "code",
   "execution_count": 16,
   "source": [
    "C = int(input(\"write the degree: \"))\r\n",
    "F = (C * (9/5)) + 32\r\n",
    "print(F)"
   ],
   "outputs": [
    {
     "output_type": "stream",
     "name": "stdout",
     "text": [
      "41.0\n"
     ]
    }
   ],
   "metadata": {}
  },
  {
   "cell_type": "markdown",
   "source": [
    "# İki Kare Farkı Hesaplayan Algoritma ve Akış Diyagramı Örneği"
   ],
   "metadata": {}
  },
  {
   "cell_type": "code",
   "execution_count": 17,
   "source": [
    "num1 = int(input(\"write num1: \"))\r\n",
    "num2 = int(input(\"write num2: \"))\r\n",
    "a = ((num1 * num1) - (num2 * num2))\r\n",
    "print(a)"
   ],
   "outputs": [
    {
     "output_type": "error",
     "ename": "KeyboardInterrupt",
     "evalue": "Interrupted by user",
     "traceback": [
      "\u001b[1;31m---------------------------------------------------------------------------\u001b[0m",
      "\u001b[1;31mKeyboardInterrupt\u001b[0m                         Traceback (most recent call last)",
      "\u001b[1;32m<ipython-input-17-7b344c644f65>\u001b[0m in \u001b[0;36m<module>\u001b[1;34m\u001b[0m\n\u001b[0;32m      1\u001b[0m \u001b[0mnum1\u001b[0m \u001b[1;33m=\u001b[0m \u001b[0mint\u001b[0m\u001b[1;33m(\u001b[0m\u001b[0minput\u001b[0m\u001b[1;33m(\u001b[0m\u001b[1;34m\"write num1: \"\u001b[0m\u001b[1;33m)\u001b[0m\u001b[1;33m)\u001b[0m\u001b[1;33m\u001b[0m\u001b[1;33m\u001b[0m\u001b[0m\n\u001b[1;32m----> 2\u001b[1;33m \u001b[0mnum2\u001b[0m \u001b[1;33m=\u001b[0m \u001b[0mint\u001b[0m\u001b[1;33m(\u001b[0m\u001b[0minput\u001b[0m\u001b[1;33m(\u001b[0m\u001b[1;34m\"write num2: \"\u001b[0m\u001b[1;33m)\u001b[0m\u001b[1;33m)\u001b[0m\u001b[1;33m\u001b[0m\u001b[1;33m\u001b[0m\u001b[0m\n\u001b[0m\u001b[0;32m      3\u001b[0m \u001b[0ma\u001b[0m \u001b[1;33m=\u001b[0m \u001b[1;33m(\u001b[0m\u001b[1;33m(\u001b[0m\u001b[0mnum1\u001b[0m \u001b[1;33m*\u001b[0m \u001b[0mnum1\u001b[0m\u001b[1;33m)\u001b[0m \u001b[1;33m-\u001b[0m \u001b[1;33m(\u001b[0m\u001b[0mnum2\u001b[0m \u001b[1;33m*\u001b[0m \u001b[0mnum2\u001b[0m\u001b[1;33m)\u001b[0m\u001b[1;33m)\u001b[0m\u001b[1;33m\u001b[0m\u001b[1;33m\u001b[0m\u001b[0m\n\u001b[0;32m      4\u001b[0m \u001b[0mprint\u001b[0m\u001b[1;33m(\u001b[0m\u001b[0ma\u001b[0m\u001b[1;33m)\u001b[0m\u001b[1;33m\u001b[0m\u001b[1;33m\u001b[0m\u001b[0m\n",
      "\u001b[1;32m~\\anaconda3\\lib\\site-packages\\ipykernel\\kernelbase.py\u001b[0m in \u001b[0;36mraw_input\u001b[1;34m(self, prompt)\u001b[0m\n\u001b[0;32m    858\u001b[0m                 \u001b[1;34m\"raw_input was called, but this frontend does not support input requests.\"\u001b[0m\u001b[1;33m\u001b[0m\u001b[1;33m\u001b[0m\u001b[0m\n\u001b[0;32m    859\u001b[0m             )\n\u001b[1;32m--> 860\u001b[1;33m         return self._input_request(str(prompt),\n\u001b[0m\u001b[0;32m    861\u001b[0m             \u001b[0mself\u001b[0m\u001b[1;33m.\u001b[0m\u001b[0m_parent_ident\u001b[0m\u001b[1;33m,\u001b[0m\u001b[1;33m\u001b[0m\u001b[1;33m\u001b[0m\u001b[0m\n\u001b[0;32m    862\u001b[0m             \u001b[0mself\u001b[0m\u001b[1;33m.\u001b[0m\u001b[0m_parent_header\u001b[0m\u001b[1;33m,\u001b[0m\u001b[1;33m\u001b[0m\u001b[1;33m\u001b[0m\u001b[0m\n",
      "\u001b[1;32m~\\anaconda3\\lib\\site-packages\\ipykernel\\kernelbase.py\u001b[0m in \u001b[0;36m_input_request\u001b[1;34m(self, prompt, ident, parent, password)\u001b[0m\n\u001b[0;32m    902\u001b[0m             \u001b[1;32mexcept\u001b[0m \u001b[0mKeyboardInterrupt\u001b[0m\u001b[1;33m:\u001b[0m\u001b[1;33m\u001b[0m\u001b[1;33m\u001b[0m\u001b[0m\n\u001b[0;32m    903\u001b[0m                 \u001b[1;31m# re-raise KeyboardInterrupt, to truncate traceback\u001b[0m\u001b[1;33m\u001b[0m\u001b[1;33m\u001b[0m\u001b[1;33m\u001b[0m\u001b[0m\n\u001b[1;32m--> 904\u001b[1;33m                 \u001b[1;32mraise\u001b[0m \u001b[0mKeyboardInterrupt\u001b[0m\u001b[1;33m(\u001b[0m\u001b[1;34m\"Interrupted by user\"\u001b[0m\u001b[1;33m)\u001b[0m \u001b[1;32mfrom\u001b[0m \u001b[1;32mNone\u001b[0m\u001b[1;33m\u001b[0m\u001b[1;33m\u001b[0m\u001b[0m\n\u001b[0m\u001b[0;32m    905\u001b[0m             \u001b[1;32mexcept\u001b[0m \u001b[0mException\u001b[0m \u001b[1;32mas\u001b[0m \u001b[0me\u001b[0m\u001b[1;33m:\u001b[0m\u001b[1;33m\u001b[0m\u001b[1;33m\u001b[0m\u001b[0m\n\u001b[0;32m    906\u001b[0m                 \u001b[0mself\u001b[0m\u001b[1;33m.\u001b[0m\u001b[0mlog\u001b[0m\u001b[1;33m.\u001b[0m\u001b[0mwarning\u001b[0m\u001b[1;33m(\u001b[0m\u001b[1;34m\"Invalid Message:\"\u001b[0m\u001b[1;33m,\u001b[0m \u001b[0mexc_info\u001b[0m\u001b[1;33m=\u001b[0m\u001b[1;32mTrue\u001b[0m\u001b[1;33m)\u001b[0m\u001b[1;33m\u001b[0m\u001b[1;33m\u001b[0m\u001b[0m\n",
      "\u001b[1;31mKeyboardInterrupt\u001b[0m: Interrupted by user"
     ]
    }
   ],
   "metadata": {}
  },
  {
   "cell_type": "markdown",
   "source": [
    "# SAYININ ÜSSÜNÜ ALMA"
   ],
   "metadata": {}
  },
  {
   "cell_type": "code",
   "execution_count": null,
   "source": [
    "num1 = int(input(\"write num1: \"))\r\n",
    "num2 = int(input(\"write num2: \"))\r\n",
    "a = (num1 ** num2)\r\n",
    "print(a)"
   ],
   "outputs": [
    {
     "output_type": "stream",
     "name": "stdout",
     "text": [
      "write num1: 2\n",
      "write num2: 3\n",
      "8\n"
     ]
    }
   ],
   "metadata": {}
  },
  {
   "cell_type": "markdown",
   "source": [
    "# Yazılı ve Performans Notu Ortalaması Hesaplayan Algoritma ve Akış Şeması"
   ],
   "metadata": {}
  },
  {
   "cell_type": "code",
   "execution_count": null,
   "source": [
    "yazılı1 = int(input(\"write yazılı1: \"))\r\n",
    "yazılı2 = int(input(\"write yazılı: \"))\r\n",
    "perf = int(input(\"write perf: \"))\r\n",
    "ort = (yazılı1 + yazılı2 + perf) / 3\r\n",
    "print(ort)"
   ],
   "outputs": [
    {
     "output_type": "stream",
     "name": "stdout",
     "text": [
      "write yazılı1: 80\n",
      "write yazılı: 70\n",
      "write perf: 90\n",
      "80.0\n"
     ]
    }
   ],
   "metadata": {}
  },
  {
   "cell_type": "markdown",
   "source": [
    "# Personel Yılbaşı İkramiye Algoritma ve Akış Şeması"
   ],
   "metadata": {}
  },
  {
   "cell_type": "code",
   "execution_count": null,
   "source": [
    "maas = int(input(\"maaşınızı giriniz: \"))\r\n",
    "cocuk = int(input(\"çocuk sayısını giriniz: \"))\r\n",
    "#ikramiye = maas * cocuk\r\n",
    "#cocuk = [0, 1, 2, 3]\r\n",
    "if cocuk == 0:\r\n",
    "    print(\"İkramiye tutarınız: \", maas * 0.01)\r\n",
    "elif cocuk == 1:\r\n",
    "    print(\"İkramiye tutarınız: \", maas * 0.03)\r\n",
    "elif cocuk == 2:\r\n",
    "    print(\"İkramiye tutarınız: \", maas * 0.05)\r\n",
    "else:\r\n",
    "    print(\"İkramiye tutarınız: \", maas * 0.10)\r\n",
    "  "
   ],
   "outputs": [
    {
     "output_type": "stream",
     "name": "stdout",
     "text": [
      "maaşınızı giriniz: 2500\n",
      "çocuk sayısını giriniz: 2\n",
      "İkramiye tutarınız:  125.0\n"
     ]
    }
   ],
   "metadata": {}
  },
  {
   "cell_type": "markdown",
   "source": [
    "# Örnek-2: 1-20 aralığındaki sayıların toplamını ekrana yazdıran programın algoritmasını hazırlayınız."
   ],
   "metadata": {}
  },
  {
   "cell_type": "code",
   "execution_count": null,
   "source": [
    "\r\n",
    "\r\n",
    "liste = [*range(21)]\r\n",
    "toplam = 0\r\n",
    "sayaç = 0\r\n",
    "if sayac > 20:\r\n",
    "    print(toplam)\r\n",
    "    sayac = sayac + 1\r\n",
    "    toplam = toplam + sayac\r\n",
    "    print(toplam)"
   ],
   "outputs": [
    {
     "output_type": "error",
     "ename": "NameError",
     "evalue": "name 'sayac' is not defined",
     "traceback": [
      "\u001b[1;31m---------------------------------------------------------------------------\u001b[0m",
      "\u001b[1;31mNameError\u001b[0m                                 Traceback (most recent call last)",
      "\u001b[1;32m<ipython-input-52-337ef1c1cd5b>\u001b[0m in \u001b[0;36m<module>\u001b[1;34m\u001b[0m\n\u001b[0;32m      2\u001b[0m \u001b[0mtoplam\u001b[0m \u001b[1;33m=\u001b[0m \u001b[1;36m0\u001b[0m\u001b[1;33m\u001b[0m\u001b[1;33m\u001b[0m\u001b[0m\n\u001b[0;32m      3\u001b[0m \u001b[0msayaç\u001b[0m \u001b[1;33m=\u001b[0m \u001b[1;33m[\u001b[0m\u001b[1;33m]\u001b[0m\u001b[1;33m\u001b[0m\u001b[1;33m\u001b[0m\u001b[0m\n\u001b[1;32m----> 4\u001b[1;33m \u001b[1;32mif\u001b[0m \u001b[0msayac\u001b[0m \u001b[1;33m>\u001b[0m \u001b[1;36m20\u001b[0m\u001b[1;33m:\u001b[0m\u001b[1;33m\u001b[0m\u001b[1;33m\u001b[0m\u001b[0m\n\u001b[0m\u001b[0;32m      5\u001b[0m     \u001b[0mprint\u001b[0m\u001b[1;33m(\u001b[0m\u001b[0mtoplam\u001b[0m\u001b[1;33m)\u001b[0m\u001b[1;33m\u001b[0m\u001b[1;33m\u001b[0m\u001b[0m\n\u001b[0;32m      6\u001b[0m     \u001b[0msayac\u001b[0m \u001b[1;33m=\u001b[0m \u001b[0msayac\u001b[0m \u001b[1;33m+\u001b[0m \u001b[1;36m1\u001b[0m\u001b[1;33m\u001b[0m\u001b[1;33m\u001b[0m\u001b[0m\n",
      "\u001b[1;31mNameError\u001b[0m: name 'sayac' is not defined"
     ]
    }
   ],
   "metadata": {}
  },
  {
   "cell_type": "markdown",
   "source": [
    "# Örnek-5: Klavyeden girilen bir sayının Faktöryelini bulan programın algoritmasını hazırlayınız."
   ],
   "metadata": {}
  },
  {
   "cell_type": "code",
   "execution_count": null,
   "source": [
    "n = int(input(\"Bir sayı giriniz: \"))\r\n",
    "s = 0\r\n",
    "carpım= 1\r\n",
    "s = s + 1\r\n",
    "if s > n:\r\n",
    "    print(carpım)\r\n",
    "carpım = carpım * s\r\n",
    "s = s + 1\r\n",
    "print(carpım)\r\n"
   ],
   "outputs": [
    {
     "output_type": "stream",
     "name": "stdout",
     "text": [
      "Bir sayı giriniz: 5\n",
      "1\n"
     ]
    }
   ],
   "metadata": {}
  },
  {
   "cell_type": "markdown",
   "source": [
    "# Klavyeden girilen 5 adet sayının toplamının çift mi tek mi olduğunu yazdıran programın python kodlarını yazınız."
   ],
   "metadata": {}
  },
  {
   "cell_type": "code",
   "execution_count": null,
   "source": [
    "#def toplam():\r\n",
    "num1 = int(input(\"write num1: \"))\r\n",
    "num2 = int(input(\"write num2: \"))\r\n",
    "num3 = int(input(\"write num3: \"))\r\n",
    "num4 = int(input(\"write num4: \"))\r\n",
    "num5 = int(input(\"write num5: \"))\r\n",
    "toplam = num1 + num2 + num3 + num4 +num5\r\n",
    "if toplam % 2 == 0:\r\n",
    "    print(\"Sayıların toplamı : \", {toplam}, \"çifttir\")\r\n",
    "else:\r\n",
    "    print(\"Sayıların toplamı : \", {toplam}, \"tektir\")\r\n",
    "        \r\n",
    "\r\n",
    "    \r\n"
   ],
   "outputs": [
    {
     "output_type": "stream",
     "name": "stdout",
     "text": [
      "write num1: 14\n",
      "write num2: 15\n",
      "write num3: 18\n",
      "write num4: 19\n",
      "write num5: 20\n",
      "Sayıların toplamı :  {86} çifttir\n"
     ]
    }
   ],
   "metadata": {}
  },
  {
   "cell_type": "markdown",
   "source": [
    "# Kullanıcıdan doğum yılı bilgisi alınarak kaç yaşında olduğunu söyleyen programın python kodlarını yazınız"
   ],
   "metadata": {}
  },
  {
   "cell_type": "code",
   "execution_count": null,
   "source": [
    "dogum_tarihi = int(input(\"Doğum tarihini giriniz: \"))\r\n",
    "güncel_tarih = int(input(\"içinde bulunduğunuz yılı giriniz: \"))\r\n",
    "yas = güncel_tarih - dogum_tarihi\r\n",
    "print(yas)"
   ],
   "outputs": [
    {
     "output_type": "stream",
     "name": "stdout",
     "text": [
      "Doğum tarihini giriniz: 1977\n",
      "içinde bulunduğunuz yılı giriniz: 2021\n",
      "44\n"
     ]
    }
   ],
   "metadata": {}
  },
  {
   "cell_type": "markdown",
   "source": [
    "# Kullanıcının kilo bilgisi alınarak kilo 50 ve altında ise zayıfsın, 50-80 arası fitsin, 80 ve üstü ise kilo almışsın şeklinde ekranda yazdırınız"
   ],
   "metadata": {}
  },
  {
   "cell_type": "code",
   "execution_count": null,
   "source": [
    "kilo = int(input(\"Kilonuzu giriniz: \"))\r\n",
    "if kilo < 50:\r\n",
    "    if kilo < 40:\r\n",
    "        print(\"Çok ama çok zayıfsın\")\r\n",
    "    else:\r\n",
    "        print(\"Zayıfsın\")\r\n",
    "if kilo < 80:\r\n",
    "    if kilo > 65 :\r\n",
    "        print(\"Fitsin\")\r\n",
    "    else : \r\n",
    "        print(\"Çok Fitsin\")\r\n",
    "if kilo >80 :\r\n",
    "    if kilo > 95:\r\n",
    "        print(\"Çok kilo almışsın\")\r\n",
    "    else:\r\n",
    "        print(\"Kilo almışsın\")"
   ],
   "outputs": [
    {
     "output_type": "stream",
     "name": "stdout",
     "text": [
      "Kilonuzu giriniz: 35\n",
      "Çok ama çok zayıfsın\n",
      "Çok Fitsin\n"
     ]
    }
   ],
   "metadata": {}
  },
  {
   "cell_type": "markdown",
   "source": [
    "# Haftanın gün bilgisini alıp cumartesi ve pazarsa tatil, değilse çalışıyorsun şeklinde ekrana uyarı veren programın python kodlarını yazınız"
   ],
   "metadata": {}
  },
  {
   "cell_type": "code",
   "execution_count": null,
   "source": [
    "gün = input(\"günü giriniz: \")\r\n",
    "if gün == \"Cumartesi\" or gün == \"Pazar\":\r\n",
    "    print(\"Tatil\")\r\n",
    "else:\r\n",
    "    print(\"Çalışyorsun\")"
   ],
   "outputs": [
    {
     "output_type": "stream",
     "name": "stdout",
     "text": [
      "günü giriniz: SAlı\n",
      "Çalışyorsun\n"
     ]
    }
   ],
   "metadata": {}
  },
  {
   "cell_type": "markdown",
   "source": [
    "# Kullanıcının yaş bilgisi alınıp 12 yaşından küçükse çocuk 12-28 yaş arası ise genç, 28-40 yaş arası ise orta yaşlı 40 yaştan büyükse yaşlı şeklinde ekrana yazdıran programın python kodlarını yazınız."
   ],
   "metadata": {}
  },
  {
   "cell_type": "code",
   "execution_count": null,
   "source": [
    "yaş = int(input(\"Yaşınızı giriniz: \"))\r\n",
    "if yaş < 12:\r\n",
    "    print(\"Çocuk\")\r\n",
    "elif 12 <= yaş < 28:\r\n",
    "    print(\"Genç\")\r\n",
    "elif 28 <= yaş < 40 :\r\n",
    "    print(\"Orta Yaşlı\")\r\n",
    "else:\r\n",
    "    print(\"Yaşlı\")\r\n",
    "    "
   ],
   "outputs": [
    {
     "output_type": "stream",
     "name": "stdout",
     "text": [
      "Yaşınızı giriniz: 40\n",
      "Yaşlı\n"
     ]
    }
   ],
   "metadata": {}
  },
  {
   "cell_type": "markdown",
   "source": [
    "# 0 dan 100'e kadar olan sayılardan 2 ve 3 bölünenleri ekranda sıralayan programın python kodlarını yazınız."
   ],
   "metadata": {}
  },
  {
   "cell_type": "code",
   "execution_count": null,
   "source": [
    "for i in range(0, 100):\r\n",
    "    \r\n",
    "    if (i % 2 == 0):\r\n",
    "        print(i, end = ',')\r\n",
    "    if (i % 3 == 0, ):\r\n",
    "        print(i, end = ',')\r\n",
    "    else:\r\n",
    "        print(\"\", end = ',')"
   ],
   "outputs": [
    {
     "output_type": "stream",
     "name": "stdout",
     "text": [
      "0,0,1,2,2,3,4,4,5,6,6,7,8,8,9,10,10,11,12,12,13,14,14,15,16,16,17,18,18,19,20,20,21,22,22,23,24,24,25,26,26,27,28,28,29,30,30,31,32,32,33,34,34,35,36,36,37,38,38,39,40,40,41,42,42,43,44,44,45,46,46,47,48,48,49,50,50,51,52,52,53,54,54,55,56,56,57,58,58,59,60,60,61,62,62,63,64,64,65,66,66,67,68,68,69,70,70,71,72,72,73,74,74,75,76,76,77,78,78,79,80,80,81,82,82,83,84,84,85,86,86,87,88,88,89,90,90,91,92,92,93,94,94,95,96,96,97,98,98,99,"
     ]
    }
   ],
   "metadata": {}
  },
  {
   "cell_type": "code",
   "execution_count": null,
   "source": [
    "list = []\r\n",
    "for i in range(0, 100):\r\n",
    " \r\n",
    "    if (i % 2 == 0) and (i % 3 == 0):\r\n",
    "        print(i, end = ',')\r\n",
    "    else:\r\n",
    "        print(\"\", end = ',')"
   ],
   "outputs": [
    {
     "output_type": "stream",
     "name": "stdout",
     "text": [
      "0,,,,,,6,,,,,,12,,,,,,18,,,,,,24,,,,,,30,,,,,,36,,,,,,42,,,,,,48,,,,,,54,,,,,,60,,,,,,66,,,,,,72,,,,,,78,,,,,,84,,,,,,90,,,,,,96,,,,"
     ]
    }
   ],
   "metadata": {}
  },
  {
   "cell_type": "code",
   "execution_count": null,
   "source": [
    "a = 0\r\n",
    "while a < 100:\r\n",
    "    a = a + 1\r\n",
    "    if a % 2 ==0:\r\n",
    "        print(a, \"2'ye bölünür\", end = ',')\r\n",
    "    if a % 3 == 0:\r\n",
    "        print(a, \"3'e bölünür\", end = ',')\r\n",
    "    "
   ],
   "outputs": [
    {
     "output_type": "stream",
     "name": "stdout",
     "text": [
      "2 2'ye bölünür,3 3'e bölünür,4 2'ye bölünür,6 2'ye bölünür,6 3'e bölünür,8 2'ye bölünür,9 3'e bölünür,10 2'ye bölünür,12 2'ye bölünür,12 3'e bölünür,14 2'ye bölünür,15 3'e bölünür,16 2'ye bölünür,18 2'ye bölünür,18 3'e bölünür,20 2'ye bölünür,21 3'e bölünür,22 2'ye bölünür,24 2'ye bölünür,24 3'e bölünür,26 2'ye bölünür,27 3'e bölünür,28 2'ye bölünür,30 2'ye bölünür,30 3'e bölünür,32 2'ye bölünür,33 3'e bölünür,34 2'ye bölünür,36 2'ye bölünür,36 3'e bölünür,38 2'ye bölünür,39 3'e bölünür,40 2'ye bölünür,42 2'ye bölünür,42 3'e bölünür,44 2'ye bölünür,45 3'e bölünür,46 2'ye bölünür,48 2'ye bölünür,48 3'e bölünür,50 2'ye bölünür,51 3'e bölünür,52 2'ye bölünür,54 2'ye bölünür,54 3'e bölünür,56 2'ye bölünür,57 3'e bölünür,58 2'ye bölünür,60 2'ye bölünür,60 3'e bölünür,62 2'ye bölünür,63 3'e bölünür,64 2'ye bölünür,66 2'ye bölünür,66 3'e bölünür,68 2'ye bölünür,69 3'e bölünür,70 2'ye bölünür,72 2'ye bölünür,72 3'e bölünür,74 2'ye bölünür,75 3'e bölünür,76 2'ye bölünür,78 2'ye bölünür,78 3'e bölünür,80 2'ye bölünür,81 3'e bölünür,82 2'ye bölünür,84 2'ye bölünür,84 3'e bölünür,86 2'ye bölünür,87 3'e bölünür,88 2'ye bölünür,90 2'ye bölünür,90 3'e bölünür,92 2'ye bölünür,93 3'e bölünür,94 2'ye bölünür,96 2'ye bölünür,96 3'e bölünür,98 2'ye bölünür,99 3'e bölünür,100 2'ye bölünür,"
     ]
    }
   ],
   "metadata": {}
  },
  {
   "cell_type": "markdown",
   "source": [
    "# 8) 0 ile 100 sayısı arasında 4 e bölünen sayıları listeleyen programın python kodlarını yazınız"
   ],
   "metadata": {}
  },
  {
   "cell_type": "code",
   "execution_count": null,
   "source": [
    "list = []\r\n",
    "for i in range(0, 100):\r\n",
    "    if i % 4 == 0:\r\n",
    "        list.append(i)\r\n",
    "        print(i, end = ',')"
   ],
   "outputs": [
    {
     "output_type": "stream",
     "name": "stdout",
     "text": [
      "4,8,12,16,20,24,28,32,36,40,44,48,52,56,60,64,68,72,76,80,84,88,92,96,100,"
     ]
    }
   ],
   "metadata": {}
  },
  {
   "cell_type": "markdown",
   "source": [
    "# 9) 1 den 100 e kadar olan sayıları toplayan programın python kodlarını yazınız. NOT: BUNU YAPAMADIM"
   ],
   "metadata": {}
  },
  {
   "cell_type": "code",
   "execution_count": null,
   "source": [
    "for i in range(1, 101):\r\n",
    "    i.sum()\r\n",
    "    i = i + 1\r\n",
    "    print(i)"
   ],
   "outputs": [
    {
     "output_type": "error",
     "ename": "AttributeError",
     "evalue": "'int' object has no attribute 'sum'",
     "traceback": [
      "\u001b[1;31m---------------------------------------------------------------------------\u001b[0m",
      "\u001b[1;31mAttributeError\u001b[0m                            Traceback (most recent call last)",
      "\u001b[1;32m<ipython-input-10-9a89d6207620>\u001b[0m in \u001b[0;36m<module>\u001b[1;34m\u001b[0m\n\u001b[0;32m      1\u001b[0m \u001b[1;32mfor\u001b[0m \u001b[0mi\u001b[0m \u001b[1;32min\u001b[0m \u001b[0mrange\u001b[0m\u001b[1;33m(\u001b[0m\u001b[1;36m1\u001b[0m\u001b[1;33m,\u001b[0m \u001b[1;36m101\u001b[0m\u001b[1;33m)\u001b[0m\u001b[1;33m:\u001b[0m\u001b[1;33m\u001b[0m\u001b[1;33m\u001b[0m\u001b[0m\n\u001b[1;32m----> 2\u001b[1;33m     \u001b[0mi\u001b[0m\u001b[1;33m.\u001b[0m\u001b[0msum\u001b[0m\u001b[1;33m(\u001b[0m\u001b[1;33m)\u001b[0m\u001b[1;33m\u001b[0m\u001b[1;33m\u001b[0m\u001b[0m\n\u001b[0m\u001b[0;32m      3\u001b[0m     \u001b[0mi\u001b[0m \u001b[1;33m=\u001b[0m \u001b[0mi\u001b[0m \u001b[1;33m+\u001b[0m \u001b[1;36m1\u001b[0m\u001b[1;33m\u001b[0m\u001b[1;33m\u001b[0m\u001b[0m\n\u001b[0;32m      4\u001b[0m     \u001b[0mprint\u001b[0m\u001b[1;33m(\u001b[0m\u001b[0mi\u001b[0m\u001b[1;33m)\u001b[0m\u001b[1;33m\u001b[0m\u001b[1;33m\u001b[0m\u001b[0m\n",
      "\u001b[1;31mAttributeError\u001b[0m: 'int' object has no attribute 'sum'"
     ]
    }
   ],
   "metadata": {}
  },
  {
   "cell_type": "code",
   "execution_count": null,
   "source": [
    "a = 0\r\n",
    "toplam = 0\r\n",
    "while a < 100:\r\n",
    "    a = a + 1\r\n",
    "    toplam = toplam + a\r\n",
    "    print(toplam, end = ',')"
   ],
   "outputs": [
    {
     "output_type": "stream",
     "name": "stdout",
     "text": [
      "1,3,6,10,15,21,28,36,45,55,66,78,91,105,120,136,153,171,190,210,231,253,276,300,325,351,378,406,435,465,496,528,561,595,630,666,703,741,780,820,861,903,946,990,1035,1081,1128,1176,1225,1275,1326,1378,1431,1485,1540,1596,1653,1711,1770,1830,1891,1953,2016,2080,2145,2211,2278,2346,2415,2485,2556,2628,2701,2775,2850,2926,3003,3081,3160,3240,3321,3403,3486,3570,3655,3741,3828,3916,4005,4095,4186,4278,4371,4465,4560,4656,4753,4851,4950,5050,"
     ]
    }
   ],
   "metadata": {}
  },
  {
   "cell_type": "markdown",
   "source": [
    "# 10) Suyun derecesi sorulan kullanıcıdan alınan bilgiye göre su buz mu sıvı mı yoksa buhar halde mi ekranda gösteren programın python kodlarını yazınız."
   ],
   "metadata": {}
  },
  {
   "cell_type": "code",
   "execution_count": null,
   "source": [
    "derece = int(input(\"Suyun sıcaklığınını giriniz: \"))\r\n",
    "if derece  < 0:\r\n",
    "    print(\"Buz\")\r\n",
    "elif 0 < derece < 100:\r\n",
    "    print(\"Sıvı\")\r\n",
    "else:\r\n",
    "    print(\"Buhar\")"
   ],
   "outputs": [
    {
     "output_type": "stream",
     "name": "stdout",
     "text": [
      "Suyun sıcaklığınını giriniz: 102\n",
      "Buhar\n"
     ]
    }
   ],
   "metadata": {}
  },
  {
   "cell_type": "markdown",
   "source": [
    "# 11) 1 den 100 e kadar olan tek sayıları sıralayan programın python kodlarını yazınız."
   ],
   "metadata": {}
  },
  {
   "cell_type": "code",
   "execution_count": null,
   "source": [
    "for i in range(1, 101):\r\n",
    "    if i % 2 != 0:\r\n",
    "        print(i, end =',')"
   ],
   "outputs": [
    {
     "output_type": "stream",
     "name": "stdout",
     "text": [
      "1,3,5,7,9,11,13,15,17,19,21,23,25,27,29,31,33,35,37,39,41,43,45,47,49,51,53,55,57,59,61,63,65,67,69,71,73,75,77,79,81,83,85,87,89,91,93,95,97,99,"
     ]
    }
   ],
   "metadata": {}
  },
  {
   "cell_type": "code",
   "execution_count": null,
   "source": [
    "a =1 \r\n",
    "while a < 99:\r\n",
    "    a = a + 2\r\n",
    "    print(a, end =',')"
   ],
   "outputs": [
    {
     "output_type": "stream",
     "name": "stdout",
     "text": [
      "3,5,7,9,11,13,15,17,19,21,23,25,27,29,31,33,35,37,39,41,43,45,47,49,51,53,55,57,59,61,63,65,67,69,71,73,75,77,79,81,83,85,87,89,91,93,95,97,99,"
     ]
    }
   ],
   "metadata": {}
  },
  {
   "cell_type": "markdown",
   "source": [
    "# 12) 1 den 100 e kadar çift sayıları sıralayan programın python kodlarını yazınız."
   ],
   "metadata": {}
  },
  {
   "cell_type": "code",
   "execution_count": null,
   "source": [
    "a =0 \r\n",
    "while a < 100:\r\n",
    "    a = a + 2\r\n",
    "    print(a, end =',')"
   ],
   "outputs": [
    {
     "output_type": "stream",
     "name": "stdout",
     "text": [
      "2,4,6,8,10,12,14,16,18,20,22,24,26,28,30,32,34,36,38,40,42,44,46,48,50,52,54,56,58,60,62,64,66,68,70,72,74,76,78,80,82,84,86,88,90,92,94,96,98,100,"
     ]
    }
   ],
   "metadata": {}
  },
  {
   "cell_type": "code",
   "execution_count": null,
   "source": [
    "for i in range(1, 101):\r\n",
    "    if i % 2 == 0:\r\n",
    "        print(i, end =',')"
   ],
   "outputs": [
    {
     "output_type": "stream",
     "name": "stdout",
     "text": [
      "2,4,6,8,10,12,14,16,18,20,22,24,26,28,30,32,34,36,38,40,42,44,46,48,50,52,54,56,58,60,62,64,66,68,70,72,74,76,78,80,82,84,86,88,90,92,94,96,98,100,"
     ]
    }
   ],
   "metadata": {}
  },
  {
   "cell_type": "markdown",
   "source": [
    "# 13) Girilen 5 sayıdan en büyüğünü gösteren programın python kodlarını yazınız."
   ],
   "metadata": {}
  },
  {
   "cell_type": "code",
   "execution_count": null,
   "source": [
    "num1 = int(input(\"num1'i yaz: \"))\r\n",
    "num2 = int(input(\"num2'i yaz: \"))\r\n",
    "num3 = int(input(\"num3'i yaz: \"))\r\n",
    "num4 = int(input(\"num4'i yaz: \"))\r\n",
    "num5 = int(input(\"num5'i yaz: \"))\r\n",
    "if (num1 > num2) and (num1 > num3) and (num1 > num4) and (num1 > num5): \r\n",
    "    print(num1, \"is the biggest number\")\r\n",
    "\r\n",
    "elif (num2 > num1) and (num2 > num3) and (num2 > num4) and (num2 > num5): \r\n",
    "    print(num2, \"is the biggest number\")\r\n",
    "\r\n",
    "elif (num3 > num1) and (num3 > num2) and (num3 > num4) and (num3 > num5): \r\n",
    "    print(num3, \"is the biggest number\")\r\n",
    "\r\n",
    "elif (num4 > num1) and (num4 > num2) and (num4 > num3) and (num4 > num5): \r\n",
    "    print(num4, \"is the biggest number\")\r\n",
    "\r\n",
    "elif (num5 > num1) and (num5 > num2) and (num5 > num3) and (num5 > num4): \r\n",
    "    print(num5, \"is the biggest number\")\r\n"
   ],
   "outputs": [
    {
     "output_type": "stream",
     "name": "stdout",
     "text": [
      "num1'i yaz: 15\n",
      "num2'i yaz: 53\n",
      "num3'i yaz: 75\n",
      "num4'i yaz: 32\n",
      "num5'i yaz: 41\n",
      "75 is the biggest number\n"
     ]
    }
   ],
   "metadata": {}
  },
  {
   "cell_type": "markdown",
   "source": [
    "# 14) Kullanıcının girdiği ismin kaç harfli olduğunu bulan programın python kodlarını yazınız."
   ],
   "metadata": {}
  },
  {
   "cell_type": "code",
   "execution_count": null,
   "source": [
    "isim= input(\"Adınız<ı giriniz: \")\r\n",
    "print(len(isim))"
   ],
   "outputs": [
    {
     "output_type": "stream",
     "name": "stdout",
     "text": [
      "Adınız<ı giriniz: Muhammet\n",
      "8\n"
     ]
    }
   ],
   "metadata": {}
  },
  {
   "cell_type": "markdown",
   "source": [
    "# 15) Kullanıcının istediği sınıra kadar çift sayıları sıralayan programın python kodlarını yazınız ( Örneğin kullanıcı 300 e kadar olan çift sayıları sıralamak istiyorsa nasıl kod yazmalıdır?)\n",
    "## NOTE: 1 DEN SAYIYA KADAR YAPILDIĞINA DİKKAT ET."
   ],
   "metadata": {}
  },
  {
   "cell_type": "code",
   "execution_count": null,
   "source": [
    "sayı = int(input(\"Sayı giriniz: \"))\r\n",
    "for sayı in range (1, sayı):\r\n",
    "    if sayı % 2 == 0:\r\n",
    "        print(sayı, end = ',')\r\n",
    "    \r\n",
    "        "
   ],
   "outputs": [
    {
     "output_type": "stream",
     "name": "stdout",
     "text": [
      "Sayı giriniz: 300\n",
      "2,4,6,8,10,12,14,16,18,20,22,24,26,28,30,32,34,36,38,40,42,44,46,48,50,52,54,56,58,60,62,64,66,68,70,72,74,76,78,80,82,84,86,88,90,92,94,96,98,100,102,104,106,108,110,112,114,116,118,120,122,124,126,128,130,132,134,136,138,140,142,144,146,148,150,152,154,156,158,160,162,164,166,168,170,172,174,176,178,180,182,184,186,188,190,192,194,196,198,200,202,204,206,208,210,212,214,216,218,220,222,224,226,228,230,232,234,236,238,240,242,244,246,248,250,252,254,256,258,260,262,264,266,268,270,272,274,276,278,280,282,284,286,288,290,292,294,296,298,"
     ]
    }
   ],
   "metadata": {}
  },
  {
   "cell_type": "markdown",
   "source": [
    "# 16) Basit bir hesap makinesini python kodları kullanarak yapınız."
   ],
   "metadata": {}
  },
  {
   "cell_type": "code",
   "execution_count": null,
   "source": [
    "a = int(input(\" Birinci sayıyı giriniz: \"))\r\n",
    "b = int(input(\" İkinci sayıyı giriniz: \"))\r\n",
    "d = input(\"Hangi işlemi yapmak istiyorsunuz: \")\r\n",
    "if  d == '*':\r\n",
    "    print(a * b)\r\n",
    "elif d == '+':\r\n",
    "    print(a + b)\r\n",
    "elif d == '-':\r\n",
    "    print(a - b)\r\n",
    "elif d == '/':\r\n",
    "    print(a / b)\r\n",
    "else:\r\n",
    "    print('yanlış tuşa bastınız')"
   ],
   "outputs": [
    {
     "output_type": "stream",
     "name": "stdout",
     "text": [
      " Birinci sayıyı giriniz: 16\n",
      " İkinci sayıyı giriniz: 2\n",
      "Hangi işlemi yapmak istiyorsunuz: /\n",
      "8.0\n"
     ]
    }
   ],
   "metadata": {}
  },
  {
   "cell_type": "markdown",
   "source": [
    "# 17) Klavyeden girilen herhangi bir sayının mutlak değerini hesaplayan python kodlarını yazınız."
   ],
   "metadata": {}
  },
  {
   "cell_type": "code",
   "execution_count": null,
   "source": [
    "# 18. Write a Python program which accepts the radius of a circle from the user and compute the area.\r\n",
    "from math import pi\r\n",
    "r = float(input (\"Input the radius of the circle : \"))\r\n",
    "print (\"The area of the circle with radius \" + str(r) + \" is: \" + str(pi * r**2))"
   ],
   "outputs": [
    {
     "output_type": "stream",
     "name": "stdout",
     "text": [
      "The area of the circle with radius 4.0 is: 50.26548245743669\n"
     ]
    }
   ],
   "metadata": {}
  },
  {
   "cell_type": "code",
   "execution_count": null,
   "source": [
    "# Write a Python program which accepts the user's first and last name and print them in reverse order with a space between them.\r\n",
    "fname = input(\"Input your First Name : \")\r\n",
    "lname = input(\"Input your Last Name : \")\r\n",
    "print (\"Hello  \" + lname + \" \" + fname)"
   ],
   "outputs": [
    {
     "output_type": "stream",
     "name": "stdout",
     "text": [
      "Hello  dfgdfg gdfg\n"
     ]
    }
   ],
   "metadata": {}
  },
  {
   "cell_type": "code",
   "execution_count": null,
   "source": [
    "# Write a Python program which accepts a sequence of comma-separated numbers from user and generate a list and a tuple with those numbers.\r\n",
    "values = input(\"Input some comma seprated numbers : \")\r\n",
    "list = values.split(\",\")\r\n",
    "print('List : ',list)\r\n",
    "tuple = tuple(list)\r\n",
    "print('Tuple : ',tuple)"
   ],
   "outputs": [
    {
     "output_type": "stream",
     "name": "stdout",
     "text": [
      "List :  ['3', '7', '23', '16']\n",
      "Tuple :  ('3', '7', '23', '16')\n"
     ]
    }
   ],
   "metadata": {}
  },
  {
   "cell_type": "code",
   "execution_count": null,
   "source": [
    "# Write a Python program to display the first and last colors from the following list.\r\n",
    "color_list = [\"Red\",\"Green\",\"White\" ,\"Black\"]\r\n",
    "print( \"%s %s\"%(color_list[0],color_list[-1]))\r\n",
    "# Write a Python program to display the first and last colors from the following list.\r\n",
    "color_list = [\"Red\",\"Green\",\"White\" ,\"Black\"]\r\n",
    "print(color_list[0],color_list[-1])"
   ],
   "outputs": [
    {
     "output_type": "stream",
     "name": "stdout",
     "text": [
      "Red Black\n",
      "Red Black\n"
     ]
    }
   ],
   "metadata": {}
  },
  {
   "cell_type": "code",
   "execution_count": null,
   "source": [
    "from math import pi\r\n",
    "r = float(input (\"Input the radius of the circle : \"))\r\n",
    "print (\"The area of the circle with radius \" + str(r) + \" is: \" + str(pi * r**2))"
   ],
   "outputs": [
    {
     "output_type": "stream",
     "name": "stdout",
     "text": [
      "The area of the circle with radius 5.0 is: 78.53981633974483\n"
     ]
    }
   ],
   "metadata": {}
  },
  {
   "cell_type": "code",
   "execution_count": null,
   "source": [
    "# Write a Python program to display the examination schedule. (extract the date from exam_st_date).\r\n",
    "# exam_st_date = (11, 12, 2014)\r\n",
    "# Sample Output: The examination will start from : 11 / 12 / 2014\r\n",
    "\r\n",
    "exam_st_date = (11,12,2014)\r\n",
    "print( \"The examination will start from : %i / %i / %i\"%exam_st_date)"
   ],
   "outputs": [],
   "metadata": {}
  },
  {
   "cell_type": "code",
   "execution_count": 26,
   "source": [
    "# Write a Python program that accepts an integer (n) and computes the value of n+nn+nnn. Sample value of n is 5, Expected Result : 615\r\n",
    "a = int(input(\"Input an integer : \"))\r\n",
    "n1 = int( \"%s\" % a )\r\n",
    "n2 = int( \"%s%s\" % (a,a) )\r\n",
    "n3 = int( \"%s%s%s\" % (a,a,a) )\r\n",
    "print (n1+n2+n3)"
   ],
   "outputs": [
    {
     "output_type": "stream",
     "name": "stdout",
     "text": [
      "615\n"
     ]
    }
   ],
   "metadata": {}
  },
  {
   "cell_type": "code",
   "execution_count": 27,
   "source": [
    "# Write a Python program to print the documents (syntax, description etc.) of Python built-in function(s). Sample function: abs()\r\n",
    "print(abs.__doc__)"
   ],
   "outputs": [
    {
     "output_type": "stream",
     "name": "stdout",
     "text": [
      "Return the absolute value of the argument.\n"
     ]
    }
   ],
   "metadata": {}
  },
  {
   "cell_type": "code",
   "execution_count": 28,
   "source": [
    "# Write a Python program to print the calendar of a given month and year. Note: Use 'calendar' module.\r\n",
    "import calendar\r\n",
    "y = int(input(\"Input the year : \"))\r\n",
    "m = int(input(\"Input the month : \"))\r\n",
    "print(calendar.month(y, m))"
   ],
   "outputs": [
    {
     "output_type": "stream",
     "name": "stdout",
     "text": [
      "    August 2021\n",
      "Mo Tu We Th Fr Sa Su\n",
      "                   1\n",
      " 2  3  4  5  6  7  8\n",
      " 9 10 11 12 13 14 15\n",
      "16 17 18 19 20 21 22\n",
      "23 24 25 26 27 28 29\n",
      "30 31\n",
      "\n"
     ]
    }
   ],
   "metadata": {}
  },
  {
   "cell_type": "code",
   "execution_count": 29,
   "source": [
    "# Write a Python program to print the following 'here document'.\r\n",
    "\r\n",
    "# Sample string:\r\n",
    "# a string that you \"don't\" have to escape\r\n",
    "# This\r\n",
    "# is a ....... multi-line\r\n",
    "# heredoc string --------> example\r\n",
    "print(\"\"\"\r\n",
    "a string that you \"don't\" have to escape\r\n",
    "This\r\n",
    "is a  ....... multi-line\r\n",
    "heredoc string --------> example\r\n",
    "\"\"\")"
   ],
   "outputs": [
    {
     "output_type": "stream",
     "name": "stdout",
     "text": [
      "\n",
      "a string that you \"don't\" have to escape\n",
      "This\n",
      "is a  ....... multi-line\n",
      "heredoc string --------> example\n",
      "\n"
     ]
    }
   ],
   "metadata": {}
  },
  {
   "cell_type": "code",
   "execution_count": 30,
   "source": [
    "# Write a Python program to calculate number of days between two dates.\r\n",
    "from datetime import date\r\n",
    "f_date = date(2014, 7, 2)\r\n",
    "l_date = date(2014, 7, 11)\r\n",
    "delta = l_date - f_date\r\n",
    "print(delta.days)"
   ],
   "outputs": [
    {
     "output_type": "stream",
     "name": "stdout",
     "text": [
      "9\n"
     ]
    }
   ],
   "metadata": {}
  },
  {
   "cell_type": "code",
   "execution_count": 31,
   "source": [
    "# Get the volume of a sphere with radius 6\r\n",
    "pi = 3.1415926535897931\r\n",
    "r= 6.0\r\n",
    "V= 4.0/3.0*pi* r**3\r\n",
    "print('The volume of the sphere is: ',V)\r\n"
   ],
   "outputs": [
    {
     "output_type": "stream",
     "name": "stdout",
     "text": [
      "The volume of the sphere is:  904.7786842338603\n"
     ]
    }
   ],
   "metadata": {}
  },
  {
   "cell_type": "code",
   "execution_count": 32,
   "source": [
    "# Write a Python program to get the difference between a given number and 17, if the number is greater than 17 return double the absolute difference.\r\n",
    "def difference(n):\r\n",
    "    if n <= 17:\r\n",
    "        return 17 - n\r\n",
    "    else:\r\n",
    "        return (n - 17) * 2 \r\n",
    "\r\n",
    "print(difference(22))\r\n",
    "print(difference(14))"
   ],
   "outputs": [
    {
     "output_type": "stream",
     "name": "stdout",
     "text": [
      "10\n",
      "3\n"
     ]
    }
   ],
   "metadata": {}
  },
  {
   "cell_type": "markdown",
   "source": [
    "Write a Python program to test whether a number is within 100 of 1000 or 2000. "
   ],
   "metadata": {}
  },
  {
   "cell_type": "code",
   "execution_count": 5,
   "source": [
    "def near_thousand(n):\r\n",
    "\t      return ((abs(1000 - n) <= 100) or (abs(2000 - n) <= 100))\r\n",
    "print(near_thousand(1000))\r\n",
    "print(near_thousand(900))\r\n",
    "print(near_thousand(800))   \r\n",
    "print(near_thousand(2200))"
   ],
   "outputs": [
    {
     "output_type": "stream",
     "name": "stdout",
     "text": [
      "True\n",
      "True\n",
      "False\n",
      "False\n"
     ]
    }
   ],
   "metadata": {}
  },
  {
   "cell_type": "markdown",
   "source": [
    "Write a Python program to calculate the sum of three given numbers, if the values are equal then return three times of their sum."
   ],
   "metadata": {}
  },
  {
   "cell_type": "code",
   "execution_count": 6,
   "source": [
    "def sum_thrice(x, y, z):\r\n",
    "\r\n",
    "     sum = x + y + z\r\n",
    "  \r\n",
    "     if x == y == z:\r\n",
    "      sum = sum * 3\r\n",
    "     return sum\r\n",
    "\r\n",
    "print(sum_thrice(1, 2, 3))\r\n",
    "print(sum_thrice(3, 3, 3))"
   ],
   "outputs": [
    {
     "output_type": "stream",
     "name": "stdout",
     "text": [
      "6\n",
      "27\n"
     ]
    }
   ],
   "metadata": {}
  },
  {
   "cell_type": "code",
   "execution_count": 9,
   "source": [
    "def sum_thrice(x, y, z):\r\n",
    "\r\n",
    "     sum = x + y + z\r\n",
    "  \r\n",
    "     if x == y == z:\r\n",
    "      sum = sum * 3\r\n",
    "     else:\r\n",
    "         return sum\r\n",
    "\r\n",
    "print(sum_thrice(1, 2, 3))\r\n",
    "print(sum_thrice(3, 3, 3))"
   ],
   "outputs": [
    {
     "output_type": "stream",
     "name": "stdout",
     "text": [
      "6\n",
      "None\n"
     ]
    }
   ],
   "metadata": {}
  },
  {
   "cell_type": "code",
   "execution_count": 10,
   "source": [
    "def nums(num1, num2, num3):\r\n",
    "    if num1 == num2 == num3:\r\n",
    "        return sum(num1 + num2 + num3)\r\n",
    "    else:\r\n",
    "        return print(\"nums aren't equal\")\r\n",
    "\r\n",
    "print(sum_thrice(1, 2, 3))\r\n",
    "print(sum_thrice(3, 3, 3))"
   ],
   "outputs": [
    {
     "output_type": "stream",
     "name": "stdout",
     "text": [
      "6\n",
      "None\n"
     ]
    }
   ],
   "metadata": {}
  },
  {
   "cell_type": "markdown",
   "source": [
    "Write a Python program to get a new string from a given string where \"Is\" has been added to the front. If the given string already begins with \"Is\" then return the string unchanged."
   ],
   "metadata": {}
  },
  {
   "cell_type": "markdown",
   "source": [
    "Write a Python program to get a new string from a given string where \"Is\" has been added to the front. If the given string already begins with \"Is\" then return the string unchanged."
   ],
   "metadata": {}
  },
  {
   "cell_type": "code",
   "execution_count": 11,
   "source": [
    "def new_string(str):\r\n",
    "  if len(str) >= 2 and str[:2] == \"Is\":\r\n",
    "    return str\r\n",
    "  return \"Is\" + str\r\n",
    "\r\n",
    "print(new_string(\"Array\"))\r\n",
    "print(new_string(\"IsEmpty\"))"
   ],
   "outputs": [
    {
     "output_type": "stream",
     "name": "stdout",
     "text": [
      "IsArray\n",
      "IsEmpty\n"
     ]
    }
   ],
   "metadata": {}
  },
  {
   "cell_type": "markdown",
   "source": [
    "Write a Python program to get a string which is n (non-negative integer) copies of a given string."
   ],
   "metadata": {}
  },
  {
   "cell_type": "code",
   "execution_count": 12,
   "source": [
    "def larger_string(str, n):\r\n",
    "   result = \"\"\r\n",
    "   for i in range(n):\r\n",
    "      result = result + str\r\n",
    "   return result\r\n",
    "\r\n",
    "print(larger_string('abc', 2))\r\n",
    "print(larger_string('.py', 3))"
   ],
   "outputs": [
    {
     "output_type": "stream",
     "name": "stdout",
     "text": [
      "abcabc\n",
      ".py.py.py\n"
     ]
    }
   ],
   "metadata": {}
  },
  {
   "cell_type": "markdown",
   "source": [
    "Write a Python program to find whether a given number (accept from the user) is even or odd, print out an appropriate message to the user."
   ],
   "metadata": {}
  },
  {
   "cell_type": "code",
   "execution_count": 13,
   "source": [
    "num = int(input(\"Enter a number: \"))\r\n",
    "mod = num % 2\r\n",
    "if mod > 0:\r\n",
    "    print(\"This is an odd number.\")\r\n",
    "else:\r\n",
    "    print(\"This is an even number.\")"
   ],
   "outputs": [
    {
     "output_type": "stream",
     "name": "stdout",
     "text": [
      "This is an odd number.\n"
     ]
    }
   ],
   "metadata": {}
  },
  {
   "cell_type": "markdown",
   "source": [
    "Write a Python program to count the number 4 in a given list."
   ],
   "metadata": {}
  },
  {
   "cell_type": "code",
   "execution_count": 14,
   "source": [
    "def list_count_4(nums):\r\n",
    "  count = 0  \r\n",
    "  for num in nums:\r\n",
    "    if num == 4:\r\n",
    "      count = count + 1\r\n",
    "\r\n",
    "  return count\r\n",
    "\r\n",
    "print(list_count_4([1, 4, 6, 7, 4]))\r\n",
    "print(list_count_4([1, 4, 6, 4, 7, 4]))"
   ],
   "outputs": [
    {
     "output_type": "stream",
     "name": "stdout",
     "text": [
      "2\n",
      "3\n"
     ]
    }
   ],
   "metadata": {}
  },
  {
   "cell_type": "markdown",
   "source": [
    "Write a Python program to get the n (non-negative integer) copies of the first 2 characters of a given string. Return the n copies of the whole string if the length is less than 2."
   ],
   "metadata": {}
  },
  {
   "cell_type": "code",
   "execution_count": 15,
   "source": [
    "def substring_copy(str, n):\r\n",
    "  flen = 2\r\n",
    "  if flen > len(str):\r\n",
    "    flen = len(str)\r\n",
    "  substr = str[:flen]\r\n",
    "  \r\n",
    "  result = \"\"\r\n",
    "  for i in range(n):\r\n",
    "    result = result + substr\r\n",
    "  return result\r\n",
    "print(substring_copy('abcdef', 2))\r\n",
    "print(substring_copy('p', 3));"
   ],
   "outputs": [
    {
     "output_type": "stream",
     "name": "stdout",
     "text": [
      "abab\n",
      "ppp\n"
     ]
    }
   ],
   "metadata": {}
  },
  {
   "cell_type": "markdown",
   "source": [
    " Write a Python program to test whether a passed letter is a vowel or not. "
   ],
   "metadata": {}
  },
  {
   "cell_type": "code",
   "execution_count": 2,
   "source": [
    "def is_vowel(char):\r\n",
    "    all_vowels = 'aeiou'\r\n",
    "    return char in all_vowels\r\n",
    "print(is_vowel('c'))\r\n",
    "print(is_vowel('e'))"
   ],
   "outputs": [
    {
     "output_type": "stream",
     "name": "stdout",
     "text": [
      "False\n",
      "True\n"
     ]
    }
   ],
   "metadata": {}
  },
  {
   "cell_type": "markdown",
   "source": [
    " Write a Python program to check whether a specified value is contained in a group of values. Go to the editor\r\n",
    "Test Data :\r\n",
    "3 -> [1, 5, 8, 3] : True\r\n",
    "-1 -> [1, 5, 8, 3] : False"
   ],
   "metadata": {}
  },
  {
   "cell_type": "code",
   "execution_count": 1,
   "source": [
    "def is_group_member(group_data, n):\r\n",
    "   for value in group_data:\r\n",
    "       if n == value:\r\n",
    "           return True\r\n",
    "   return False\r\n",
    "print(is_group_member([1, 5, 8, 3], 3))\r\n",
    "print(is_group_member([5, 8, 3], -1))"
   ],
   "outputs": [
    {
     "output_type": "stream",
     "name": "stdout",
     "text": [
      "True\n",
      "False\n"
     ]
    }
   ],
   "metadata": {}
  },
  {
   "cell_type": "code",
   "execution_count": 3,
   "source": [
    "def is_group_member(group_data, n):\r\n",
    " return n in group_data\r\n",
    "print(is_group_member([1, 5, 8, 3], 3))\r\n",
    "print(is_group_member([5, 8, 3], -1))"
   ],
   "outputs": [
    {
     "output_type": "stream",
     "name": "stdout",
     "text": [
      "True\n",
      "False\n"
     ]
    }
   ],
   "metadata": {}
  },
  {
   "cell_type": "code",
   "execution_count": 5,
   "source": [
    "def check_num(lst, n):\r\n",
    "    return n in lst\r\n",
    "print (check_num([1, 5, 8, 3], int(input(\"Search if your number is in here: \" ))))"
   ],
   "outputs": [
    {
     "output_type": "stream",
     "name": "stdout",
     "text": [
      "False\n"
     ]
    }
   ],
   "metadata": {}
  },
  {
   "cell_type": "code",
   "execution_count": 6,
   "source": [
    "def check(x,y):\r\n",
    "    return y in x\r\n",
    "\r\n",
    "print(check([1, 5, 8, 3], -1))"
   ],
   "outputs": [
    {
     "output_type": "stream",
     "name": "stdout",
     "text": [
      "False\n"
     ]
    }
   ],
   "metadata": {}
  },
  {
   "cell_type": "code",
   "execution_count": 7,
   "source": [
    "import re\r\n",
    "x=input(\"Enter a word:\")\r\n",
    "z=input(\"Enter a word:\")\r\n",
    "if re.findall(x,z): print(\"contain \")\r\n",
    "else:print(\"Does not contain\")"
   ],
   "outputs": [
    {
     "output_type": "stream",
     "name": "stdout",
     "text": [
      "Does not contain\n"
     ]
    }
   ],
   "metadata": {}
  },
  {
   "cell_type": "code",
   "execution_count": 9,
   "source": [
    "def check(n,lst):\r\n",
    "    return n in lst\r\n",
    "\r\n",
    "print(check(5,[1, 5, 8, 3]))"
   ],
   "outputs": [
    {
     "output_type": "stream",
     "name": "stdout",
     "text": [
      "True\n"
     ]
    }
   ],
   "metadata": {}
  },
  {
   "cell_type": "code",
   "execution_count": 10,
   "source": [
    "l=list(input('enter your list:'))\r\n",
    "v=input('enter your value:')\r\n",
    "if v in l :print(True)\r\n",
    "else:print(False)"
   ],
   "outputs": [
    {
     "output_type": "stream",
     "name": "stdout",
     "text": [
      "False\n"
     ]
    }
   ],
   "metadata": {}
  },
  {
   "cell_type": "code",
   "execution_count": 11,
   "source": [
    "number = int(input(\"Please enter a number: \"))\r\n",
    "test_data = input(\"Please enter the test data\")\r\n",
    "print('{}'.format(number) in test_data)"
   ],
   "outputs": [
    {
     "output_type": "stream",
     "name": "stdout",
     "text": [
      "True\n"
     ]
    }
   ],
   "metadata": {}
  },
  {
   "cell_type": "code",
   "execution_count": 12,
   "source": [
    "data = input(\"entr data :\")\r\n",
    "print(input(\"enter the value : \") in data)"
   ],
   "outputs": [
    {
     "output_type": "stream",
     "name": "stdout",
     "text": [
      "True\n"
     ]
    }
   ],
   "metadata": {}
  },
  {
   "cell_type": "code",
   "execution_count": 13,
   "source": [
    "gp=[1, 5, 8, 3]\r\n",
    "print(gp.__contains__(-1))\r\n",
    "print(5 in gp)"
   ],
   "outputs": [
    {
     "output_type": "stream",
     "name": "stdout",
     "text": [
      "False\n",
      "True\n"
     ]
    }
   ],
   "metadata": {}
  },
  {
   "cell_type": "markdown",
   "source": [
    "Write a Python program to create a histogram from a given list of integers."
   ],
   "metadata": {}
  },
  {
   "cell_type": "markdown",
   "source": [
    "24"
   ],
   "metadata": {}
  },
  {
   "cell_type": "code",
   "execution_count": 18,
   "source": [
    "def histogram( items ):\r\n",
    "    for n in items:\r\n",
    "        output = ''\r\n",
    "        times = n\r\n",
    "        while( times > 0 ):\r\n",
    "          output += '*'\r\n",
    "          times = times - 1\r\n",
    "        print(output)\r\n",
    "\r\n",
    "histogram([2, 3, 6, 5])"
   ],
   "outputs": [
    {
     "output_type": "stream",
     "name": "stdout",
     "text": [
      "**\n",
      "***\n",
      "******\n",
      "*****\n"
     ]
    }
   ],
   "metadata": {}
  },
  {
   "cell_type": "markdown",
   "source": [
    "Write a Python program to concatenate all elements in a list into a string and return it."
   ],
   "metadata": {}
  },
  {
   "cell_type": "code",
   "execution_count": 19,
   "source": [
    "def concatenate_list_data(list):\r\n",
    "    result= ''\r\n",
    "    for element in list:\r\n",
    "        result += str(element)\r\n",
    "    return result\r\n",
    "\r\n",
    "print(concatenate_list_data([1, 5, 12, 2]))"
   ],
   "outputs": [
    {
     "output_type": "stream",
     "name": "stdout",
     "text": [
      "15122\n"
     ]
    }
   ],
   "metadata": {}
  },
  {
   "cell_type": "code",
   "execution_count": 25,
   "source": [
    "list1 = ['1', '2', '3', 4, 5]\r\n",
    "str1 = ''.join(str(e) for e in list1)\r\n",
    "print(str1)"
   ],
   "outputs": [
    {
     "output_type": "stream",
     "name": "stdout",
     "text": [
      "12345\n"
     ]
    }
   ],
   "metadata": {}
  },
  {
   "cell_type": "code",
   "execution_count": 26,
   "source": [
    "def concatenate_string(list):\r\n",
    "    for i in list:\r\n",
    "        r = str(i)\r\n",
    "        print(r, end='')\r\n",
    "\r\n",
    "concatenate_string([1, 2, 4, 5])"
   ],
   "outputs": [
    {
     "output_type": "stream",
     "name": "stdout",
     "text": [
      "1245"
     ]
    }
   ],
   "metadata": {}
  },
  {
   "cell_type": "code",
   "execution_count": 31,
   "source": [
    "from string import punctuation\r\n",
    "from string import whitespace\r\n",
    "def conca(lis):\r\n",
    "    lis = str(lis)\r\n",
    "    for c in punctuation:\r\n",
    "        lis = lis.replace(c, '')\r\n",
    "    for i in whitespace:\r\n",
    "        lis = lis.replace(i ,'')\r\n",
    "    return lis\r\n",
    "\r\n",
    "print(conca([1, 2, 4, 5, 6]))"
   ],
   "outputs": [
    {
     "output_type": "stream",
     "name": "stdout",
     "text": [
      "12456\n"
     ]
    }
   ],
   "metadata": {}
  },
  {
   "cell_type": "code",
   "execution_count": 32,
   "source": [
    "anylist = ['hola', 'que', 'tal', 'como estas']\r\n",
    "join_list = ', '.join(anylist)\r\n",
    "print(join_list)"
   ],
   "outputs": [
    {
     "output_type": "stream",
     "name": "stdout",
     "text": [
      "hola, que, tal, como estas\n"
     ]
    }
   ],
   "metadata": {}
  },
  {
   "cell_type": "code",
   "execution_count": 34,
   "source": [
    "elements = list(input(\"Write down all the elements you want to *join* separated by a *,* without spaces: \").split(\",\"))\r\n",
    "\r\n",
    "print(\"\".join(elements))"
   ],
   "outputs": [
    {
     "output_type": "stream",
     "name": "stdout",
     "text": [
      "kutfrhy\n"
     ]
    }
   ],
   "metadata": {}
  },
  {
   "cell_type": "code",
   "execution_count": 41,
   "source": [
    "def concat(list):\r\n",
    "    string = ''\r\n",
    "    return string.join(list)\r\n",
    "concat(['1','2','3','4','5'])"
   ],
   "outputs": [
    {
     "output_type": "execute_result",
     "data": {
      "text/plain": [
       "'12345'"
      ]
     },
     "metadata": {},
     "execution_count": 41
    }
   ],
   "metadata": {}
  },
  {
   "cell_type": "code",
   "execution_count": 43,
   "source": [
    "def join(lst):\r\n",
    "    for i in lst:\r\n",
    "        print(i, end='')\r\n",
    "join([1, 5, 8, 23])"
   ],
   "outputs": [
    {
     "output_type": "stream",
     "name": "stdout",
     "text": [
      "15823"
     ]
    }
   ],
   "metadata": {}
  },
  {
   "cell_type": "code",
   "execution_count": 44,
   "source": [
    "def concatenate(*lst):\r\n",
    "    string=\"\"\r\n",
    "    for itm in lst:\r\n",
    "        string+=str(itm)\r\n",
    "    return string\r\n",
    "print(concatenate(2,3,4,5,6,1,2,3))"
   ],
   "outputs": [
    {
     "output_type": "stream",
     "name": "stdout",
     "text": [
      "23456123\n"
     ]
    }
   ],
   "metadata": {}
  },
  {
   "cell_type": "code",
   "execution_count": 49,
   "source": [
    "def concate_list_items(items):\r\n",
    "    output = ''\r\n",
    "    for item in items:\r\n",
    "        output += f'{item} '\r\n",
    "    return output\r\n",
    "\r\n",
    "print(concate_list_items(['vineet', 'scored', 98.5, 'out', 'of', 100]))"
   ],
   "outputs": [
    {
     "output_type": "stream",
     "name": "stdout",
     "text": [
      "vineet scored 98.5 out of 100 \n"
     ]
    }
   ],
   "metadata": {}
  },
  {
   "cell_type": "code",
   "execution_count": 50,
   "source": [
    "f= lambda li : \"\".join(str(i) for i in li)\r\n",
    "print(f(['Ali', 'is', 'a',2,3,5, 'boy']))"
   ],
   "outputs": [
    {
     "output_type": "stream",
     "name": "stdout",
     "text": [
      "Aliisa235boy\n"
     ]
    }
   ],
   "metadata": {}
  },
  {
   "cell_type": "code",
   "execution_count": 51,
   "source": [
    "x = ''\r\n",
    "for i in [5, 8, 9, 6, 3, 4, 8, 4]:\r\n",
    "    x += str(i)\r\n",
    "print(x)"
   ],
   "outputs": [
    {
     "output_type": "stream",
     "name": "stdout",
     "text": [
      "58963484\n"
     ]
    }
   ],
   "metadata": {}
  },
  {
   "cell_type": "code",
   "execution_count": 52,
   "source": [
    "x=[5,8,9,6]\r\n",
    "print(*x,sep=\"\")"
   ],
   "outputs": [
    {
     "output_type": "stream",
     "name": "stdout",
     "text": [
      "5896\n"
     ]
    }
   ],
   "metadata": {}
  },
  {
   "cell_type": "code",
   "execution_count": 53,
   "source": [
    "lst = [1, 2, 3, 4, 5]\r\n",
    "print(''.join(str(x) for x in lst))"
   ],
   "outputs": [
    {
     "output_type": "stream",
     "name": "stdout",
     "text": [
      "12345\n"
     ]
    }
   ],
   "metadata": {}
  },
  {
   "cell_type": "code",
   "execution_count": 54,
   "source": [
    "print(' '.join(list(input().split(' , '))))"
   ],
   "outputs": [
    {
     "output_type": "stream",
     "name": "stdout",
     "text": [
      "gdfgf,dfgdsfsd,fgfgfdgfd\n"
     ]
    }
   ],
   "metadata": {}
  },
  {
   "cell_type": "code",
   "execution_count": 55,
   "source": [
    "for i in 1,3,4,5,6:print(i,end=\"\")"
   ],
   "outputs": [
    {
     "output_type": "stream",
     "name": "stdout",
     "text": [
      "13456"
     ]
    }
   ],
   "metadata": {}
  },
  {
   "cell_type": "code",
   "execution_count": 68,
   "source": [
    "list1 = [1,5,1,12]\r\n",
    "my_str = ''.join(map(str,list1))\r\n",
    "print(my_str)"
   ],
   "outputs": [
    {
     "output_type": "stream",
     "name": "stdout",
     "text": [
      "15112\n"
     ]
    }
   ],
   "metadata": {}
  },
  {
   "cell_type": "code",
   "execution_count": 69,
   "source": [
    "list = [\"1\", \"5\", \"12\", \"2\"]\r\n",
    "print(\"\".join(list))"
   ],
   "outputs": [
    {
     "output_type": "stream",
     "name": "stdout",
     "text": [
      "15122\n"
     ]
    }
   ],
   "metadata": {}
  },
  {
   "cell_type": "code",
   "execution_count": 70,
   "source": [
    "from random import sample\r\n",
    "l = sample(range(10), 5)\r\n",
    "print('This is the list I want to concatenate {}'.format(l))\r\n",
    "print(''.join([str(i) for i in l]))"
   ],
   "outputs": [
    {
     "output_type": "stream",
     "name": "stdout",
     "text": [
      "This is the list I want to concatenate [8, 1, 9, 7, 6]\n",
      "81976\n"
     ]
    }
   ],
   "metadata": {}
  },
  {
   "cell_type": "markdown",
   "source": [
    "Write a Python program to print out all even numbers from a given numbers list in the same order and stop the printing if any numbers that come after 237 in the sequence.\r\n",
    "\r\n",
    "Sample numbers list:\r\n",
    "\r\n",
    "numbers = [    \r\n",
    "    386, 462, 47, 418, 907, 344, 236, 375, 823, 566, 597, 978, 328, 615, 953, 345, \r\n",
    "    399, 162, 758, 219, 918, 237, 412, 566, 826, 248, 866, 950, 626, 949, 687, 217, \r\n",
    "    815, 67, 104, 58, 512, 24, 892, 894, 767, 553, 81, 379, 843, 831, 445, 742, 717, \r\n",
    "    958,743, 527"
   ],
   "metadata": {}
  },
  {
   "cell_type": "code",
   "execution_count": 71,
   "source": [
    "numbers = [    \r\n",
    "    386, 462, 47, 418, 907, 344, 236, 375, 823, 566, 597, 978, 328, 615, 953, 345, \r\n",
    "    399, 162, 758, 219, 918, 237, 412, 566, 826, 248, 866, 950, 626, 949, 687, 217, \r\n",
    "    815, 67, 104, 58, 512, 24, 892, 894, 767, 553, 81, 379, 843, 831, 445, 742, 717, \r\n",
    "    958,743, 527\r\n",
    "    ]\r\n",
    "\r\n",
    "for x in numbers:\r\n",
    "    if x == 237:\r\n",
    "        print(x)\r\n",
    "        break;\r\n",
    "    elif x % 2 == 0:\r\n",
    "        print(x)"
   ],
   "outputs": [
    {
     "output_type": "stream",
     "name": "stdout",
     "text": [
      "386\n",
      "462\n",
      "418\n",
      "344\n",
      "236\n",
      "566\n",
      "978\n",
      "328\n",
      "162\n",
      "758\n",
      "918\n",
      "237\n"
     ]
    }
   ],
   "metadata": {}
  },
  {
   "cell_type": "code",
   "execution_count": 75,
   "source": [
    "def a(num):\r\n",
    "    for i in range(len(num)):\r\n",
    "        if num[i]!=237 & num[i]%2==0:\r\n",
    "            print(num[i])\r\n",
    "        elif num[i]==237:\r\n",
    "            break\r\n",
    "\r\n",
    "num = [386, 462, 47, 418, 907, 344, 236, 375, 823, 566, 597, 978, 328, 615, 953, 345, 399, 162, 758, 219, 918, 237, 412, 566, 826, 248, 866, 950, 626, 949, 687, 217, 815, 67, 104, 58, 512, 24, 892, 894, 767, 553, 81, 379, 843, 831, 445, 742, 717, 958,743, 527]\r\n",
    "\r\n",
    "a(num)"
   ],
   "outputs": [
    {
     "output_type": "stream",
     "name": "stdout",
     "text": [
      "386\n",
      "462\n",
      "418\n",
      "344\n",
      "236\n",
      "566\n",
      "978\n",
      "328\n",
      "162\n",
      "758\n",
      "918\n"
     ]
    }
   ],
   "metadata": {}
  },
  {
   "cell_type": "code",
   "execution_count": 78,
   "source": [
    "for num in sorted(numbers):\r\n",
    "    if num%2 == 0 and num < 237:\r\n",
    "        print(num);"
   ],
   "outputs": [
    {
     "output_type": "stream",
     "name": "stdout",
     "text": [
      "24\n",
      "58\n",
      "104\n",
      "162\n",
      "236\n"
     ]
    }
   ],
   "metadata": {}
  },
  {
   "cell_type": "markdown",
   "source": [
    "Write a Python program to print out a set containing all the colors from color_list_1 which are not present in color_list_2. Go to the editor\r\n",
    "Test Data :\r\n",
    "color_list_1 = set([\"White\", \"Black\", \"Red\"])\r\n",
    "color_list_2 = set([\"Red\", \"Green\"])\r\n",
    "Expected Output :\r\n",
    "{'Black', 'White'}"
   ],
   "metadata": {}
  },
  {
   "cell_type": "code",
   "execution_count": 79,
   "source": [
    "color_list_1 = set([\"White\", \"Black\", \"Red\"])\r\n",
    "color_list_2 = set([\"Red\", \"Green\"])\r\n",
    "print(\"Original set elements:\")\r\n",
    "print(color_list_1)\r\n",
    "print(color_list_2)\r\n",
    "print(\"\\nDifferenct of color_list_1 and color_list_2:\")\r\n",
    "print(color_list_1.difference(color_list_2))\r\n",
    "print(\"\\nDifferenct of color_list_2 and color_list_1:\")\r\n",
    "print(color_list_2.difference(color_list_1))"
   ],
   "outputs": [
    {
     "output_type": "stream",
     "name": "stdout",
     "text": [
      "Original set elements:\n",
      "{'Red', 'Black', 'White'}\n",
      "{'Red', 'Green'}\n",
      "\n",
      "Differenct of color_list_1 and color_list_2:\n",
      "{'Black', 'White'}\n",
      "\n",
      "Differenct of color_list_2 and color_list_1:\n",
      "{'Green'}\n"
     ]
    }
   ],
   "metadata": {}
  },
  {
   "cell_type": "code",
   "execution_count": 80,
   "source": [
    "color_list_1 = set([\"White\", \"Black\", \"Red\"])\r\n",
    "color_list_2 = set([\"Red\", \"Green\"])\r\n",
    "print(color_list_1-color_list_2)"
   ],
   "outputs": [
    {
     "output_type": "stream",
     "name": "stdout",
     "text": [
      "{'Black', 'White'}\n"
     ]
    }
   ],
   "metadata": {}
  },
  {
   "cell_type": "code",
   "execution_count": 82,
   "source": [
    "for item in color_list_1:\r\n",
    "    if item not in color_list_2:\r\n",
    "        print (item)"
   ],
   "outputs": [
    {
     "output_type": "stream",
     "name": "stdout",
     "text": [
      "Black\n",
      "White\n"
     ]
    }
   ],
   "metadata": {}
  },
  {
   "cell_type": "code",
   "execution_count": 83,
   "source": [
    "color_list_1 = set([\"White\", \"Black\", \"Red\"])\r\n",
    "color_list_2 = set([\"Red\", \"Green\"])\r\n",
    "print(set([i for i in color_list_1 if i not in color_list_2]))"
   ],
   "outputs": [
    {
     "output_type": "stream",
     "name": "stdout",
     "text": [
      "{'Black', 'White'}\n"
     ]
    }
   ],
   "metadata": {}
  },
  {
   "cell_type": "code",
   "execution_count": 84,
   "source": [
    "color_list_1 = set([\"White\", \"Black\", \"Red\"])\r\n",
    "color_list_2 = set([\"Red\", \"Green\"])\r\n",
    "\r\n",
    "for x in set(color_list_1):\r\n",
    "    for y in set(color_list_2):\r\n",
    "        if y in x:\r\n",
    "            color_list_1.remove(x)\r\n",
    "print('Opção 2 - ', color_list_1)"
   ],
   "outputs": [
    {
     "output_type": "stream",
     "name": "stdout",
     "text": [
      "Opção 2 -  {'Black', 'White'}\n"
     ]
    }
   ],
   "metadata": {}
  },
  {
   "cell_type": "code",
   "execution_count": 86,
   "source": [
    "color1 = set([\"White\", \"Black\", \"Red\"])\r\n",
    "color2 = set([\"Red\", \"Green\"])\r\n",
    "\r\n",
    "for i in color1:\r\n",
    "    test = i in color2\r\n",
    "if test == False:\r\n",
    "    print(i)"
   ],
   "outputs": [
    {
     "output_type": "stream",
     "name": "stdout",
     "text": [
      "White\n"
     ]
    }
   ],
   "metadata": {}
  },
  {
   "cell_type": "code",
   "execution_count": 87,
   "source": [
    "c=set([\"White\", \"Black\", \"Red\"])\r\n",
    "c2=set([\"Red\", \"Green\"])\r\n",
    "print(c-c2)"
   ],
   "outputs": [
    {
     "output_type": "stream",
     "name": "stdout",
     "text": [
      "{'Black', 'White'}\n"
     ]
    }
   ],
   "metadata": {}
  },
  {
   "cell_type": "code",
   "execution_count": 88,
   "source": [
    "color_list_1 = set([\"White\", \"Black\", \"Red\"])\r\n",
    "color_list_2 = set([\"Red\", \"Green\"])\r\n",
    "\r\n",
    "print(set([color for color in color_list_1 if color not in color_list_2]))"
   ],
   "outputs": [
    {
     "output_type": "stream",
     "name": "stdout",
     "text": [
      "{'Black', 'White'}\n"
     ]
    }
   ],
   "metadata": {}
  },
  {
   "cell_type": "code",
   "execution_count": 89,
   "source": [
    "color_list_1 = set([\"White\", \"Black\", \"Red\"])\r\n",
    "color_list_2 = set([\"Red\", \"Green\"])\r\n",
    "print(f\"color_list_1 which are not present in color_list_2 is : {color_list_1-color_list_2}\")"
   ],
   "outputs": [
    {
     "output_type": "stream",
     "name": "stdout",
     "text": [
      "color_list_1 which are not present in color_list_2 is : {'Black', 'White'}\n"
     ]
    }
   ],
   "metadata": {}
  },
  {
   "cell_type": "code",
   "execution_count": 94,
   "source": [
    "a = set([\"White\", \"Black\", \"Red\"])\r\n",
    "b = set([\"Red\", \"Green\"])\r\n",
    "\r\n",
    "for col in a :\r\n",
    "    if col in b :\r\n",
    "        break\r\n",
    "    else:\r\n",
    "        print(col)"
   ],
   "outputs": [],
   "metadata": {}
  },
  {
   "cell_type": "code",
   "execution_count": 95,
   "source": [
    "a=color_list_1.intersection(color_list_2)\r\n",
    "print(color_list_1-a)"
   ],
   "outputs": [
    {
     "output_type": "stream",
     "name": "stdout",
     "text": [
      "{'Black', 'White'}\n"
     ]
    }
   ],
   "metadata": {}
  },
  {
   "cell_type": "markdown",
   "source": [
    "Write a Python program that will accept the base and height of a triangle and compute the area.\r\n",
    "\r\n",
    "Python: Area of a triangle\r\n",
    "\r\n",
    "A triangle is a polygon with three edges and three vertices. It is one of the basic shapes in geometry. A triangle with vertices A, B, and C is denoted triangle ABC.\r\n",
    "\r\n",
    "Vertex of a triangle: The point at which two sides of a triangle meet.\r\n",
    "Altitude of a triangle: The perpendicular segment from a vertex of a triangle to the line containing the opposite side.\r\n",
    "Base of a triangle: The side of a triangle to which an altitude is drawn.\r\n",
    "Height of a triangle: The length of an altitude.\r\n",
    "Python: Area of a triangle\r\n",
    "\r\n"
   ],
   "metadata": {}
  },
  {
   "cell_type": "code",
   "execution_count": 96,
   "source": [
    "b = int(input(\"Input the base : \"))\r\n",
    "h = int(input(\"Input the height : \"))\r\n",
    "\r\n",
    "area = b*h/2\r\n",
    "\r\n",
    "print(\"area = \", area)"
   ],
   "outputs": [
    {
     "output_type": "stream",
     "name": "stdout",
     "text": [
      "area =  17.5\n"
     ]
    }
   ],
   "metadata": {}
  },
  {
   "cell_type": "code",
   "execution_count": 97,
   "source": [
    "while True:\r\n",
    "    base = input(\"Input the base of the triangle in cm: \")\r\n",
    "    try:\r\n",
    "        base = float(base)\r\n",
    "        if base < 0:\r\n",
    "            print(\"Positive number please!\")\r\n",
    "            continue\r\n",
    "        break\r\n",
    "    except ValueError:\r\n",
    "        print(\"Not a number!\")\r\n",
    "        continue\r\n",
    "\r\n",
    "while True:\r\n",
    "    height = input(\"Input the height of the triangle in cm: \")\r\n",
    "    try:\r\n",
    "        height = float(height)\r\n",
    "        if height < 0:\r\n",
    "            print(\"Positive number please!\")\r\n",
    "            continue\r\n",
    "        break\r\n",
    "    except ValueError:\r\n",
    "        print(\"Not a number!\")\r\n",
    "        continue\r\n",
    "\r\n",
    "print(f\"La surface du triangle avec une base de {base} et une hauteur de {height} est égal à {0.5*base*height} cm2.\")"
   ],
   "outputs": [
    {
     "output_type": "stream",
     "name": "stdout",
     "text": [
      "La surface du triangle avec une base de 7.0 et une hauteur de 8.0 est égal à 28.0 cm2.\n"
     ]
    }
   ],
   "metadata": {}
  },
  {
   "cell_type": "code",
   "execution_count": 98,
   "source": [
    "def area(b,h):\r\n",
    "    return 1/2*b*h\r\n",
    "\r\n",
    "b=float(input('Enter base'))\r\n",
    "h=float(input('Enter height'))\r\n",
    "print(area(b,h))"
   ],
   "outputs": [
    {
     "output_type": "stream",
     "name": "stdout",
     "text": [
      "16.0\n"
     ]
    }
   ],
   "metadata": {}
  },
  {
   "cell_type": "code",
   "execution_count": 101,
   "source": [
    "def Area(base,height):\r\n",
    "    area = 1/2 * base * height\r\n",
    "    return \"The area of triangle is {}\".format(area)\r\n",
    "print(Area(12,10))"
   ],
   "outputs": [
    {
     "output_type": "stream",
     "name": "stdout",
     "text": [
      "The area of triangle is 60.0\n"
     ]
    }
   ],
   "metadata": {}
  },
  {
   "cell_type": "code",
   "execution_count": 102,
   "source": [
    "print(\"Area of triangle is \",(1/2)*(float(input(\"Enter base:\")))*(float(input(\"Enter height:\"))))"
   ],
   "outputs": [
    {
     "output_type": "stream",
     "name": "stdout",
     "text": [
      "Area of triangle is  31.5\n"
     ]
    }
   ],
   "metadata": {}
  },
  {
   "cell_type": "code",
   "execution_count": 103,
   "source": [
    "def areadef(b,h):\r\n",
    "\r\n",
    "    return (1/2*b*h)\r\n",
    "\r\n",
    "x =float(input(\"Enter Hight: \"))\r\n",
    "y = float(input(\"Enter Base: \"))\r\n",
    "print(areadef(x,y))"
   ],
   "outputs": [
    {
     "output_type": "stream",
     "name": "stdout",
     "text": [
      "14.0\n"
     ]
    }
   ],
   "metadata": {}
  },
  {
   "cell_type": "markdown",
   "source": [
    "Write a Python program to compute the greatest common divisor (GCD) of two positive integers.\r\n",
    "\r\n",
    "The greatest common divisor (GCD) of two nonzero integers a and b is the greatest positive integer d such that d is a divisor of both a and b; that is, there are integers e and f such that a = de and b = df, and d is the largest such integer. The GCD of a and b is generally denoted gcd(a, b)."
   ],
   "metadata": {}
  },
  {
   "cell_type": "code",
   "execution_count": 104,
   "source": [
    "def gcd(x, y):\r\n",
    "   gcd = 1   \r\n",
    "   if x % y == 0:\r\n",
    "       return y   \r\n",
    "   for k in range(int(y / 2), 0, -1):\r\n",
    "       if x % k == 0 and y % k == 0:\r\n",
    "           gcd = k\r\n",
    "           break \r\n",
    "   return gcd\r\n",
    "print(\"GCD of 12 & 17 =\",gcd(12, 17))\r\n",
    "print(\"GCD of 4 & 6 =\",gcd(4, 6))\r\n",
    "print(\"GCD of 336 & 360 =\",gcd(336, 360))"
   ],
   "outputs": [
    {
     "output_type": "stream",
     "name": "stdout",
     "text": [
      "GCD of 12 & 17 = 1\n",
      "GCD of 4 & 6 = 2\n",
      "GCD of 336 & 360 = 24\n"
     ]
    }
   ],
   "metadata": {}
  },
  {
   "cell_type": "code",
   "execution_count": 119,
   "source": [
    "def gcd(x, y):\r\n",
    "    z = x % y\r\n",
    "while z:\r\n",
    "    x = y\r\n",
    "    y = z\r\n",
    "    z = x % y\r\n",
    "return y\r\n",
    "print(\"GCD of 12 & 17 =\",gcd(12, 17))\r\n",
    "print(\"GCD of 4 & 6 =\",gcd(4, 6))\r\n",
    "print(\"GCD of 336 & 360 =\",gcd(336, 360))"
   ],
   "outputs": [
    {
     "output_type": "error",
     "ename": "TypeError",
     "evalue": "not all arguments converted during string formatting",
     "traceback": [
      "\u001b[1;31m---------------------------------------------------------------------------\u001b[0m",
      "\u001b[1;31mTypeError\u001b[0m                                 Traceback (most recent call last)",
      "\u001b[1;32m<ipython-input-119-22860f176e84>\u001b[0m in \u001b[0;36m<module>\u001b[1;34m\u001b[0m\n\u001b[0;32m      4\u001b[0m     \u001b[0mx\u001b[0m \u001b[1;33m=\u001b[0m \u001b[0my\u001b[0m\u001b[1;33m\u001b[0m\u001b[1;33m\u001b[0m\u001b[0m\n\u001b[0;32m      5\u001b[0m     \u001b[0my\u001b[0m \u001b[1;33m=\u001b[0m \u001b[0mz\u001b[0m\u001b[1;33m\u001b[0m\u001b[1;33m\u001b[0m\u001b[0m\n\u001b[1;32m----> 6\u001b[1;33m     \u001b[0mz\u001b[0m \u001b[1;33m=\u001b[0m \u001b[0mx\u001b[0m \u001b[1;33m%\u001b[0m \u001b[0my\u001b[0m\u001b[1;33m\u001b[0m\u001b[1;33m\u001b[0m\u001b[0m\n\u001b[0m\u001b[0;32m      7\u001b[0m \u001b[1;32mreturn\u001b[0m \u001b[0my\u001b[0m\u001b[1;33m\u001b[0m\u001b[1;33m\u001b[0m\u001b[0m\n\u001b[0;32m      8\u001b[0m \u001b[0mprint\u001b[0m\u001b[1;33m(\u001b[0m\u001b[1;34m\"GCD of 12 & 17 =\"\u001b[0m\u001b[1;33m,\u001b[0m\u001b[0mgcd\u001b[0m\u001b[1;33m(\u001b[0m\u001b[1;36m12\u001b[0m\u001b[1;33m,\u001b[0m \u001b[1;36m17\u001b[0m\u001b[1;33m)\u001b[0m\u001b[1;33m)\u001b[0m\u001b[1;33m\u001b[0m\u001b[1;33m\u001b[0m\u001b[0m\n",
      "\u001b[1;31mTypeError\u001b[0m: not all arguments converted during string formatting"
     ]
    }
   ],
   "metadata": {}
  },
  {
   "cell_type": "code",
   "execution_count": 120,
   "source": [
    "from functools import reduce\r\n",
    "from math import gcd as _gcd\r\n",
    "def gcd(nums):\r\n",
    "  return reduce(_gcd, nums)\r\n",
    "nums = [336, 360]\r\n",
    "print(\"GCD of\",','.join(str(e) for e in nums))\r\n",
    "print(gcd(nums))\r\n",
    "nums = [12, 17]\r\n",
    "print(\"GCD of\",','.join(str(e) for e in nums))\r\n",
    "print(gcd(nums))\r\n",
    "nums = [4, 6]\r\n",
    "print(\"GCD of\",','.join(str(e) for e in nums))\r\n",
    "print(gcd(nums))\r\n",
    "nums = [24, 30, 36]\r\n",
    "print(\"GCD of\",','.join(str(e) for e in nums))\r\n",
    "print(gcd(nums))"
   ],
   "outputs": [
    {
     "output_type": "stream",
     "name": "stdout",
     "text": [
      "GCD of 336,360\n",
      "24\n",
      "GCD of 12,17\n",
      "1\n",
      "GCD of 4,6\n",
      "2\n",
      "GCD of 24,30,36\n",
      "6\n"
     ]
    }
   ],
   "metadata": {}
  },
  {
   "cell_type": "code",
   "execution_count": null,
   "source": [
    "32"
   ],
   "outputs": [],
   "metadata": {}
  }
 ],
 "metadata": {
  "kernelspec": {
   "name": "python3",
   "display_name": "Python 3.8.8 64-bit ('base': conda)"
  },
  "language_info": {
   "codemirror_mode": {
    "name": "ipython",
    "version": 3
   },
   "file_extension": ".py",
   "mimetype": "text/x-python",
   "name": "python",
   "nbconvert_exporter": "python",
   "pygments_lexer": "ipython3",
   "version": "3.8.8"
  },
  "interpreter": {
   "hash": "37eb40c3388cfde35488e2d005b0d69ca91ddeff8a429754d4da636d3f888e5e"
  }
 },
 "nbformat": 4,
 "nbformat_minor": 5
}