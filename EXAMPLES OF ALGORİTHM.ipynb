{
 "cells": [
  {
   "cell_type": "markdown",
   "source": [
    "# Maximum Edge of a Triangle\n",
    "Create a function that finds the maximum range of a triangle's third edge, where the side lengths are all integers.\n",
    "\n",
    "Examples\n",
    "next_edge(8, 10) ➞ 17\n",
    "\n",
    "next_edge(5, 7) ➞ 11\n",
    "\n",
    "next_edge(9, 2) ➞ 10\n",
    "Notes\n",
    "(side1 + side2) - 1 = maximum range of third edge.\n",
    "The side lengths of the triangle are positive integers.\n",
    "Don't forget to return the result."
   ],
   "metadata": {}
  },
  {
   "cell_type": "code",
   "execution_count": 4,
   "source": [
    "def third_edge(a, b):\r\n",
    "    first_edge = int(input(\"enter the first_edge: \"))\r\n",
    "    second_edge = int(input(\"enter the second_edge: \"))\r\n",
    "    third_edge = (first_edge + second_edge) - 1\r\n",
    "    return(third_edge)\r\n",
    "third_edge(6, 8)\r\n",
    "    "
   ],
   "outputs": [
    {
     "output_type": "stream",
     "name": "stdout",
     "text": [
      "enter the first_edge: 9\n",
      "enter the second_edge: 2\n"
     ]
    },
    {
     "output_type": "execute_result",
     "data": {
      "text/plain": [
       "10"
      ]
     },
     "metadata": {},
     "execution_count": 4
    }
   ],
   "metadata": {}
  },
  {
   "cell_type": "markdown",
   "source": [
    "# The Farm Problem\n",
    "In this challenge, a farmer is asking you to tell him how many legs can be counted among all his animals. The farmer breeds three species:\n",
    "\n",
    "chickens = 2 legs\n",
    "cows = 4 legs\n",
    "pigs = 4 legs\n",
    "The farmer has counted his animals and he gives you a subtotal for each species. You have to implement a function that returns the total number of legs of all the animals.\n",
    "\n",
    "Examples\n",
    "animals(2, 3, 5) ➞ 36\n",
    "\n",
    "animals(1, 2, 3) ➞ 22\n",
    "\n",
    "animals(5, 2, 8) ➞ 50\n",
    "Notes\n",
    "Don't forget to return the result.\n",
    "The order of animals passed is animals(chickens, cows, pigs).\n",
    "Remember that the farmer wants to know the total number of legs and not the total number of animals."
   ],
   "metadata": {}
  },
  {
   "cell_type": "code",
   "execution_count": 22,
   "source": [
    "def legs(chickens, cows, pigs):\r\n",
    "    chickens = 2 \r\n",
    "    cows = 4 \r\n",
    "    pigs = 4 \r\n",
    "    chickens = int(input(\"enter the amount of chicken: \"))\r\n",
    "    cows = int(input(\"enter the amount of cows: \"))\r\n",
    "    pigs = int(input(\"enter the amount of pigs: \"))\r\n",
    "    total_leg = (chickens * 2) + (pigs * 4) + (cows * 4)\r\n",
    "    return(total_leg)\r\n",
    "legs(5, 7, 9)"
   ],
   "outputs": [
    {
     "output_type": "stream",
     "name": "stdout",
     "text": [
      "enter the amount of chicken: 5\n",
      "enter the amount of cows: 7\n",
      "enter the amount of pigs: 9\n"
     ]
    },
    {
     "output_type": "execute_result",
     "data": {
      "text/plain": [
       "74"
      ]
     },
     "metadata": {},
     "execution_count": 22
    }
   ],
   "metadata": {}
  },
  {
   "cell_type": "code",
   "execution_count": 21,
   "source": [
    "def animals(chickens, cows, pigs):\r\n",
    "\tchickenlegs = chickens * 2\r\n",
    "\tothers = (pigs + cows) * 4\r\n",
    "\treturn chickenlegs+others\r\n",
    "animals(5, 7, 9)"
   ],
   "outputs": [
    {
     "output_type": "execute_result",
     "data": {
      "text/plain": [
       "74"
      ]
     },
     "metadata": {},
     "execution_count": 21
    }
   ],
   "metadata": {}
  },
  {
   "cell_type": "code",
   "execution_count": 14,
   "source": [
    "def animals(chicken,cow,pig):\r\n",
    "  return chicken * 2 + (cow + pig) * 4\r\n",
    "animals(6, 8, 15)"
   ],
   "outputs": [
    {
     "output_type": "execute_result",
     "data": {
      "text/plain": [
       "104"
      ]
     },
     "metadata": {},
     "execution_count": 14
    }
   ],
   "metadata": {}
  },
  {
   "cell_type": "code",
   "execution_count": 17,
   "source": [
    "animals = lambda c, m, p: c * 2 + m * 4 + p * 4\r\n",
    "animals(5, 7, 9)"
   ],
   "outputs": [
    {
     "output_type": "execute_result",
     "data": {
      "text/plain": [
       "74"
      ]
     },
     "metadata": {},
     "execution_count": 17
    }
   ],
   "metadata": {}
  },
  {
   "cell_type": "code",
   "execution_count": 19,
   "source": [
    "animals = lambda c, m, p: c * 2 + (m + p) * 4\r\n",
    "animals(5, 7, 9)"
   ],
   "outputs": [
    {
     "output_type": "execute_result",
     "data": {
      "text/plain": [
       "74"
      ]
     },
     "metadata": {},
     "execution_count": 19
    }
   ],
   "metadata": {}
  },
  {
   "cell_type": "code",
   "execution_count": 18,
   "source": [
    "def animals(chickens, cows, pigs):\r\n",
    "\treturn (2 * chickens) + (4 * cows) + (4 * pigs)\r\n",
    "animals(5, 7, 12)"
   ],
   "outputs": [
    {
     "output_type": "execute_result",
     "data": {
      "text/plain": [
       "86"
      ]
     },
     "metadata": {},
     "execution_count": 18
    }
   ],
   "metadata": {}
  },
  {
   "cell_type": "markdown",
   "source": [
    "# Frames Per Second\n",
    "Create a function that returns the number of frames shown in a given number of minutes for a certain FPS.\n",
    "\n",
    "Examples\n",
    "frames(1, 1) ➞ 60\n",
    "\n",
    "frames(10, 1) ➞ 600\n",
    "\n",
    "frames(10, 25) ➞ 15000\n",
    "Notes\n",
    "FPS stands for \"frames per second\" and it's the number of frames a computer screen shows every second."
   ],
   "metadata": {}
  },
  {
   "cell_type": "code",
   "execution_count": 25,
   "source": [
    "def frames(a, b):\r\n",
    "    \r\n",
    "    frame1 = int(input(\"enter the the first frame amount: \"))\r\n",
    "    frame2 = int(input(\"enter the the second frame amount: \"))\r\n",
    "    frame = 60 * frame1 * frame2\r\n",
    "    print(frame)\r\n",
    "    \r\n",
    "frames(12, 15)"
   ],
   "outputs": [
    {
     "output_type": "stream",
     "name": "stdout",
     "text": [
      "enter the the first frame amount: 12\n",
      "enter the the second frame amount: 13\n",
      "9360\n"
     ]
    }
   ],
   "metadata": {}
  },
  {
   "cell_type": "code",
   "execution_count": 26,
   "source": [
    "def frames(minutes, fps):\r\n",
    "    return minutes * fps * 60\r\n",
    "frames(12, 13)"
   ],
   "outputs": [
    {
     "output_type": "execute_result",
     "data": {
      "text/plain": [
       "9360"
      ]
     },
     "metadata": {},
     "execution_count": 26
    }
   ],
   "metadata": {}
  },
  {
   "cell_type": "code",
   "execution_count": 27,
   "source": [
    "def frames(m, f): return m * 60 * f\r\n",
    "frames(12, 13)"
   ],
   "outputs": [
    {
     "output_type": "execute_result",
     "data": {
      "text/plain": [
       "9360"
      ]
     },
     "metadata": {},
     "execution_count": 27
    }
   ],
   "metadata": {}
  },
  {
   "cell_type": "code",
   "execution_count": null,
   "source": [
    "# Write a Python program to create a lambda function that adds 15 to a given number passed in as an argument, also create a lambda function that multiplies argument x with argument y and print the result.r"
   ],
   "outputs": [],
   "metadata": {}
  },
  {
   "cell_type": "code",
   "execution_count": 2,
   "source": [
    "r = lambda a : a + 15 \r\n",
    "print(r(10))\r\n",
    "r = lambda x, y: x * y\r\n",
    "print(r(12, 4))"
   ],
   "outputs": [
    {
     "output_type": "stream",
     "name": "stdout",
     "text": [
      "25\n",
      "48\n"
     ]
    }
   ],
   "metadata": {}
  },
  {
   "cell_type": "code",
   "execution_count": 6,
   "source": [
    "def multiply(num):\r\n",
    "    num1 = int(input(\"write a number: \"))\r\n",
    "    print(\"Double number of 15\", {0}.format(0), num * num1)"
   ],
   "outputs": [],
   "metadata": {}
  },
  {
   "cell_type": "code",
   "execution_count": 7,
   "source": [
    "def func_compute(n):\r\n",
    " return lambda x : x * n\r\n",
    "result = func_compute(2)\r\n",
    "print(\"Double the number of 15 =\", result(15))\r\n",
    "result = func_compute(3)\r\n",
    "print(\"Triple the number of 15 =\", result(15))\r\n",
    "result = func_compute(4)\r\n",
    "print(\"Quadruple the number of 15 =\", result(15))\r\n",
    "result = func_compute(5)\r\n",
    "print(\"Quintuple the number 15 =\", result(15))"
   ],
   "outputs": [
    {
     "output_type": "stream",
     "name": "stdout",
     "text": [
      "Double the number of 15 = 30\n",
      "Triple the number of 15 = 45\n",
      "Quadruple the number of 15 = 60\n",
      "Quintuple the number 15 = 75\n"
     ]
    }
   ],
   "metadata": {}
  }
 ],
 "metadata": {
  "kernelspec": {
   "name": "python3",
   "display_name": "Python 3.8.8 64-bit ('base': conda)"
  },
  "language_info": {
   "codemirror_mode": {
    "name": "ipython",
    "version": 3
   },
   "file_extension": ".py",
   "mimetype": "text/x-python",
   "name": "python",
   "nbconvert_exporter": "python",
   "pygments_lexer": "ipython3",
   "version": "3.8.8"
  },
  "interpreter": {
   "hash": "37eb40c3388cfde35488e2d005b0d69ca91ddeff8a429754d4da636d3f888e5e"
  }
 },
 "nbformat": 4,
 "nbformat_minor": 5
}